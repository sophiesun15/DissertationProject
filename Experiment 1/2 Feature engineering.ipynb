{
 "cells": [
  {
   "cell_type": "markdown",
   "metadata": {},
   "source": [
    "# Feature Engineering"
   ]
  },
  {
   "cell_type": "markdown",
   "metadata": {},
   "source": [
    "**Environment Setup**"
   ]
  },
  {
   "cell_type": "code",
   "execution_count": 1,
   "metadata": {},
   "outputs": [
    {
     "name": "stdout",
     "output_type": "stream",
     "text": [
      "\u001b[1m\n",
      "         .:::.     .::.       \n",
      "        ....yy:    .yy.       \n",
      "        :.  .yy.    y.        \n",
      "             :y:   .:         \n",
      "             .yy  .:          \n",
      "              yy..:           \n",
      "              :y:.            \n",
      "              .y.             \n",
      "             .:.              \n",
      "        ....:.                \n",
      "        :::.                  \n",
      "\u001b[0;33m\n",
      "• Project files and data should be stored in /project. This is shared among everyone\n",
      "  in the project.\n",
      "• Personal files and configuration should be stored in /home/faculty.\n",
      "• Files outside /project and /home/faculty will be lost when this server is terminated.\n",
      "• Create custom environments to setup your servers reproducibly.\n",
      "\u001b[0m\n",
      "Requirement already satisfied: spacy in /opt/anaconda/envs/Python3/lib/python3.6/site-packages (2.3.2)\n",
      "Requirement already satisfied: murmurhash<1.1.0,>=0.28.0 in /opt/anaconda/envs/Python3/lib/python3.6/site-packages (from spacy) (1.0.2)\n",
      "Requirement already satisfied: numpy>=1.15.0 in /opt/anaconda/envs/Python3/lib/python3.6/site-packages (from spacy) (1.18.5)\n",
      "Requirement already satisfied: setuptools in /opt/anaconda/envs/Python3/lib/python3.6/site-packages (from spacy) (49.2.0.post20200714)\n",
      "Requirement already satisfied: srsly<1.1.0,>=1.0.2 in /opt/anaconda/envs/Python3/lib/python3.6/site-packages (from spacy) (1.0.2)\n",
      "Requirement already satisfied: cymem<2.1.0,>=2.0.2 in /opt/anaconda/envs/Python3/lib/python3.6/site-packages (from spacy) (2.0.3)\n",
      "Requirement already satisfied: wasabi<1.1.0,>=0.4.0 in /opt/anaconda/envs/Python3/lib/python3.6/site-packages (from spacy) (0.8.0)\n",
      "Requirement already satisfied: blis<0.5.0,>=0.4.0 in /opt/anaconda/envs/Python3/lib/python3.6/site-packages (from spacy) (0.4.1)\n",
      "Requirement already satisfied: plac<1.2.0,>=0.9.6 in /opt/anaconda/envs/Python3/lib/python3.6/site-packages (from spacy) (1.1.3)\n",
      "Requirement already satisfied: requests<3.0.0,>=2.13.0 in /opt/anaconda/envs/Python3/lib/python3.6/site-packages (from spacy) (2.24.0)\n",
      "Requirement already satisfied: catalogue<1.1.0,>=0.0.7 in /opt/anaconda/envs/Python3/lib/python3.6/site-packages (from spacy) (1.0.0)\n",
      "Requirement already satisfied: preshed<3.1.0,>=3.0.2 in /opt/anaconda/envs/Python3/lib/python3.6/site-packages (from spacy) (3.0.2)\n",
      "Requirement already satisfied: thinc==7.4.1 in /opt/anaconda/envs/Python3/lib/python3.6/site-packages (from spacy) (7.4.1)\n",
      "Requirement already satisfied: tqdm<5.0.0,>=4.38.0 in /opt/anaconda/envs/Python3/lib/python3.6/site-packages (from spacy) (4.47.0)\n",
      "Requirement already satisfied: idna<3,>=2.5 in /opt/anaconda/envs/Python3/lib/python3.6/site-packages (from requests<3.0.0,>=2.13.0->spacy) (2.10)\n",
      "Requirement already satisfied: certifi>=2017.4.17 in /opt/anaconda/envs/Python3/lib/python3.6/site-packages (from requests<3.0.0,>=2.13.0->spacy) (2020.6.20)\n",
      "Requirement already satisfied: chardet<4,>=3.0.2 in /opt/anaconda/envs/Python3/lib/python3.6/site-packages (from requests<3.0.0,>=2.13.0->spacy) (3.0.4)\n",
      "Requirement already satisfied: urllib3!=1.25.0,!=1.25.1,<1.26,>=1.21.1 in /opt/anaconda/envs/Python3/lib/python3.6/site-packages (from requests<3.0.0,>=2.13.0->spacy) (1.25.9)\n",
      "Requirement already satisfied: importlib-metadata>=0.20; python_version < \"3.8\" in /opt/anaconda/envs/Python3/lib/python3.6/site-packages (from catalogue<1.1.0,>=0.0.7->spacy) (1.7.0)\n",
      "Requirement already satisfied: zipp>=0.5 in /opt/anaconda/envs/Python3/lib/python3.6/site-packages (from importlib-metadata>=0.20; python_version < \"3.8\"->catalogue<1.1.0,>=0.0.7->spacy) (3.1.0)\n",
      "\u001b[1m\n",
      "         .:::.     .::.       \n",
      "        ....yy:    .yy.       \n",
      "        :.  .yy.    y.        \n",
      "             :y:   .:         \n",
      "             .yy  .:          \n",
      "              yy..:           \n",
      "              :y:.            \n",
      "              .y.             \n",
      "             .:.              \n",
      "        ....:.                \n",
      "        :::.                  \n",
      "\u001b[0;33m\n",
      "• Project files and data should be stored in /project. This is shared among everyone\n",
      "  in the project.\n",
      "• Personal files and configuration should be stored in /home/faculty.\n",
      "• Files outside /project and /home/faculty will be lost when this server is terminated.\n",
      "• Create custom environments to setup your servers reproducibly.\n",
      "\u001b[0m\n",
      "Requirement already satisfied: xgboost in /opt/anaconda/envs/Python3/lib/python3.6/site-packages (1.2.0)\n",
      "Requirement already satisfied: numpy in /opt/anaconda/envs/Python3/lib/python3.6/site-packages (from xgboost) (1.18.5)\n",
      "Requirement already satisfied: scipy in /opt/anaconda/envs/Python3/lib/python3.6/site-packages (from xgboost) (1.5.0)\n"
     ]
    }
   ],
   "source": [
    "#Loading key libraries for later analysis\n",
    "import pandas as pd\n",
    "import numpy as np\n",
    "import matplotlib.pyplot as plt\n",
    "import seaborn as sns\n",
    "import re\n",
    "import time\n",
    "pd.set_option('max_colwidth', 1000)\n",
    "!pip install spacy\n",
    "!pip install xgboost\n",
    "import sklearn   \n",
    "import os\n",
    "import functions\n",
    "from statsmodels.tsa.stattools import kpss"
   ]
  },
  {
   "cell_type": "code",
   "execution_count": 2,
   "metadata": {},
   "outputs": [],
   "source": [
    "#Read in bank transactions\n",
    "df = pd.read_csv(r'final_df_full.csv',low_memory=False,encoding='latin1')"
   ]
  },
  {
   "cell_type": "code",
   "execution_count": 17,
   "metadata": {},
   "outputs": [],
   "source": [
    "#External resources\n",
    "currency = pd.read_csv(r'currency.csv',low_memory=False,encoding='latin1')\n",
    "directors = pd.read_csv(r'director names.csv',low_memory=False,encoding='latin1')\n",
    "financing = pd.read_csv(r'financing firms.csv',low_memory=False,encoding='latin1')"
   ]
  },
  {
   "cell_type": "code",
   "execution_count": 4,
   "metadata": {},
   "outputs": [
    {
     "data": {
      "text/plain": [
       "'/project'"
      ]
     },
     "execution_count": 4,
     "metadata": {},
     "output_type": "execute_result"
    }
   ],
   "source": [
    "import os\n",
    "os.getcwd()"
   ]
  },
  {
   "cell_type": "markdown",
   "metadata": {},
   "source": [
    "## 1. Numerical Feature Extraction"
   ]
  },
  {
   "cell_type": "markdown",
   "metadata": {},
   "source": [
    "#### Week of month"
   ]
  },
  {
   "cell_type": "code",
   "execution_count": 18,
   "metadata": {},
   "outputs": [],
   "source": [
    "#change date to datetime form for further analysis\n",
    "df['date'] = pd.to_datetime(df['date'])\n",
    "#get the dates of the date column\n",
    "df['date_only'] = df['date'].dt.day"
   ]
  },
  {
   "cell_type": "code",
   "execution_count": 20,
   "metadata": {},
   "outputs": [
    {
     "data": {
      "image/png": "[encoded data removed]",
      "text/plain": [
       "<Figure size 1080x288 with 1 Axes>"
      ]
     },
     "metadata": {
      "needs_background": "light"
     },
     "output_type": "display_data"
    }
   ],
   "source": [
    "#count the number of transactions per day\n",
    "trans_counts = df['date'].groupby(df['date']).count()\n",
    "\n",
    "#plot the graph to show frequency features \n",
    "def frequency(timeseries):\n",
    "    plt.figure(figsize=(15,4))\n",
    "    timeseries.plot(color='blue')\n",
    "    plt.legend(loc='best')\n",
    "    plt.title('Distribution of number of transactions per day')\n",
    "    plt.show()\n",
    "\n",
    "frequency(trans_counts)"
   ]
  },
  {
   "cell_type": "code",
   "execution_count": 21,
   "metadata": {},
   "outputs": [],
   "source": [
    "#create week of month variables\n",
    "df['week_of_month'] = df['date_only'].apply(lambda x: 1 if x <8 else x)\n",
    "df['week_of_month'] = df['week_of_month'].apply(lambda x: 2 if 8<= x <16 else x)\n",
    "df['week_of_month'] = df['week_of_month'].apply(lambda x: 3 if 16<= x <25 else x)\n",
    "df['week_of_month'] = df['week_of_month'].apply(lambda x: 4 if  x >=25 else x)"
   ]
  },
  {
   "cell_type": "code",
   "execution_count": 22,
   "metadata": {},
   "outputs": [
    {
     "data": {
      "text/plain": [
       "3    32067\n",
       "1    29876\n",
       "2    27970\n",
       "4    27137\n",
       "Name: week_of_month, dtype: int64"
      ]
     },
     "execution_count": 22,
     "metadata": {},
     "output_type": "execute_result"
    }
   ],
   "source": [
    "#check the number of transactions in each week \n",
    "df['week_of_month'].value_counts()"
   ]
  },
  {
   "cell_type": "code",
   "execution_count": 23,
   "metadata": {},
   "outputs": [],
   "source": [
    "#generate dummy variables\n",
    "df = df.join(pd.get_dummies(df['week_of_month'],prefix='week_of_month', prefix_sep='_', drop_first=True))"
   ]
  },
  {
   "cell_type": "markdown",
   "metadata": {},
   "source": [
    " "
   ]
  },
  {
   "cell_type": "markdown",
   "metadata": {},
   "source": [
    "**Features extracted from transaction descriptions**"
   ]
  },
  {
   "cell_type": "code",
   "execution_count": 25,
   "metadata": {},
   "outputs": [
    {
     "data": {
      "text/plain": [
       "'finished'"
      ]
     },
     "execution_count": 25,
     "metadata": {},
     "output_type": "execute_result"
    }
   ],
   "source": [
    "#Generate binary variables showing transactions containing foreign currencies and financing firm names\n",
    "def feature_foreign_currency(df1,df2,column):\n",
    "    functions.lowercase(df1,'code')\n",
    "    functions.lowercase(df1,'currency')\n",
    "    # Drop British Pounds\n",
    "    df1 = df1.drop(df1[df1['code'] == 'gbp'].index)\n",
    "    # Drop currencies that are no longer using\n",
    "    df1 = df1.drop(df1[df1['currency'].str.contains(r'\\(\\d', regex=True)].index)\n",
    "    # Remove the brackets\n",
    "    df1['currency'] = df1['currency'].str.split('\\(').str[0].str.strip()\n",
    "    #Form the regex patterns\n",
    "    df1['code'] = df1['code'].replace({r'(^.+)+( \\w*$)': r'\\d+(\\.\\d*)? ?(\\1)? ?\\2(s)?\\\\b'}, regex=True)\n",
    "    # Match the regex expressions\n",
    "    df1['code'] = r'(\\d+(\\.\\d*)? ?| )' + df1['code'] + r'\\b'\n",
    "    # Rplace the currency code and name by 'currency'\n",
    "    regex = '|'.join(df1['currency'])\n",
    "    regex = '|'.join(df1['code']) + regex\n",
    "    df2[column] = df2[column].replace(regex, ' currency ', regex=True)\n",
    "    return 'finished'\n",
    "\n",
    "def feature_financing_firms(df1,df2,column):\n",
    "    functions.lowercase(df1,'name')\n",
    "    #Form the regex patterns\n",
    "    df1['name'] = r'\\b' + df1['name'] + r'\\W'\n",
    "    # Replace the names by 'director'\n",
    "    regex = '|'.join(df1['name'])\n",
    "    df2[column] = df2[column].replace(regex, ' financing firm ', regex=True)\n",
    "    return 'finished'\n",
    "\n",
    "\n",
    "feature_foreign_currency(currency,df,'description')\n",
    "feature_financing_firms(financing,df,'description')"
   ]
  },
  {
   "cell_type": "code",
   "execution_count": 26,
   "metadata": {},
   "outputs": [
    {
     "data": {
      "text/plain": [
       "'finished'"
      ]
     },
     "execution_count": 26,
     "metadata": {},
     "output_type": "execute_result"
    }
   ],
   "source": [
    "#Generate numerical features when transaction containaing certain numbers\n",
    "#Bank Account number\n",
    "def feature_bank_acc_no(df1,column):\n",
    "    return df1[column].str.replace(r'\\b(\\d{6})( |)(\\d{8})\\W',' account ',regex=True)\n",
    "\n",
    "#HMRC vat tax number\n",
    "def feature_hmrc_vat(df1,column):\n",
    "    return df1[column].str.replace(r'\\b(vat|vat |vat  |\\s|000|vat 000|vat  000|)\\d{9}\\W',' vat ',regex=True)\n",
    "\n",
    "#HMRC corporation tax number\n",
    "def feature_hmrc_corp(df1,column):\n",
    "    return df1[column].str.replace(r'((cumb|cumb |cumbernauld |cumbernauld|ship|ship |shipley|shipley |cumb  |cumbernauld  |ship  |shipley  | )(?=.{3}[a-z]{2})(?=.*\\d{12})(?=.{0}\\d{3})?([a-z\\d]{17}))((?=.{3}([a-z]{2}))(?=.*\\d{12})(?=\\d{3})[a-z\\d]{17})|((cumb|cumb |cumbernauld |cumbernauld|ship|ship |shipley|shipley |cumb  |cumbernauld  |ship  |shipley  | )[a-z\\d]{17})\\W',' corporate tax ',regex=True)\n",
    "\n",
    "#HMRC Paye number\n",
    "def feature_hmrc_paye(df1,column):\n",
    "    return df1[column].str.replace(r'\\b(cumb|cumbernauld|cumb |cumbernauld |cumb  |cumbernauld  | )(?=.{3}[a-z]{2})(?=.*\\d{8})(?=.{0}\\d{3})[a-z\\d]{13}\\W',' paye ',regex=True)\n",
    "\n",
    "#Extract number features \n",
    "def feature_number_combine(df1,column):\n",
    "    df1[column] = feature_bank_acc_no(df1,column)\n",
    "    df1[column] = feature_hmrc_vat(df1,column)\n",
    "    df1[column] = feature_hmrc_corp(df1,column)\n",
    "    df1[column] = feature_hmrc_paye(df1,column)\n",
    "    return 'finished'\n",
    "\n",
    "feature_number_combine(df,'description')"
   ]
  },
  {
   "cell_type": "code",
   "execution_count": 27,
   "metadata": {},
   "outputs": [],
   "source": [
    "#create binary features\n",
    "\n",
    "df['foreign_binary'] = df['description'].str.contains('currency', regex=False).astype('int')\n",
    "df['financing_binary'] = df['description'].str.contains('financing firm', regex=False).astype('int')\n",
    "df['account_binary'] = df['description'].str.contains('account', regex=False).astype('int')\n",
    "df['hmrc_vat'] = df['description'].str.contains('vat', regex=False).astype('int')\n",
    "df['hmrc_corp'] = df['description'].str.contains('corporate tax', regex=False).astype('int')\n",
    "df['hmrc_paye'] = df['description'].str.contains('paye', regex=False).astype('int')"
   ]
  },
  {
   "cell_type": "markdown",
   "metadata": {},
   "source": [
    " "
   ]
  },
  {
   "cell_type": "code",
   "execution_count": 29,
   "metadata": {},
   "outputs": [],
   "source": [
    "#export dataframe for the second experiment: comparing the rate of performance of rule based and machine learning systems\n",
    "df.to_csv(r'df_postfeat_time_series_FINAL.csv',index = False)"
   ]
  },
  {
   "cell_type": "code",
   "execution_count": 31,
   "metadata": {},
   "outputs": [],
   "source": [
    "#export dataframe for the first experiment: classifying bank transactions \n",
    "df_ = functions.drop_column(df,'local_rule_creation_date')\n",
    "df_.to_csv(r'df_postfeat_no_direct_FINAL.csv',index = False)"
   ]
  },
  {
   "cell_type": "markdown",
   "metadata": {},
   "source": [
    " "
   ]
  },
  {
   "cell_type": "markdown",
   "metadata": {},
   "source": [
    " "
   ]
  }
 ],
 "metadata": {
  "kernelspec": {
   "display_name": "Python [default]",
   "language": "python",
   "name": "python3"
  },
  "language_info": {
   "codemirror_mode": {
    "name": "ipython",
    "version": 3
   },
   "file_extension": ".py",
   "mimetype": "text/x-python",
   "name": "python",
   "nbconvert_exporter": "python",
   "pygments_lexer": "ipython3",
   "version": "3.6.10"
  }
 },
 "nbformat": 4,
 "nbformat_minor": 2
}
