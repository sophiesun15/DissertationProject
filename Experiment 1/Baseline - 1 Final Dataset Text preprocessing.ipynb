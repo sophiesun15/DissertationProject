{
 "cells": [
  {
   "cell_type": "markdown",
   "metadata": {},
   "source": [
    "# Baseline - Part 1: Final Dataset Text Preprocessing & Representations "
   ]
  },
  {
   "cell_type": "markdown",
   "metadata": {},
   "source": [
    "**Environment Setup**"
   ]
  },
  {
   "cell_type": "code",
   "execution_count": 1,
   "metadata": {
    "scrolled": false
   },
   "outputs": [
    {
     "name": "stdout",
     "output_type": "stream",
     "text": [
      "\u001b[1m\n",
      "         .:::.     .::.       \n",
      "        ....yy:    .yy.       \n",
      "        :.  .yy.    y.        \n",
      "             :y:   .:         \n",
      "             .yy  .:          \n",
      "              yy..:           \n",
      "              :y:.            \n",
      "              .y.             \n",
      "             .:.              \n",
      "        ....:.                \n",
      "        :::.                  \n",
      "\u001b[0;33m\n",
      "• Project files and data should be stored in /project. This is shared among everyone\n",
      "  in the project.\n",
      "• Personal files and configuration should be stored in /home/faculty.\n",
      "• Files outside /project and /home/faculty will be lost when this server is terminated.\n",
      "• Create custom environments to setup your servers reproducibly.\n",
      "\u001b[0m\n",
      "Requirement already satisfied: spacy in /opt/anaconda/envs/Python3/lib/python3.6/site-packages (2.3.2)\n",
      "Requirement already satisfied: plac<1.2.0,>=0.9.6 in /opt/anaconda/envs/Python3/lib/python3.6/site-packages (from spacy) (1.1.3)\n",
      "Requirement already satisfied: cymem<2.1.0,>=2.0.2 in /opt/anaconda/envs/Python3/lib/python3.6/site-packages (from spacy) (2.0.3)\n",
      "Requirement already satisfied: srsly<1.1.0,>=1.0.2 in /opt/anaconda/envs/Python3/lib/python3.6/site-packages (from spacy) (1.0.2)\n",
      "Requirement already satisfied: requests<3.0.0,>=2.13.0 in /opt/anaconda/envs/Python3/lib/python3.6/site-packages (from spacy) (2.24.0)\n",
      "Requirement already satisfied: catalogue<1.1.0,>=0.0.7 in /opt/anaconda/envs/Python3/lib/python3.6/site-packages (from spacy) (1.0.0)\n",
      "Requirement already satisfied: blis<0.5.0,>=0.4.0 in /opt/anaconda/envs/Python3/lib/python3.6/site-packages (from spacy) (0.4.1)\n",
      "Requirement already satisfied: preshed<3.1.0,>=3.0.2 in /opt/anaconda/envs/Python3/lib/python3.6/site-packages (from spacy) (3.0.2)\n",
      "Requirement already satisfied: murmurhash<1.1.0,>=0.28.0 in /opt/anaconda/envs/Python3/lib/python3.6/site-packages (from spacy) (1.0.2)\n",
      "Requirement already satisfied: wasabi<1.1.0,>=0.4.0 in /opt/anaconda/envs/Python3/lib/python3.6/site-packages (from spacy) (0.7.1)\n",
      "Requirement already satisfied: tqdm<5.0.0,>=4.38.0 in /opt/anaconda/envs/Python3/lib/python3.6/site-packages (from spacy) (4.47.0)\n",
      "Requirement already satisfied: setuptools in /opt/anaconda/envs/Python3/lib/python3.6/site-packages (from spacy) (49.2.0.post20200714)\n",
      "Requirement already satisfied: numpy>=1.15.0 in /opt/anaconda/envs/Python3/lib/python3.6/site-packages (from spacy) (1.18.5)\n",
      "Requirement already satisfied: thinc==7.4.1 in /opt/anaconda/envs/Python3/lib/python3.6/site-packages (from spacy) (7.4.1)\n",
      "Requirement already satisfied: chardet<4,>=3.0.2 in /opt/anaconda/envs/Python3/lib/python3.6/site-packages (from requests<3.0.0,>=2.13.0->spacy) (3.0.4)\n",
      "Requirement already satisfied: idna<3,>=2.5 in /opt/anaconda/envs/Python3/lib/python3.6/site-packages (from requests<3.0.0,>=2.13.0->spacy) (2.10)\n",
      "Requirement already satisfied: certifi>=2017.4.17 in /opt/anaconda/envs/Python3/lib/python3.6/site-packages (from requests<3.0.0,>=2.13.0->spacy) (2020.6.20)\n",
      "Requirement already satisfied: urllib3!=1.25.0,!=1.25.1,<1.26,>=1.21.1 in /opt/anaconda/envs/Python3/lib/python3.6/site-packages (from requests<3.0.0,>=2.13.0->spacy) (1.25.9)\n",
      "Requirement already satisfied: importlib-metadata>=0.20; python_version < \"3.8\" in /opt/anaconda/envs/Python3/lib/python3.6/site-packages (from catalogue<1.1.0,>=0.0.7->spacy) (1.7.0)\n",
      "Requirement already satisfied: zipp>=0.5 in /opt/anaconda/envs/Python3/lib/python3.6/site-packages (from importlib-metadata>=0.20; python_version < \"3.8\"->catalogue<1.1.0,>=0.0.7->spacy) (3.1.0)\n",
      "\u001b[1m\n",
      "         .:::.     .::.       \n",
      "        ....yy:    .yy.       \n",
      "        :.  .yy.    y.        \n",
      "             :y:   .:         \n",
      "             .yy  .:          \n",
      "              yy..:           \n",
      "              :y:.            \n",
      "              .y.             \n",
      "             .:.              \n",
      "        ....:.                \n",
      "        :::.                  \n",
      "\u001b[0;33m\n",
      "• Project files and data should be stored in /project. This is shared among everyone\n",
      "  in the project.\n",
      "• Personal files and configuration should be stored in /home/faculty.\n",
      "• Files outside /project and /home/faculty will be lost when this server is terminated.\n",
      "• Create custom environments to setup your servers reproducibly.\n",
      "\u001b[0m\n",
      "Collecting gensim\n",
      "  Using cached gensim-3.8.3-cp36-cp36m-manylinux1_x86_64.whl (24.2 MB)\n",
      "Requirement already satisfied: scipy>=0.18.1 in /opt/anaconda/envs/Python3/lib/python3.6/site-packages (from gensim) (1.5.0)\n",
      "Processing /home/faculty/.cache/pip/wheels/a4/9b/d5/85705a7ab783cd6f7bd718f01d3b1396272f30044e3c36401a/smart_open-2.1.0-py3-none-any.whl\n",
      "Requirement already satisfied: numpy>=1.11.3 in /opt/anaconda/envs/Python3/lib/python3.6/site-packages (from gensim) (1.18.5)\n",
      "Requirement already satisfied: six>=1.5.0 in /opt/anaconda/envs/Python3/lib/python3.6/site-packages (from gensim) (1.15.0)\n",
      "Requirement already satisfied: boto in /opt/anaconda/envs/Python3/lib/python3.6/site-packages (from smart-open>=1.8.1->gensim) (2.49.0)\n",
      "Requirement already satisfied: requests in /opt/anaconda/envs/Python3/lib/python3.6/site-packages (from smart-open>=1.8.1->gensim) (2.24.0)\n",
      "Requirement already satisfied: boto3 in /opt/anaconda/envs/Python3/lib/python3.6/site-packages (from smart-open>=1.8.1->gensim) (1.14.34)\n",
      "Requirement already satisfied: idna<3,>=2.5 in /opt/anaconda/envs/Python3/lib/python3.6/site-packages (from requests->smart-open>=1.8.1->gensim) (2.10)\n",
      "Requirement already satisfied: certifi>=2017.4.17 in /opt/anaconda/envs/Python3/lib/python3.6/site-packages (from requests->smart-open>=1.8.1->gensim) (2020.6.20)\n",
      "Requirement already satisfied: urllib3!=1.25.0,!=1.25.1,<1.26,>=1.21.1 in /opt/anaconda/envs/Python3/lib/python3.6/site-packages (from requests->smart-open>=1.8.1->gensim) (1.25.9)\n",
      "Requirement already satisfied: chardet<4,>=3.0.2 in /opt/anaconda/envs/Python3/lib/python3.6/site-packages (from requests->smart-open>=1.8.1->gensim) (3.0.4)\n",
      "Requirement already satisfied: jmespath<1.0.0,>=0.7.1 in /opt/anaconda/envs/Python3/lib/python3.6/site-packages (from boto3->smart-open>=1.8.1->gensim) (0.10.0)\n",
      "Requirement already satisfied: s3transfer<0.4.0,>=0.3.0 in /opt/anaconda/envs/Python3/lib/python3.6/site-packages (from boto3->smart-open>=1.8.1->gensim) (0.3.3)\n",
      "Requirement already satisfied: botocore<1.18.0,>=1.17.34 in /opt/anaconda/envs/Python3/lib/python3.6/site-packages (from boto3->smart-open>=1.8.1->gensim) (1.17.34)\n",
      "Requirement already satisfied: docutils<0.16,>=0.10 in /opt/anaconda/envs/Python3/lib/python3.6/site-packages (from botocore<1.18.0,>=1.17.34->boto3->smart-open>=1.8.1->gensim) (0.15.2)\n",
      "Requirement already satisfied: python-dateutil<3.0.0,>=2.1 in /opt/anaconda/envs/Python3/lib/python3.6/site-packages (from botocore<1.18.0,>=1.17.34->boto3->smart-open>=1.8.1->gensim) (2.8.1)\n",
      "Installing collected packages: smart-open, gensim\n",
      "Successfully installed gensim-3.8.3 smart-open-2.1.0\n",
      "\u001b[1m\n",
      "         .:::.     .::.       \n",
      "        ....yy:    .yy.       \n",
      "        :.  .yy.    y.        \n",
      "             :y:   .:         \n",
      "             .yy  .:          \n",
      "              yy..:           \n",
      "              :y:.            \n",
      "              .y.             \n",
      "             .:.              \n",
      "        ....:.                \n",
      "        :::.                  \n",
      "\u001b[0;33m\n",
      "• Project files and data should be stored in /project. This is shared among everyone\n",
      "  in the project.\n",
      "• Personal files and configuration should be stored in /home/faculty.\n",
      "• Files outside /project and /home/faculty will be lost when this server is terminated.\n",
      "• Create custom environments to setup your servers reproducibly.\n",
      "\u001b[0m\n",
      "Collecting bert-serving-server\n",
      "  Using cached bert_serving_server-1.10.0-py3-none-any.whl (61 kB)\n",
      "Requirement already satisfied: six in /opt/anaconda/envs/Python3/lib/python3.6/site-packages (from bert-serving-server) (1.15.0)\n",
      "Processing /home/faculty/.cache/pip/wheels/79/c1/b2/b6fc2647f693a084da25e1d31328ab3dbb565cc58fea37e973/GPUtil-1.4.0-py3-none-any.whl\n",
      "Requirement already satisfied: numpy in /opt/anaconda/envs/Python3/lib/python3.6/site-packages (from bert-serving-server) (1.18.5)\n",
      "Requirement already satisfied: termcolor>=1.1 in /opt/anaconda/envs/Python3/lib/python3.6/site-packages (from bert-serving-server) (1.1.0)\n",
      "Requirement already satisfied: pyzmq>=17.1.0 in /opt/anaconda/envs/Python3/lib/python3.6/site-packages (from bert-serving-server) (19.0.1)\n"
     ]
    },
    {
     "name": "stdout",
     "output_type": "stream",
     "text": [
      "Installing collected packages: GPUtil, bert-serving-server\n",
      "Successfully installed GPUtil-1.4.0 bert-serving-server-1.10.0\n",
      "\u001b[1m\n",
      "         .:::.     .::.       \n",
      "        ....yy:    .yy.       \n",
      "        :.  .yy.    y.        \n",
      "             :y:   .:         \n",
      "             .yy  .:          \n",
      "              yy..:           \n",
      "              :y:.            \n",
      "              .y.             \n",
      "             .:.              \n",
      "        ....:.                \n",
      "        :::.                  \n",
      "\u001b[0;33m\n",
      "• Project files and data should be stored in /project. This is shared among everyone\n",
      "  in the project.\n",
      "• Personal files and configuration should be stored in /home/faculty.\n",
      "• Files outside /project and /home/faculty will be lost when this server is terminated.\n",
      "• Create custom environments to setup your servers reproducibly.\n",
      "\u001b[0m\n",
      "Collecting bert-serving-client\n",
      "  Using cached bert_serving_client-1.10.0-py2.py3-none-any.whl (28 kB)\n",
      "Requirement already satisfied: pyzmq>=17.1.0 in /opt/anaconda/envs/Python3/lib/python3.6/site-packages (from bert-serving-client) (19.0.1)\n",
      "Requirement already satisfied: numpy in /opt/anaconda/envs/Python3/lib/python3.6/site-packages (from bert-serving-client) (1.18.5)\n",
      "Installing collected packages: bert-serving-client\n",
      "Successfully installed bert-serving-client-1.10.0\n"
     ]
    }
   ],
   "source": [
    "#Loading key libraries for later analysis\n",
    "import pandas as pd\n",
    "import numpy as np\n",
    "import matplotlib.pyplot as plt\n",
    "import seaborn as sns\n",
    "import re\n",
    "import time\n",
    "pd.set_option('max_colwidth', 1000)\n",
    "!pip install spacy\n",
    "import spacy\n",
    "try:\n",
    "    nlp = spacy.load(\"en_core_web_md\")\n",
    "except OSError:\n",
    "    import spacy.cli \n",
    "    print(\"Model not found. Downloading.\")\n",
    "    spacy.cli.download(\"en_core_web_md\")\n",
    "    import en_core_web_md\n",
    "    nlp = en_core_web_md.load()\n",
    "from collections import Counter\n",
    "from sklearn.feature_extraction.text import CountVectorizer,TfidfVectorizer\n",
    "!pip install gensim\n",
    "import gensim\n",
    "from gensim.models.word2vec import Word2Vec\n",
    "from sklearn.svm import SVC\n",
    "from sklearn.model_selection import cross_val_score, cross_validate, GridSearchCV,train_test_split,StratifiedKFold\n",
    "from sklearn.metrics import confusion_matrix, classification_report\n",
    "import os\n",
    "!pip install bert-serving-server \n",
    "!pip install bert-serving-client\n",
    "import functions\n",
    "from gensim.scripts.glove2word2vec import glove2word2vec"
   ]
  },
  {
   "cell_type": "code",
   "execution_count": 2,
   "metadata": {},
   "outputs": [],
   "source": [
    "#Read in bank transactions\n",
    "df = pd.read_csv(r'df_postfeat_time_series_FINAL.csv',low_memory=False,encoding='latin1')"
   ]
  },
  {
   "cell_type": "code",
   "execution_count": 3,
   "metadata": {},
   "outputs": [],
   "source": [
    "#External resources\n",
    "stopwords = pd.read_csv(r'stopwords.csv',low_memory=False,encoding='latin1')\n",
    "abb = pd.read_csv(r'normalisation.csv',low_memory=False,encoding='latin1')"
   ]
  },
  {
   "cell_type": "code",
   "execution_count": 5,
   "metadata": {},
   "outputs": [
    {
     "data": {
      "text/plain": [
       "'/project'"
      ]
     },
     "execution_count": 5,
     "metadata": {},
     "output_type": "execute_result"
    }
   ],
   "source": [
    "import os\n",
    "os.getcwd()"
   ]
  },
  {
   "cell_type": "markdown",
   "metadata": {},
   "source": [
    "## 1. Text Preprocessing"
   ]
  },
  {
   "cell_type": "markdown",
   "metadata": {},
   "source": [
    "### 1.1 Stopword and special character Removals"
   ]
  },
  {
   "cell_type": "code",
   "execution_count": 4,
   "metadata": {},
   "outputs": [],
   "source": [
    "#Remove stopwords and special characters\n",
    "functions.removals(df,stopwords,'description')\n",
    "#Replace multiple spaces with single space\n",
    "df.description = df.description.replace('\\s+', ' ', regex=True)\n",
    "#Filter out transactions that are empty after removals\n",
    "df = df[df['description'] != '']"
   ]
  },
  {
   "cell_type": "markdown",
   "metadata": {},
   "source": [
    "### 1.2 Text Normalisation"
   ]
  },
  {
   "cell_type": "code",
   "execution_count": 5,
   "metadata": {},
   "outputs": [],
   "source": [
    "#Normalise abbrivations\n",
    "functions.abbrivations(df,'description')"
   ]
  },
  {
   "cell_type": "markdown",
   "metadata": {},
   "source": [
    "### 1.3 Tokenisation and Lemmatisation"
   ]
  },
  {
   "cell_type": "code",
   "execution_count": 6,
   "metadata": {
    "scrolled": true
   },
   "outputs": [],
   "source": [
    "#Tokenise and lemmatise\n",
    "df['description'] = functions.tokenise_lemmatise(df,'description')"
   ]
  },
  {
   "cell_type": "code",
   "execution_count": 7,
   "metadata": {
    "scrolled": false
   },
   "outputs": [],
   "source": [
    "# Count the number of tokens of each description\n",
    "df['token_length'] = [len(token) for token in df.description]\n",
    "#Remove descriptions with zero tokens\n",
    "df = df[df['token_length']!=0].reset_index(drop=True)"
   ]
  },
  {
   "cell_type": "markdown",
   "metadata": {},
   "source": [
    "## 2. Prepare Final Dataset"
   ]
  },
  {
   "cell_type": "code",
   "execution_count": 8,
   "metadata": {},
   "outputs": [],
   "source": [
    "#Replace -1 in transaction type with 0 to show the unlabelled are categroy 0\n",
    "df['standard_transaction_type_id'] = df['standard_transaction_type_id'].replace(-1, 0)"
   ]
  },
  {
   "cell_type": "code",
   "execution_count": 11,
   "metadata": {},
   "outputs": [
    {
     "data": {
      "image/png": "[encoded data removed]",
      "text/plain": [
       "<Figure size 576x288 with 1 Axes>"
      ]
     },
     "metadata": {
      "needs_background": "light"
     },
     "output_type": "display_data"
    }
   ],
   "source": [
    "#Proportion of labelled and unlabelled\n",
    "a1 = len(df[df['standard_transaction_type_id']!=0])/len(df)*100\n",
    "a2 = len(df[df['standard_transaction_type_id']==0])/len(df)*100\n",
    "X = [a1,a2]\n",
    "\n",
    "plt.figure(figsize=(8,4))\n",
    "\n",
    "plt.bar(range(2), X)\n",
    "plt.xticks(range(2), ['Labeled (Category - 1-16)','Unlabeled (Category - 0)'])\n",
    "plt.title(\"Percentage of Labeled and Unlabeled Transactions\")\n",
    "plt.savefig(r'Percentage of Labeled and Unlabeled Transactions(trad).png',bbox_inches='tight')"
   ]
  },
  {
   "cell_type": "code",
   "execution_count": 12,
   "metadata": {
    "scrolled": true
   },
   "outputs": [
    {
     "name": "stdout",
     "output_type": "stream",
     "text": [
      "The number of labels by category:\n",
      "1      551\n",
      "2       39\n",
      "3      969\n",
      "4       30\n",
      "5       68\n",
      "6      188\n",
      "7      347\n",
      "8      165\n",
      "9       41\n",
      "10     328\n",
      "11    1012\n",
      "12      62\n",
      "13     788\n",
      "14      47\n",
      "15       8\n",
      "16      18\n",
      "Name: standard_transaction_type_id, dtype: int64\n"
     ]
    },
    {
     "data": {
      "image/png": "[encoded data removed]",
      "text/plain": [
       "<Figure size 576x288 with 1 Axes>"
      ]
     },
     "metadata": {
      "needs_background": "light"
     },
     "output_type": "display_data"
    }
   ],
   "source": [
    "#Distribution of categories after labeling\n",
    "print('The number of labels by category:')\n",
    "print(df['standard_transaction_type_id'].value_counts().sort_index()[1:])\n",
    "a1 = df['standard_transaction_type_id'].value_counts().sort_index()[1:]\n",
    "X = [(x/(df['standard_transaction_type_id'].notnull().sum())) for x in a1 ]\n",
    "\n",
    "plt.figure(figsize=(8,4))\n",
    "\n",
    "plt.bar(range(1,17), X)\n",
    "plt.xticks(range(1,17), list(range(1,17)))\n",
    "plt.title(\"Percentage of Each Category in Bank Transactions By Gold Labels\")\n",
    "plt.savefig(r'Percentage of Each Category in Bank Transactions By Gold Labels.png',bbox_inches='tight')"
   ]
  },
  {
   "cell_type": "markdown",
   "metadata": {},
   "source": [
    " "
   ]
  },
  {
   "cell_type": "markdown",
   "metadata": {},
   "source": [
    "## Final dataframe"
   ]
  },
  {
   "cell_type": "code",
   "execution_count": 9,
   "metadata": {},
   "outputs": [],
   "source": [
    "#Select features for the final dataframe\n",
    "final_df = df.loc[:,['local_rule_creation_date','amount', 'balance', 'description', 'debit_binary', 'foreign_binary', 'financing_binary', 'account_binary', 'hmrc_vat',\n",
    "       'hmrc_corp', 'hmrc_paye','token_length','week_of_month_2','week_of_month_3','week_of_month_4','standard_transaction_type_id']]"
   ]
  },
  {
   "cell_type": "markdown",
   "metadata": {},
   "source": [
    "### 2.1 Undersampling"
   ]
  },
  {
   "cell_type": "code",
   "execution_count": 13,
   "metadata": {},
   "outputs": [],
   "source": [
    "#Undersample the unlabelled for give more balanced dataset\n",
    "l = final_df[final_df.standard_transaction_type_id != 0]\n",
    "\n",
    "def undersamp_per(df1,num,p):\n",
    "    u = df1[df1.standard_transaction_type_id == 0].sample(round((num/(1-p))*p),random_state=42)\n",
    "    f_p = pd.concat([l,u])\n",
    "    return f_p\n",
    "\n",
    "#Undersample to a ratio of 60:40: total unlabelled to total labelled transactions\n",
    "df_4 = undersamp_per(final_df,len(l),0.4)"
   ]
  },
  {
   "cell_type": "code",
   "execution_count": 12,
   "metadata": {},
   "outputs": [
    {
     "data": {
      "image/png": "[encoded data removed]",
      "text/plain": [
       "<Figure size 576x288 with 1 Axes>"
      ]
     },
     "metadata": {
      "needs_background": "light"
     },
     "output_type": "display_data"
    }
   ],
   "source": [
    "#Distribution of labelled and unlabelled in the final dataframe\n",
    "a1 = len(df_4[df_4['standard_transaction_type_id']!=0])/len(df_4)*100\n",
    "a2 = len(df_4[df_4['standard_transaction_type_id']==0])/len(df_4)*100\n",
    "X = [a1,a2]\n",
    "\n",
    "plt.figure(figsize=(8,4))\n",
    "\n",
    "plt.bar(range(2), X)\n",
    "plt.xticks(range(2), ['Labeled (Category - 1-16)','Unlabeled (Category - 0)'])\n",
    "plt.title(\"Percentage of Labeled and Unlabeled Transactionsn after Undersampling\")\n",
    "plt.savefig(r'L U ratio after undersampling（trad).png',bbox_inches='tight')"
   ]
  },
  {
   "cell_type": "code",
   "execution_count": 14,
   "metadata": {},
   "outputs": [
    {
     "name": "stdout",
     "output_type": "stream",
     "text": [
      "The number of labels by category:\n",
      "0     3107\n",
      "1      551\n",
      "2       39\n",
      "3      969\n",
      "4       30\n",
      "5       68\n",
      "6      188\n",
      "7      347\n",
      "8      165\n",
      "9       41\n",
      "10     328\n",
      "11    1012\n",
      "12      62\n",
      "13     788\n",
      "14      47\n",
      "15       8\n",
      "16      18\n",
      "Name: standard_transaction_type_id, dtype: int64\n"
     ]
    },
    {
     "data": {
      "image/png": "[encoded data removed]",
      "text/plain": [
       "<Figure size 576x288 with 1 Axes>"
      ]
     },
     "metadata": {
      "needs_background": "light"
     },
     "output_type": "display_data"
    }
   ],
   "source": [
    "#Distribution of categories in the final dataset\n",
    "print('The number of labels by category:')\n",
    "print(df_4['standard_transaction_type_id'].value_counts().sort_index())\n",
    "a1 = df_4['standard_transaction_type_id'].value_counts().sort_index()\n",
    "X = [(x/(df_4['standard_transaction_type_id'].notnull().sum())) for x in a1 ]\n",
    "\n",
    "plt.figure(figsize=(8,4))\n",
    "\n",
    "plt.bar(range(17), X)\n",
    "plt.xticks(range(17), list(range(17)))\n",
    "plt.title(\"Percentage of Each Category in Bank Transactions By Gold Labels\")\n",
    "plt.savefig(r'Percentage of Each Category in Bank Transactions By Gold Labels.png',bbox_inches='tight')"
   ]
  },
  {
   "cell_type": "markdown",
   "metadata": {},
   "source": [
    "### 2.2 Train Test Split"
   ]
  },
  {
   "cell_type": "code",
   "execution_count": 24,
   "metadata": {},
   "outputs": [],
   "source": [
    "#Getting X, y datasets\n",
    "X = df_4.iloc[:,:-1]\n",
    "y = df_4.iloc[:,-1]"
   ]
  },
  {
   "cell_type": "code",
   "execution_count": 19,
   "metadata": {},
   "outputs": [],
   "source": [
    "#Split training and testing set\n",
    "X_train, X_test, y_train, y_test = train_test_split(X, y, test_size=0.2, random_state=42)"
   ]
  },
  {
   "cell_type": "code",
   "execution_count": 20,
   "metadata": {},
   "outputs": [],
   "source": [
    "#Get their indices for later usage\n",
    "train_indices = X_train.index\n",
    "test_indices = X_test.index"
   ]
  },
  {
   "cell_type": "markdown",
   "metadata": {},
   "source": [
    "## 3. Word Representation"
   ]
  },
  {
   "cell_type": "code",
   "execution_count": 21,
   "metadata": {},
   "outputs": [],
   "source": [
    "#Joining the transaction descriptions to a list\n",
    "X_train_des = [' '.join(x) for x in X_train['description']]"
   ]
  },
  {
   "cell_type": "markdown",
   "metadata": {},
   "source": [
    "### 3.1 Frequency-based Methods"
   ]
  },
  {
   "cell_type": "code",
   "execution_count": 22,
   "metadata": {},
   "outputs": [],
   "source": [
    "svc = SVC(random_state=200)\n",
    "kfold = StratifiedKFold(n_splits=5, shuffle=True, random_state=200)\n",
    "\n",
    "def count_vect(df,x):\n",
    "    ngram = list()\n",
    "    for n in range(1,6):\n",
    "        if x >0 :\n",
    "            bow =  CountVectorizer(ngram_range=(1,n))\n",
    "            tfidf=  TfidfVectorizer(ngram_range=(1,n))\n",
    "            i = (1,n)\n",
    "        else:\n",
    "            bow =  CountVectorizer(ngram_range=(n,n))\n",
    "            tfidf=  TfidfVectorizer(ngram_range=(n,n))\n",
    "            i = (n,n)\n",
    "            \n",
    "        tfidf_matrix = tfidf.fit_transform(df)\n",
    "        bow_matrix = bow.fit_transform(df)\n",
    "        tfidf_cv = cross_val_score(svc, tfidf_matrix, y_train, cv=kfold, scoring='f1_macro').mean()\n",
    "        bow_cv = cross_val_score(svc, bow_matrix, y_train, cv=kfold, scoring='f1_macro').mean()\n",
    "        print('n-gram :{}, Bag of Words F1 Score: {},TF-iDF F1 Score: {} '.format(i,bow_cv,tfidf_cv))\n",
    "        ngram.append({'n': n, 'score': tfidf_cv, 'type': 'TF-iDF'})\n",
    "        ngram.append({'n': n, 'score': bow_cv, 'type': 'Bag of Words'})\n",
    "    return pd.DataFrame(ngram)"
   ]
  },
  {
   "cell_type": "code",
   "execution_count": 65,
   "metadata": {},
   "outputs": [
    {
     "name": "stdout",
     "output_type": "stream",
     "text": [
      "n-gram :(1, 1), Bag of Words F1 Score: 0.8921482580555153,TF-iDF F1 Score: 0.8833552878080442 \n",
      "n-gram :(2, 2), Bag of Words F1 Score: 0.8602096201501341,TF-iDF F1 Score: 0.8596511459533449 \n",
      "n-gram :(3, 3), Bag of Words F1 Score: 0.6742389907364899,TF-iDF F1 Score: 0.6742114062632657 \n",
      "n-gram :(4, 4), Bag of Words F1 Score: 0.5097769695296124,TF-iDF F1 Score: 0.5148276162064283 \n",
      "n-gram :(5, 5), Bag of Words F1 Score: 0.4182962900232955,TF-iDF F1 Score: 0.43840586636810625 \n"
     ]
    }
   ],
   "source": [
    "#Check the F1 score of single n-grams\n",
    "n_gram_1 = count_vect(X_train_des,0)"
   ]
  },
  {
   "cell_type": "code",
   "execution_count": 23,
   "metadata": {},
   "outputs": [
    {
     "name": "stdout",
     "output_type": "stream",
     "text": [
      "n-gram :(1, 1), Bag of Words F1 Score: 0.8921482580555153,TF-iDF F1 Score: 0.8833552878080442 \n",
      "n-gram :(1, 2), Bag of Words F1 Score: 0.8925714559448636,TF-iDF F1 Score: 0.8865070130000132 \n",
      "n-gram :(1, 3), Bag of Words F1 Score: 0.8947866371942694,TF-iDF F1 Score: 0.8845653070865144 \n",
      "n-gram :(1, 4), Bag of Words F1 Score: 0.891561576817859,TF-iDF F1 Score: 0.8855271318258533 \n",
      "n-gram :(1, 5), Bag of Words F1 Score: 0.8886670217159681,TF-iDF F1 Score: 0.8847048858705454 \n"
     ]
    }
   ],
   "source": [
    "#Check the F1 score of mixed n-grams\n",
    "n_gram_2 = count_vect(X_train_des,1)"
   ]
  },
  {
   "cell_type": "code",
   "execution_count": 71,
   "metadata": {},
   "outputs": [],
   "source": [
    "#Plot n-gram results\n",
    "def plot_count(df):\n",
    "    plt.figure(figsize=(10,4))\n",
    "    a= df[df['type']=='Bag of Words']\n",
    "    b= df[df['type']=='TF-iDF']\n",
    "\n",
    "    #Plot line graphs\n",
    "    plt.plot(a['n'], a['score'], label= \"Bag of Words\",color='steelblue',linewidth=3)\n",
    "    plt.plot(b['n'], b['score'], label=\"TF-IDF\",color='skyblue',linewidth=3)\n",
    "\n",
    "    #Format plot\n",
    "    plt.xlabel('n-grams')\n",
    "    plt.ylabel('F1 Score')\n",
    "    plt.title(\"BoW and TF-iDF Performance by n-gram values\")\n",
    "    plt.legend()\n",
    "    plt.show()"
   ]
  },
  {
   "cell_type": "code",
   "execution_count": 88,
   "metadata": {},
   "outputs": [
    {
     "data": {
      "image/png": "[encoded data removed]",
      "text/plain": [
       "<Figure size 720x288 with 1 Axes>"
      ]
     },
     "metadata": {
      "needs_background": "light"
     },
     "output_type": "display_data"
    }
   ],
   "source": [
    "#Plot of single n-grams\n",
    "plot_count(n_gram_1)"
   ]
  },
  {
   "cell_type": "code",
   "execution_count": 72,
   "metadata": {
    "scrolled": true
   },
   "outputs": [
    {
     "data": {
      "image/png": "[encoded data removed]",
      "text/plain": [
       "<Figure size 720x288 with 1 Axes>"
      ]
     },
     "metadata": {
      "needs_background": "light"
     },
     "output_type": "display_data"
    }
   ],
   "source": [
    "#Plot of mixed n-grams\n",
    "plot_count(n_gram_2)"
   ]
  },
  {
   "cell_type": "code",
   "execution_count": 45,
   "metadata": {},
   "outputs": [],
   "source": [
    "svc = SVC(random_state=200)\n",
    "kfold = StratifiedKFold(n_splits=5, shuffle=True, random_state=200)\n",
    "\n",
    "#Getting the maximum number of features for the optimal model\n",
    "def max_feat(index,model,model_name):\n",
    "    vec =  model(ngram_range=index)\n",
    "    vec_matrix = vec.fit_transform(X_train_des)\n",
    "    a = vec_matrix.shape\n",
    "    \n",
    "    vec_result = list()\n",
    "    for n in range(100, a[1], 1000):\n",
    "        vec = model(ngram_range=index,max_features=n)\n",
    "        vec_matrix = vec.fit_transform(X_train_des)\n",
    "        score_countVec = cross_val_score(svc, vec_matrix, y_train, cv=kfold, scoring='f1_macro').mean()\n",
    "\n",
    "        vec_result.append({'max_feature': n,  'score': score_countVec})\n",
    "    print('finished')\n",
    "    \n",
    "    vec_result_df = pd.DataFrame(vec_result)\n",
    "    plt.figure(figsize=(10,4))\n",
    "    #Plot line graphs\n",
    "    plt.plot(vec_result_df['max_feature'], vec_result_df['score'],color='steelblue',linewidth=3)\n",
    "    #Format plot\n",
    "    plt.xlabel('Number of features')\n",
    "    plt.ylabel('F1 Score')\n",
    "    plt.title(\"Maximum Number of Features in {}\".format(model_name))\n",
    "    plt.show()\n",
    "    \n",
    "    max_score = vec_result_df['score'].max()\n",
    "    a = vec_result_df[vec_result_df['score'] == max_score]\n",
    "    a = a.iloc[0]['max_feature']\n",
    "    print('maximum feature is {}'.format(a))"
   ]
  },
  {
   "cell_type": "code",
   "execution_count": 46,
   "metadata": {},
   "outputs": [
    {
     "name": "stdout",
     "output_type": "stream",
     "text": [
      "finished\n"
     ]
    },
    {
     "data": {
      "image/png": "[encoded data removed]",
      "text/plain": [
       "<Figure size 720x288 with 1 Axes>"
      ]
     },
     "metadata": {
      "needs_background": "light"
     },
     "output_type": "display_data"
    },
    {
     "name": "stdout",
     "output_type": "stream",
     "text": [
      "maxiumn feature is 13100.0\n"
     ]
    }
   ],
   "source": [
    "#Optimal number of features of Countvectoriser\n",
    "max_feat((1,3),CountVectorizer,'bag of words')"
   ]
  },
  {
   "cell_type": "code",
   "execution_count": 58,
   "metadata": {},
   "outputs": [],
   "source": [
    "#Getting the word representation from bag of words for later comparison\n",
    "bow = CountVectorizer(ngram_range=(1,3),max_features=13100,min_df=2)\n",
    "bow_matrix = bow.fit_transform(X_train_des)"
   ]
  },
  {
   "cell_type": "markdown",
   "metadata": {},
   "source": [
    "### 3.2 Prediction-based Methods"
   ]
  },
  {
   "cell_type": "markdown",
   "metadata": {},
   "source": [
    "**3.2.1 Word2vec: Self-trained**"
   ]
  },
  {
   "cell_type": "code",
   "execution_count": 29,
   "metadata": {},
   "outputs": [],
   "source": [
    "#Turn description to list to feed into word2vec\n",
    "X_train_list = X_train['description'].tolist()"
   ]
  },
  {
   "cell_type": "code",
   "execution_count": 30,
   "metadata": {},
   "outputs": [],
   "source": [
    "#feed to model\n",
    "word2vec_self_model = Word2Vec(X_train_list, size=300, window=5, min_count=2, iter=100)\n",
    "\n",
    "#save the model\n",
    "word2vec_self_model.save(r'word2vec_self.w2v')\n",
    "word2vec_self_model.wv.save_word2vec_format(r'word2vec_self.bin',binary=False)\n",
    "\n",
    "#reload the model to reduce training time\n",
    "word2vec_self = word2vec_self_model.wv.load_word2vec_format(r'word2vec_self.bin',binary=False)"
   ]
  },
  {
   "cell_type": "code",
   "execution_count": 31,
   "metadata": {},
   "outputs": [
    {
     "name": "stderr",
     "output_type": "stream",
     "text": [
      "/opt/anaconda/envs/Python3/lib/python3.6/site-packages/ipykernel/__main__.py:10: RuntimeWarning: invalid value encountered in true_divide\n"
     ]
    },
    {
     "name": "stdout",
     "output_type": "stream",
     "text": [
      "3.14s used for generating word embeddings for top 3000 transaction description\n",
      "13.47s used for generating word embeddings for top 6000 transaction description\n",
      "Total time used:14.51s\n"
     ]
    }
   ],
   "source": [
    "def w2v_vectorise(texts, word2vec_model):\n",
    "        i = 0\n",
    "        index2word_set = set(word2vec_model.index2word)\n",
    "        description_vector = np.zeros((word2vec_model.vector_size))\n",
    "        for text in texts:\n",
    "                if text in index2word_set:\n",
    "                        description_vector = np.add(description_vector, word2vec_model[text])\n",
    "                        i += 1\n",
    "        text_vector = np.divide(description_vector, i)\n",
    "        return text_vector\n",
    "\n",
    "#Generate the Word2Vec model\n",
    "startTime = time.time()\n",
    "vector_list = []\n",
    "i = 0\n",
    "for texts in X_train_list:\n",
    "        i += 1\n",
    "        if i % 3000 == 0: \n",
    "                print('%.2fs used for generating word embeddings for top %d transaction description' %(time.time()-startTime,i))\n",
    "        vector_list.append(w2v_vectorise(texts, word2vec_self) )\n",
    "        word2vec_self_matrix= np.array(vector_list)\n",
    "        \n",
    "print('Total time used:%.2fs' % (time.time() - startTime) )"
   ]
  },
  {
   "cell_type": "code",
   "execution_count": 32,
   "metadata": {
    "scrolled": true
   },
   "outputs": [],
   "source": [
    "#Get the word2vec matrix for comparison\n",
    "word2vec_self_matrix[np.isnan(word2vec_self_matrix)] = 0\n",
    "word2vec_self_matrix = pd.DataFrame(word2vec_self_matrix)"
   ]
  },
  {
   "cell_type": "markdown",
   "metadata": {},
   "source": [
    " "
   ]
  },
  {
   "cell_type": "markdown",
   "metadata": {},
   "source": [
    "**3.2.2 Word2vec: Google news pre-trainedd**"
   ]
  },
  {
   "cell_type": "code",
   "execution_count": 33,
   "metadata": {},
   "outputs": [
    {
     "data": {
      "text/plain": [
       "300"
      ]
     },
     "execution_count": 33,
     "metadata": {},
     "output_type": "execute_result"
    }
   ],
   "source": [
    "#Load pretrained model\n",
    "word2vec_pre_model = gensim.models.KeyedVectors.load_word2vec_format(r'GoogleNews-vectors-negative300.bin.gz', binary=True)  \n",
    "word2vec_pre_model.vector_size"
   ]
  },
  {
   "cell_type": "code",
   "execution_count": 34,
   "metadata": {
    "scrolled": true
   },
   "outputs": [
    {
     "name": "stdout",
     "output_type": "stream",
     "text": [
      "Percentage of distinct out of vocabulary words: 23.49%\n",
      "Total percentage of out of vocabulary words in the word set: 9.70%\n",
      "{'atkar', 'chouchou', 'systemindigo', 'gamemine', 'yjl', 'bnlkbmw', 'quvhnmqv', 'uverjyb', 'rtsnutrition', 'shlvng', 'faltec', 'smjupgn', 'refresment', 'ipok', 'trnsfer', 'storescard', 'trceo', 'ckpu', 'juosr', 'bkcgnrs', 'fourthbrighton', 'tackfield', 'vrzdagocardless', 'sawcentrelt', 'nndr', 'ltchelmsford', 'nagement', 'shreena', 'hubx', 'zwv', 'townandcountryfine', 'customersure', 'yuzt', 'kydmval', 'softwarnm', 'pymtbfp', 'fsprg', 'kflfj', 'rbsdm', 'osbs', 'soben', 'nutrience', 'janlkllb', 'wework', 'ykpqb', 'loquet', 'busisee', 'mainv', 'oibrhhc', 'directcard', 'earlymorningmedia', 'leasin', 'accrec', 'payetravel', 'streetstratford', 'constru', 'xbiteltd', 'centp', 'ppxr', 'ricohcapital', 'jamroxs', 'xoesyepx', 'chawanzwa', 'financrbs', 'orbtalk', 'gdmuteyn', 'bbfccyc', 'sacard', 'finalta', 'kpwd', 'mbmcn', 'honr', 'optiv', 'kareplusmk', 'bicard', 'marketg', 'certas', 'shenf', 'ncitius', 'ifmq', 'toughsheet', 'onlinecard', 'ppwyn', 'besgrowthst', 'ringgocard', 'tupsw', 'nsq', 'arenacoventry', 'pawalek', 'hoddb', 'wmng', 'zdrez', 'afriinv', 'xrof', 'globacard', 'ringgo', 'qccg', 'casvisa', 'pengu', 'paultonspark', 'whichcard', 'payat', 'qyhlog', 'caukill', 'ecasub', 'exps', 'pumpcard', 'hfpwobgg', 'ndwell', 'doxs', 'cktgk', 'opticia', 'hmhovuu', 'gagneja', 'niwg', 'fxpay', 'hassengate', 'lrjlk', 'wellbrookepr', 'pmxml', 'limfp', 'akjzr', 'ktkehfk', 'nnetgen', 'mgmtcon', 'barclayloan', 'hillii', 'chesford', 'zscw', 'hambles', 'solutioneau', 'eastbourn', 'rvices', 'wgawoh', 'notemac', 'resou', 'transferwise', 'httpswww', 'gilbeys', 'bsobenco', 'marwo', 'hbptxd', 'islingt', 'aqpv', 'crrpvb', 'hlj', 'liverpl', 'ltdkare', 'ledg', 'benefbib', 'torminster', 'patatanian', 'ffezc', 'sanber', 'aitcheso', 'zzmgy', 'bachheta', 'gsthreeg', 'bqd', 'bcqkffz', 'esmeloan', 'atradiu', 'svariati', 'oolx', 'allw', 'videotile', 'ppwd', 'mackinovski', 'samirolah', 'aaxl', 'swizal', 'scotlifeemrd', 'rahdbdu', 'ctzx', 'nrbs', 'paybyphone', 'freshmin', 'nworthe', 'qewawfp', 'zvsjh', 'hotelsking', 'wealdcard', '\\\\griffin', 'netmonkey', 'tytytours', 'anfold', 'payroo', 'tytytour', 'qrk', 'dbdtpda', 'svcchg', 'northwdvia', 'oknq', 'ebcard', 'bnkm', 'freshworks', 'dellbridge', 'fuelgenie', 'akqfvphc', 'domstc', 'wegift', 'imperialplus', 'medik', 'fzl', 'fnbk', 'oilgas', 'drainclear', 'vbzb', 'informacist', 'ltdcard', 'axisrdb', 'moonpiguk', 'materialsman', 'ussyg', 'wayp', 'osab', 'francotyp', 'bv\\\\vijzelstraat', 'ltipok', 'htls', 'kqx', 'sweye', 'nret', 'buizer', 'fasttest', 'motonovo', 'taxagility', 'contrc', 'mgce', 'owiuxyhn', 'reshnx', 'brilliancinv', 'rileyscard', 'arwbppxc', 'transfe', 'sundcard', 'elmesandsmartltd', 'zxg', 'nurserorionas', 'conmaterial', 'sofroniosal', 'bjvvlsd', 'metroweld', 'ctr\\\\unit', 'bagatini', 'marsz', 'groupinv', 'whillis', 'ltinv', 'alqx', 'xbite', 'raileasy', 'eref', 'associatinv', 'loug', 'icatcare', 'paymt', 'oomb', 'corbycard', 'twmr', 'twck', 'imprimir', 'besmiles', 'aliaxis', 'arrowbuild', 'burnay', 'wwnq', 'gmbn', 'optioncharlie', 'nferre', 'hmhvpk', 'ncoda', 'mahav', 'vitalityhealth', 'aerobility', 'wuw', 'kgx', 'contrtrevor', 'chouna', 'swinv', 'pavelin', 'bjjqmv', 'sk+e', 'rheeney', 'nvxy', 'hfsleg', 'secucard', 'fitzmaurictca', 'tel+', 'tadyspur', 'cjtc', 'semjofr', 'uaxa', 'clearabee', 'eversource', 'tewart', 'e+', 'southgate\\\\n', 'brethertonexpenses', 'freshm', 'prxevuawq', 'royccat', 'athlo', 'mermodcox', 'musoft', 'abfl', 'rentarc', 'parkincard', 'mepfy', 'ikyqc', 'mcvittie', 'inncard', 'ã\\x83â£ã\\x82â\\x82ã\\x83â¢ã\\x82â£', 'ixla', 'threegm', 'ogumleye', 'gbcard', 'ppwqtds', 'zfw', 'limimission', 'wadds', 'xmtbew', 'vnyl', 'hardbase', 'hbpv', 'facebk', 'refrehsment', 'mcann', 'gswilliammor', 'magricott', 'cxorwfp', 'netmonkeys', 'hdpddps', 'vrqfp', 'zqvxb', 'cflow', 'kdgyg', 'opticare', 'appzyla', 'pymts', 'keizergracht', 'gkjdqjtyhb', 'propertiesinv', 'footballtickets', 'allcures', 'hassockseye', 'eyeland', 'xxuahi', 'conilon', 'odriscoll', 'outv', 'sprinkacc', 'danckaert', 'dhngm', 'eyese', 'evaris', 'azj', 'nguh', 'oxkt', 'rmrs', 'sphererhsmlt', 'ltdw', 'gskurve', 'acceptacard', 'ubecard', 'oldebell', 'vessco', 'wannops', 'gstogetherhe', 'xmbj', 'gsbluespire', 'qij', 'nldnld', 'gopsall', 'typeform', 'stog', 'limitepaya', 'aeur', 'optivision', 'qqjz', 'togetherhealthltd', 'osbou', 'wellbrooke', 'vatcard', 'gsuite', 'limixu', 'freshminds', 'lmanifesto', 'gsxtka', 'mqcum', 'auckl', 'qorh', 'soundgas', 'countebolton', 'tvncmw', 'colec', 'streecard', 'hgvr', 'crdtcard', 'postaliat', 'ohksnqx', 'pavinee', 'agincour', 'wilshpadarn', 'ucard', 'jullkhsb', 'rilqbi', 'regenearatcard', 'colln', 'senzer', 'homebrand', 'xjoida', 'tulloc', 'xqixae', 'loanfp', 'renig', 'ukcard', 'pontcanncardiff', 'drsuite', 'mdlnds', 'proapollo', 'scollen', 'oyenusi', 'markesage', 'mcnicoll', 'viscard', 'iydebxcur', 'sightcare', 'marcianak', 'optici', 'ltdltuk', 'ogv', 'radleypost', 'chargecard', 'nwbdm', 'brimscard', 'sxdf', 'baytek', 'beauhurst', 'gnbg', 'eato', 'oynt', 'ltdinv', 'busino', 'bcard', 'limitedinv', 'instantprint', 'everylife', 'gvy', 'bfdgpmr', 'wjgdnfvy', 'saty', 'ledwood', 'stryczkos', 'perfe', 'compco', 'promep', 'tiginvoice', 'thrislington', 'shipco', 'nztq', 'winecard', 'lndon', 'osullivanhumboldt', 'winecellar', 'bbgrnlq', 'utiliti', 'roinvoice', 'cabvision', 'opbt', 'buygroup', 'bodenvill', 'supersaurus', 'fnsfp', 'rshtio', 'visaxrcard', 'yne', 'heqh', 'wlfgdz', 'lbgi', 'limdwell', 'abtvp', 'gadliswil', '\\\\internet\\\\b', 'fibrecrm', 'gscasacare', 'yjv', 'amznmktplace', 'msbill', 'libertari', 'ixpsea', 'edensprings', 'wvdstvl', 'qubicle', 'asattei', 'retromanagementltdaxisrdb', 'ddarrr', 'limbirmingham', 'maltway', 'swancoun', 'sainthill', 'nqjmd', 'harmail', 'mjbaker', 'scoloan', 'xaph', 'tarbed', 'hqqa', 'purpl', 'stratfest', 'ussene', 'hambleside', 'bankline', 'yzgm', 'dhanish', 'rrphc', 'akrtqhs', 'southwarkcard', 'chakshu', 'boardgamecafe', 'amznmktplacecard', 'nlifetime', 'tvbvv', 'nagrecha', 'jbfqc', 'sefareham', 'ukj', 'edmcard', 'gslumotax', 'semjo', 'teamsob', 'ndzq', 'grenkelease', 'gyxzhxfp', 'nnatural', 'dpdgroup', 'mccloy', 'farnwortcard', 'gsnetmonkey', 'reacpjw', 'liminv', 'thefloor', 'uquz', 'bjzlvgp', 'firedgg', 'rfre', 'ucheck', 'contentedwri', 'mailcard', 'ocard', 'pnhyjnttwfp', 'stmar', 'qtzbk', 'stratilexcontent', 'nkayf', 'kcilv', 'theofficegroupprop', 'parkingcard', 'isoler', 'gallerloan', 'hmcts', 'vtlumlq', 'netgen', 'oysh', 'ruskim', 'coverin', 'qwzgg', 'limitebow', 'paymax', 'gaxxxxxxxxxxxx', 'mangercard', 'rhydde', 'fpid', 'munication', 'rbiox', 'baatfp', 'pacardiff', 'taptronic', 'phrly', 'cartridgepeople', 'rkafpg', 'refun', 'connoils', 'lrag', 'developmeinv', 'fcyq', 'highspeedtrainingcard', 'lshb', 'scukl', 'financfp', 'cardnet', 'screeding', 'vahtsbun', 'everylifetec', 'hrfcgentle', 'oldbu', 'wxo', 'ankaracard', 'forect', 'dgq', 'nmike', 'maynardcolcard', 'bmxsxcc', 'zmplx', 'pnqgasxt', 'cmwa', 'fmq', 'octbvxy', 'mzfp', 'nnorthwood', 'wmhn', 'yopa', 'packaginvopak', 'silmo', 'ltdsurrey', 'tophamfp', 'downhall', 'gcezrduzzx', 'limitrdm', 'mconnected', 'sontronics', 'lukashaule', 'calendly', 'gspermanexs', 'xgocardless', 'venesta', 'picrights', 'unifrog', 'proark', 'znocp', 'nikit', 'closebrosmotfin', 'adyou', 'jamestdb', 'tviz', 'oskw', \"d'or\", 'lgk', 'prosource', 'gsallworld', 'vehicl', 'homebrands', 'easyinvoicefinance', 'zgt', 'gsbigpotato', 'cbur', 'ajnkt', 'nuvven', 'arnaki', 'mpqcard', 'pffn', 'fewnsvl', 'nsenzer', 'puricare', 'yapu', 'gooole', 'aprescard', 'xqfvr', 'rtyfp', 'coulsd', 'bracknellbracknell', 'constructfp', 'abbyna', 'clocard', 'ltcard', 'cuserstraat', 'jido', 'limiloquet', 'cmgjk', 'hbugvf', 'xyh', 'gladki', 'rvhly', 'dioc', 'sparecard', 'qjp', 'arccard', 'vjvc', 'winsta', 'owfa', 'gresij', 'portesberyschool', 'teelg', 'hmbsgui', 'hemptradesas', 'publishifirst', 'whimpanny', 'suspensionbristol', 'rmcard', 'rbq', 'helppay', 'ltdinfinity', 'binv', 'ynqbi', '-PRON-', 'dkau', 'payecard', 'newmore', 'cchelp', 'mfbpa', 'advihex', 'charitini', 'nmanifesto', 'crutchfie', 'newaxisrdb', 'tgjnz', 'axappp', 'arncmxz', 'systemsaving', 'est\\\\new', 'deoxit', 'prtnr', 'cavenay', 'jza', 'anwg', 'apqwmn', 'managemenetmonkeys', 'bolanl', 'kxxc', 'kareplus', 'nipok', 'bcrtwdc', 'premierinn', 'fxmcard', 'ghdozrbkw', 'adamcz', 'lqel', 'lilon', 'mungos', 'bbhl', 'kr+a', 'dbkcddim', 'kpmk', 'ltsi', 'harleystrecard', 'cricklewoodcard', 'bbjfjf', 'cwave', 'zipcarcard', 'invinca', 'etox', 'ebankgo', 'autoval', 'hahanzsx', 'lfirst', 'icwe', 'nyxxxxxxxxxxxx', 'cruick', 'rsulof', 'elberry', 'postalia', 'levelit', 'datrixpurple', 'onecard', 'pgq', 'semjogtci', 'lcikzs', 'sheafcard', 'ozf', 'rhokr', 'radconsul', 'ksme', 'ukstripe', 'dagia', 'dloan', 'poess', 'acfcwcard', 'bqch', 'npitt', 'bbgvrfv', 'gssobencont', 'jinkinson', 'gedrag', 'shreyavyas', 'systemcfs', 'aoqcobnk', 'ybbpi', 'gambado', 'qzm', 'r+d', 'uvdb', 'sumup', 'sylds', 'mobitrans', 'hcare', 'sobencc', 'everydafp', 'sthrfb', 'mycotrition', 'bbkkhpw', 'tqp', 'gonmisol', 'cooperativcard', 'jxwwr', 'ultimatecar', 'corstor', 'adamlyduchcard', 'amazocard', 'mconnecte', 'jlxxjva', 'transeiver', 'oxij', 'insurgeltd', 'nvhne', 'limmonthly', 'amp;west', 'stroomfabriek', 'gzq', 'pycn', 'bnpycbl', 'ninfinity', 'hubim', 'endole', 'firmcard', 'datatruth', 'xwz', 'onlinternet', 'lcardiff', 'planetorganic', 'chewter', 'furnis', 'gssuvhealth', 'hotcard', 'deansbrook', 'gadbrook', 'dzua', 'gocardless', 'deallus', 'quarzi', 'vspicer', 'zepmw', 'growthsgrowth', 'consumersc', 'alminta', 'wpam', 'mcevilly', 'conrats', 'qruvz', 'emcrook', 'prosaw', 'jmgame', 'xtfcky', 'bbjyflr', 'vcqj', 'ppwdl', 'scotlife', 'elddi', 'elmmarketing', 'hoshe', 'qgw', 'ticehu', 'keepi', 'wellbei', 'chadigital', 'consultan', 'yxxj', 'zjw', 'ninv', 'zyvabzvr', 'belokovylska', 'levengoo', 'hfpqsd', 'portesbery', 'plccard', 'gscapital', 'qzmgx', 'bussarin', 'ethosenergy', 'intinv', 'losborne', 'ibsfp', 'j+h', 'huntine', 'northwdfp', 'cbceb', 'readyprint', 'ohkg', 'pmofvcap', 'cotax', 'shze', 'arcontrolslt', 'ukfp', 'prokhorenko', 'ytf', 'qfayftmmcyhgocardless', 'lvom', 'lowem', 'qpkx', 'ibcnesijwfp', 'funmilola', 'fgchs', 'uczaipwct', 'returnfp', 'btjtek', 'parinv', 'gscwave', 'limicoda', 'mobilelab', 'liinv', 'moufb'}\n"
     ]
    }
   ],
   "source": [
    "#Check out of vocabulary words\n",
    "def oov(texts, model, check_function):\n",
    "    exist_total = 0\n",
    "    total = 0\n",
    "    total_word_set = set()\n",
    "    oov_set = set()\n",
    "    for line in texts:\n",
    "        for text in line :\n",
    "            total +=1\n",
    "            total_word_set.add(text)\n",
    "            if check_function(model, text):\n",
    "                exist_total +=1\n",
    "\n",
    "    for text in total_word_set:\n",
    "        if check_function(model, text):\n",
    "            pass\n",
    "        else:\n",
    "            oov_set.add(text)\n",
    "    \n",
    "    distinct_oov = round(len(oov_set)/len(total_word_set), 4)\n",
    "    total_oov = round(1 - exist_total/total, 4)\n",
    "    print('Percentage of distinct out of vocabulary words: {:.2f}%'.format(distinct_oov*100))\n",
    "    print('Total percentage of out of vocabulary words in the word set: {:.2f}%'.format(total_oov*100))\n",
    "    print(oov_set)\n",
    "    return distinct_oov, total_oov, oov_set\n",
    "\n",
    "#Change the form of words to check whether it is oov\n",
    "def w2v_check(model, text):\n",
    "    return (text in model.vocab) or (text.upper() in model.vocab)or (text.capitalize() in model.vocab)\n",
    "\n",
    "distinct_oov, total_oov, oov_set = oov(X_train['description'], word2vec_pre_model, w2v_check)"
   ]
  },
  {
   "cell_type": "code",
   "execution_count": 35,
   "metadata": {
    "scrolled": true
   },
   "outputs": [],
   "source": [
    "#Give pre-train Word2Vec embeddings\n",
    "def w2v_embeddings(model, texts):\n",
    "        matrix =[]\n",
    "        for text in texts:\n",
    "            oov_matrix = []\n",
    "            if len(text) > 0 :\n",
    "                for word in text:\n",
    "                    if  word in model.vocab:\n",
    "                        oov_matrix.append(model[word])\n",
    "                    elif word.upper() in model.vocab:\n",
    "                        oov_matrix.append(model[word.upper()])\n",
    "                    elif word.capitalize() in model.vocab:\n",
    "                        oov_matrix.append(model[word.capitalize()])\n",
    "\n",
    "            if len(oov_matrix) == 0:\n",
    "                oov_matrix.append(np.zeros(model.vector_size))\n",
    "            matrix.append(np.mean(oov_matrix, axis=0))\n",
    "        return matrix\n",
    "\n",
    "#Get the embedding matrix\n",
    "w2v_pre_model = w2v_embeddings(word2vec_pre_model,np.array(X_train['description']))\n",
    "w2v_pre_model_df = pd.DataFrame(w2v_pre_model)"
   ]
  },
  {
   "cell_type": "markdown",
   "metadata": {},
   "source": [
    "#### 3.2.3 GloVe: Pre-trained 300D"
   ]
  },
  {
   "cell_type": "code",
   "execution_count": 37,
   "metadata": {},
   "outputs": [],
   "source": [
    "#Get the pretrained model\n",
    "word2vec_output_file = r'glove.840B.300d.word2vec.txt'\n",
    "#load the model\n",
    "glove = gensim.models.KeyedVectors.load_word2vec_format(word2vec_output_file, binary=False)"
   ]
  },
  {
   "cell_type": "code",
   "execution_count": 38,
   "metadata": {},
   "outputs": [
    {
     "name": "stdout",
     "output_type": "stream",
     "text": [
      "Percentage of distinct out of vocabulary words: 29.44%\n",
      "Total percentage of out of vocabulary words in the word set: 11.11%\n",
      "{'atkar', 'systemindigo', 'gamemine', 'yjl', 'uverjyb', 'bnlkbmw', 'quvhnmqv', 'madine', 'printerland', 'rtsnutrition', 'shlvng', 'faltec', 'smjupgn', 'tsba', 'ipok', 'trnsfer', 'refresment', 'storescard', 'scyl', 'trceo', 'ckpu', 'juosr', 'bkcgnrs', 'fourthbrighton', 'tackfield', 'vrzdagocardless', 'sawcentrelt', 'nndr', 'townfield', 'ltchelmsford', 'shreena', 'axh', 'hubx', 'zwv', 'townandcountryfine', 'customersure', 'yuzt', 'kydmval', 'softwarnm', 'pymtbfp', 'fsprg', 'kflfj', 'moorhouse', 'rbsdm', 'hywel', 'osbs', 'soben', 'vhl', 'nutrience', 'hillen', 'irelan', 'intercargo', 'janlkllb', 'wework', 'ykpqb', 'loquet', 'busisee', 'moufb', 'shefford', 'odedra', 'datamatics', 'mainv', 'royton', 'oibrhhc', 'hodd', 'directcard', 'earlymorningmedia', 'leasin', 'accrec', 'payetravel', 'hyten', 'streetstratford', 'xbiteltd', 'centp', 'ppxr', 'ricohcapital', 'jamroxs', 'xoesyepx', 'chawanzwa', 'sutti', 'financrbs', 'orbtalk', 'gdmuteyn', 'bbfccyc', 'sacard', 'finalta', 'kpwd', 'mbmcn', 'honr', 'optiv', 'kareplusmk', 'neilan', 'bicard', 'marketg', 'shenf', 'ncitius', 'ifmq', 'callidus', 'toughsheet', 'onlinecard', 'ppwyn', 'besgrowthst', 'ringgocard', 'cfre', 'nortech', 'tupsw', 'safarian', 'nsq', 'arenacoventry', 'pawalek', 'hoddb', 'wmng', 'zdrez', 'afriinv', 'xrof', 'globacard', 'ringgo', 'qccg', 'casvisa', 'paultonspark', 'whichcard', 'galliford', 'qyhlog', 'scottishpower', 'vanisha', 'caukill', 'swalec', 'dfds', 'ecasub', 'pumpcard', 'neaa', 'hfpwobgg', 'ndwell', 'doxs', 'cktgk', 'opticia', 'gastech', 'wortley', 'wjg', 'watney', 'afuye', 'gagneja', 'hmhovuu', 'bischof', 'swaby', 'advihex', 'niwg', 'fxpay', 'hassengate', 'lrjlk', 'wellbrookepr', 'pmxml', 'limfp', 'ktkehfk', 'akjzr', 'bedfont', 'nnetgen', 'mariyam', 'mgmtcon', 'wernick', 'swy', 'barclayloan', 'hillii', 'goodey', 'hodnett', 'zscw', 'hambles', 'chesford', 'solutioneau', 'eastbourn', 'wgawoh', 'notemac', 'rql', 'transferwise', 'httpswww', 'gilbeys', 'bsobenco', 'marwo', 'hbptxd', 'neilly', 'islingt', 'dunelm', 'aqpv', 'crrpvb', 'llk', 'yfp', 'hlj', 'guttilla', 'liverpl', 'ltdkare', 'nzf', 'ledg', 'maclellan', 'benefbib', 'torminster', 'patatanian', 'ffezc', 'sanber', 'aitcheso', 'zzmgy', 'bachheta', 'gsthreeg', 'edmundson', 'broadbelt', 'energas', 'bqd', 'bcqkffz', 'esmeloan', 'lancastrian', 'atradiu', 'mhw', 'svariati', 'oolx', 'videotile', 'ppwd', 'mackinovski', 'samirolah', 'aaxl', 'swizal', 'scotlifeemrd', 'nkp', 'rahdbdu', 'ctzx', 'nrbs', 'paybyphone', 'freshmin', 'macgillivray', 'nworthe', 'qewawfp', 'zvsjh', 'hotelsking', 'asare', 'wealdcard', '\\\\griffin', 'netmonkey', 'nkg', 'tytytours', 'titilayo', 'anfold', 'payroo', 'ruparelia', 'tytytour', 'qrk', 'dbdtpda', 'murra', 'svcchg', 'northwdvia', 'oknq', 'ebcard', 'ifsl', 'bnkm', 'ormesher', 'freshworks', 'dellbridge', 'caglayan', 'fuelgenie', 'akqfvphc', 'domstc', 'wegift', 'imperialplus', 'medik', 'fzl', 'fnbk', 'bgu', 'oilgas', 'drainclear', 'vbzb', 'informacist', 'ltdcard', 'axisrdb', 'moonpiguk', 'materialsman', 'ebor', 'ussyg', 'wayp', 'osab', 'francotyp', 'bv\\\\vijzelstraat', 'ltipok', 'htls', 'kqx', 'sweye', 'ocpl', 'nret', 'fasttest', 'buizer', 'motonovo', 'sulc', 'contrc', 'mgce', 'owiuxyhn', 'reshnx', 'taxagility', 'brilliancinv', 'packington', 'journay', 'rileyscard', 'arwbppxc', 'sundcard', 'elmesandsmartltd', 'zxg', 'nurserorionas', 'alq', 'conmaterial', 'sofroniosal', 'barchester', 'bjvvlsd', 'avdc', 'metroweld', 'ctr\\\\unit', 'bagatini', 'marsz', 'groupinv', 'whillis', 'ltinv', 'alqx', 'xbite', 'raileasy', 'crossling', 'eref', 'associatinv', 'icatcare', 'paymt', 'oomb', 'corbycard', 'twmr', 'twck', 'besmiles', 'aliaxis', 'arrowbuild', 'burnay', 'wwnq', 'colver', 'optioncharlie', 'gmbn', 'nferre', 'hmhvpk', 'ncoda', 'bellm', 'mahav', 'govia', 'vitalityhealth', 'anett', 'padarn', 'aerobility', 'wuw', 'kgx', 'contrtrevor', 'chouna', 'swinv', 'pavelin', 'eyetech', 'apcoa', 'bjjqmv', 'blaxell', 'sk+e', 'rheeney', 'keirl', 'nvxy', 'pqq', 'hfsleg', 'secucard', 'fitzmaurictca', 'rhydding', 'adyen', 'tel+', 'tadyspur', 'cjtc', 'semjofr', 'uaxa', 'deveaux', 'kilmister', 'citius', 'clearabee', 'eversource', 'tewart', 'chamkaur', 'e+', 'polmont', 'southgate\\\\n', 'brethertonexpenses', 'freshm', 'prxevuawq', 'royccat', 'sopher', 'athlo', 'farnworth', 'mermodcox', 'dzp', 'musoft', 'abfl', 'rentarc', 'parkincard', 'ikyqc', 'flett', 'abbeyfield', 'mcvittie', 'inncard', 'ã\\x83â£ã\\x82â\\x82ã\\x83â¢ã\\x82â£', 'ixla', 'threegm', 'ogumleye', 'gbcard', 'ppwqtds', 'zfw', 'askey', 'limimission', 'wadds', 'xmtbew', 'vnyl', 'munder', 'hardbase', 'hbpv', 'facebk', 'refrehsment', 'mcann', 'cocard', 'hiscox', 'magricott', 'gswilliammor', 'cxorwfp', 'netmonkeys', 'hdpddps', 'vrqfp', 'zqvxb', 'kdgyg', 'magson', 'appzyla', 'gdba', 'keizergracht', 'gkjdqjtyhb', 'propertiesinv', 'footballtickets', 'allcures', 'hassockseye', 'eyeland', 'xxuahi', 'conilon', 'odriscoll', 'outv', 'alphera', 'sprinkacc', 'thameslink', 'danckaert', 'fairall', 'dhngm', 'hifx', 'saunderson', 'eyese', 'yrp', 'evaris', 'azj', 'nguh', 'oxkt', 'longhai', 'rmrs', 'throssell', 'jiangyou', 'sphererhsmlt', 'ltdw', 'gskurve', 'acceptacard', 'ubecard', 'oldebell', 'vessco', 'wannops', 'gstogetherhe', 'xmbj', 'gsbluespire', 'qij', 'nldnld', 'uridge', 'brks', 'gopsall', 'limitepaya', 'typeform', 'aeur', 'optivision', 'qqjz', 'birmi', 'togetherhealthltd', 'osbou', 'wellbrooke', 'vatcard', 'arval', 'storecard', 'gsuite', 'limixu', 'freshminds', 'lmanifesto', 'gsxtka', 'mqcum', 'auckl', 'qorh', 'soundgas', 'ayling', 'countebolton', 'tvncmw', 'colec', 'streecard', 'hgvr', 'topiwala', 'crdtcard', 'nidb', 'pavinee', 'agincour', 'postaliat', 'ohksnqx', 'wilshpadarn', 'ucard', 'soltani', 'kinnerton', 'jullkhsb', 'vanu', 'rilqbi', 'regenearatcard', 'senzer', 'loanfp', 'tulloc', 'xjoida', 'xqixae', 'ennova', 'ukcard', 'mepfy', 'pontcanncardiff', 'drsuite', 'mdlnds', 'proapollo', 'scollen', 'oyenusi', 'markesage', 'mcnicoll', 'gacek', 'viscard', 'iydebxcur', 'greengate', 'ljh', 'peopleline', 'sightcare', 'marcianak', 'optici', 'ltdltuk', 'radleypost', 'nwbdm', 'brimscard', 'sxdf', 'baytek', 'beauhurst', 'gnbg', 'eato', 'tecc', 'oynt', 'ltdinv', 'busino', 'bcard', 'limitedinv', 'instantprint', 'everylife', 'gvy', 'bfdgpmr', 'wjgdnfvy', 'ledwood', 'stryczkos', 'compco', 'promep', 'tiginvoice', 'thrislington', 'shipco', 'nztq', 'leaseplan', 'winecard', 'osullivanhumboldt', 'tatenda', 'lndon', 'bbgrnlq', 'utiliti', 'wqdr', 'roinvoice', 'cabvision', 'monsen', 'gvh', 'opbt', 'buygroup', 'bodenvill', 'sudworth', 'supersaurus', 'fnsfp', 'rshtio', 'visaxrcard', 'heqh', 'wlfgdz', 'lbgi', 'limdwell', 'abtvp', 'gadliswil', '\\\\internet\\\\b', 'srvs', 'budgens', 'chipo', 'fibrecrm', 'heeney', 'gscasacare', 'yjv', 'amznmktplace', 'mecoy', 'msbill', 'libertari', 'ixpsea', 'edensprings', 'wvdstvl', 'qubicle', 'asattei', 'retromanagementltdaxisrdb', 'ddarrr', 'limbirmingham', 'maltway', 'swancoun', 'porthouse', 'nemati', 'sainthill', 'nqjmd', 'skrodzki', 'harmail', 'simplyhealth', 'mjbaker', 'scoloan', 'xaph', 'eberhart', 'blunden', 'parameswaran', 'hqqa', 'tarbed', 'stratfest', 'ussene', 'hambleside', 'bankline', 'yzgm', 'antalis', 'lnkd', 'rrphc', 'akrtqhs', 'dhanish', 'southwarkcard', 'byrs', 'chakshu', 'boardgamecafe', 'amznmktplacecard', 'nlifetime', 'tvbvv', 'nagrecha', 'corpn', 'jbfqc', 'sefareham', 'ukj', 'edmcard', 'bontoft', 'lewry', 'gslumotax', 'semjo', 'teamsob', 'ndzq', 'grenkelease', 'gyxzhxfp', 'dpdgroup', 'mccloy', 'nlaw', 'rcfp', 'farnwortcard', 'gsnetmonkey', 'reacpjw', 'crich', 'liminv', 'barradell', 'uquz', 'bjzlvgp', 'firedgg', 'rfre', 'enotria', 'symmonds', 'ucheck', 'contentedwri', 'mailcard', 'jtw', 'bjn', 'ocard', 'pnhyjnttwfp', 'stmar', 'lorian', 'selco', 'qtzbk', 'abrah', 'stratilexcontent', 'kooner', 'nkayf', 'kcilv', 'theofficegroupprop', 'parkingcard', 'mickleburgh', 'aktiengesellschaft', 'mvrc', 'isoler', 'gallerloan', 'hmcts', 'vtlumlq', 'netgen', 'oysh', 'ruskim', 'qwzgg', 'castlemead', 'limitebow', 'paymax', 'gaxxxxxxxxxxxx', 'mangercard', 'rhydde', 'fpid', 'rbiox', 'baatfp', 'langleys', 'olj', 'pacardiff', 'taptronic', 'culley', 'glenigan', 'phrly', 'cartridgepeople', 'rkafpg', 'connoils', 'lrag', 'wealden', 'bmbc', 'fcyq', 'developmeinv', 'iannelli', 'highspeedtrainingcard', 'porteous', 'lshb', 'scukl', 'financfp', 'certegy', 'cardnet', 'everylifetec', 'vahtsbun', 'hrfcgentle', 'oldbu', 'wxo', 'ankaracard', 'forect', 'dgq', 'nmike', 'maynardcolcard', 'bmxsxcc', 'zmplx', 'toymaster', 'jewson', 'counc', 'pnqgasxt', 'cmwa', 'jyn', 'octbvxy', 'dugdale', 'mzfp', 'martech', 'quartix', 'nnorthwood', 'wmhn', 'yopa', 'packaginvopak', 'silmo', 'vasiliki', 'ltdsurrey', 'tophamfp', 'downhall', 'gcezrduzzx', 'limitrdm', 'mconnected', 'amtech', 'pitsea', 'sontronics', 'lukashaule', 'calendly', 'gspermanexs', 'bonto', 'xgocardless', 'venesta', 'picrights', 'bvk', 'vqd', 'acota', 'unifrog', 'kalsi', 'padar', 'proark', 'znocp', 'nikit', 'closebrosmotfin', 'adyou', 'jamestdb', 'tviz', 'harlands', 'emra', 'oskw', 'lgk', 'harton', 'gsallworld', 'homebrands', 'easyinvoicefinance', 'zgt', 'gsbigpotato', 'cbur', 'ajnkt', 'nuvven', 'arnaki', 'mpqcard', 'pffn', 'frusher', 'fewnsvl', 'nsenzer', 'puricare', 'yapu', 'gooole', 'aprescard', 'houlgate', 'kilgallon', 'xqfvr', 'rtyfp', 'coulsd', 'bracknellbracknell', 'constructfp', 'abbyna', 'clocard', 'elvey', 'brocklesby', 'ltcard', 'cuserstraat', 'jido', 'limiloquet', 'cmgjk', 'hbugvf', 'xyh', 'gladki', 'rvhly', 'ltdn', 'dioc', 'sparecard', 'buildbase', 'qjp', 'guidone', 'arccard', 'fzc', 'vjvc', 'winsta', 'owfa', 'gresij', 'portesberyschool', 'teelg', 'hmbsgui', 'lmra', 'aqr', 'hemptradesas', 'publishifirst', 'whimpanny', 'suspensionbristol', 'rmcard', 'rbq', 'hhy', 'helppay', 'ltdinfinity', 'binv', 'ynqbi', '-PRON-', 'dkau', 'hepple', 'payecard', 'cchelp', 'grenkeleasing', 'newmore', 'mfbpa', 'charitini', 'nmanifesto', 'crutchfie', 'newaxisrdb', 'ymt', 'fndp', 'tgjnz', 'axappp', 'juul', 'arncmxz', 'systemsaving', 'est\\\\new', 'deoxit', 'prtnr', 'cavenay', 'jza', 'anwg', 'blencowe', 'fabco', 'tumbridge', 'apqwmn', 'managemenetmonkeys', 'bolanl', 'kxxc', 'elmes', 'kareplus', 'nipok', 'bcrtwdc', 'premierinn', 'fxmcard', 'ghdozrbkw', 'morson', 'adamcz', 'laggan', 'lilon', 'lqel', 'attie', 'bolam', 'mungos', 'bbhl', 'kr+a', 'dbkcddim', 'kpmk', 'connah', 'ltsi', 'harleystrecard', 'investec', 'hhw', 'cricklewoodcard', 'bbjfjf', 'cwave', 'zipcarcard', 'invinca', 'etox', 'ebankgo', 'autoval', 'hahanzsx', 'lfirst', 'icwe', 'nyxxxxxxxxxxxx', 'cruick', 'rsulof', 'ndds', 'elberry', 'postalia', 'levelit', 'datrixpurple', 'kloeckner', 'onecard', 'rahmani', 'semjogtci', 'pgq', 'sheafcard', 'lcikzs', 'rhokr', 'radconsul', 'chalkley', 'ksme', 'zinkin', 'ukstripe', 'brothwell', 'esendex', 'dagia', 'dloan', 'poess', 'acfcwcard', 'bqch', 'rickerby', 'npitt', 'brauhaus', 'gordano', 'bbgvrfv', 'gssobencont', 'jinkinson', 'gleed', 'ufp', 'gurdip', 'shreyavyas', 'vwfs', 'systemcfs', 'petru', 'aoqcobnk', 'allport', 'ybbpi', 'wernham', 'gambado', 'killik', 'sproston', 'qzm', 'kensing', 'r+d', 'dickins', 'uvdb', 'sumup', 'sylds', 'mobitrans', 'sobencc', 'everydafp', 'sthrfb', 'mycotrition', 'bbkkhpw', 'chadderton', 'tqp', 'gonmisol', 'cooperativcard', 'jxwwr', 'ultimatecar', 'corstor', 'fielden', 'adamlyduchcard', 'amazocard', 'mconnecte', 'jlxxjva', 'transeiver', 'oxij', 'insurgeltd', 'nvhne', 'lymburn', 'segro', 'limmonthly', 'bodycote', 'stroomfabriek', 'amp;west', 'gzq', 'pycn', 'bnpycbl', 'ninfinity', 'hubim', 'yft', 'firmcard', 'datatruth', 'endole', 'xwz', 'onlinternet', 'lcardiff', 'chewter', 'planetorganic', 'gssuvhealth', 'hotcard', 'deansbrook', 'gadbrook', 'dzua', 'gocardless', 'deallus', 'sgas', 'quarzi', 'scurr', 'vspicer', 'rykneld', 'glanbia', 'zepmw', 'growthsgrowth', 'consumersc', 'alminta', 'wpam', 'mcevilly', 'conrats', 'qruvz', 'emcrook', 'prosaw', 'jmgame', 'xtfcky', 'bbjyflr', 'vcqj', 'ppwdl', 'scotlife', 'bowley', 'elddi', 'kozlik', 'elmmarketing', 'hoshe', 'qgw', 'shoesmith', 'ticehu', 'wellbei', 'chadigital', 'qeo', 'yxxj', 'zjw', 'ninv', 'zyvabzvr', 'belokovylska', 'levengoo', 'hfpqsd', 'portesbery', 'plccard', 'gscapital', 'qzmgx', 'bussarin', 'ethosenergy', 'intinv', 'pattenden', 'ashfords', 'losborne', 'ibsfp', 'biswajit', 'j+h', 'beecell', 'huntine', 'autolease', 'northwdfp', 'wmh', 'dyfed', 'cbceb', 'readyprint', 'ohkg', 'pmofvcap', 'cotax', 'shze', 'arcontrolslt', 'ukfp', 'aimm', 'prokhorenko', 'qfayftmmcyhgocardless', 'lvom', 'lowem', 'qpkx', 'ibcnesijwfp', 'imtc', 'funmilola', 'fgchs', 'uczaipwct', 'returnfp', 'btjtek', 'parinv', 'gscwave', 'limicoda', 'mobilelab', 'liinv', 'thoman', 'aberavon'}\n"
     ]
    }
   ],
   "source": [
    "def glov_check(model, text):\n",
    "    return text in model\n",
    "\n",
    "#Checking OOV in GloVe\n",
    "distinct_oov, total_oov, oob_words = oov(X_train['description'], glove, glov_check)"
   ]
  },
  {
   "cell_type": "code",
   "execution_count": 39,
   "metadata": {},
   "outputs": [],
   "source": [
    "#Get glove embeddings for transaction description\n",
    "def glov_embeddings(model, texts):\n",
    "        matrix =[]\n",
    "        for text in texts:\n",
    "            oov_matrix = []\n",
    "            if len(text) > 0 :\n",
    "                for word in text:\n",
    "                    if  word in model.vocab:\n",
    "                        oov_matrix.append(model[word])\n",
    "\n",
    "            if len(oov_matrix) == 0:\n",
    "                oov_matrix.append(np.zeros(model.vector_size))\n",
    "            matrix.append(np.mean(oov_matrix, axis=0))\n",
    "        return matrix\n",
    "\n",
    "glove_pre_model_ = glov_embeddings(glove,np.array(X_train['description']))\n",
    "glove_pre_df = pd.DataFrame(glove_pre_model_)"
   ]
  },
  {
   "cell_type": "markdown",
   "metadata": {},
   "source": [
    "**3.2.4 BERT**"
   ]
  },
  {
   "cell_type": "code",
   "execution_count": 37,
   "metadata": {},
   "outputs": [],
   "source": [
    "#Load BERT\n",
    "from bert_serving.client import BertClient\n",
    "bc = BertClient()"
   ]
  },
  {
   "cell_type": "code",
   "execution_count": 38,
   "metadata": {},
   "outputs": [],
   "source": [
    "#Get BERT representations\n",
    "bert_embed = bc.encode(X_train_des)"
   ]
  },
  {
   "cell_type": "markdown",
   "metadata": {},
   "source": [
    "### 3.3 Word Representation Selection"
   ]
  },
  {
   "cell_type": "code",
   "execution_count": 40,
   "metadata": {},
   "outputs": [
    {
     "name": "stdout",
     "output_type": "stream",
     "text": [
      "0.8950891583330879\n",
      "0.7467305160166757\n",
      "0.8139457204697054\n",
      "0.8016367196380949\n",
      "0.6448047049602799\n"
     ]
    }
   ],
   "source": [
    "kfold = StratifiedKFold(n_splits=5, shuffle=True, random_state=200)\n",
    "\n",
    "#Get the crossvalidation F1 score of the representations\n",
    "score_w2v_self = cross_val_score(svc, word2vec_self_matrix, y_train, cv=kfold, scoring='f1_macro')\n",
    "score_w2v_pre_train = cross_val_score(svc, w2v_pre_model_df, y_train, cv=kfold, scoring='f1_macro')\n",
    "score_bow = cross_val_score(svc, bow_matrix, y_train,cv=kfold, scoring='f1_macro')\n",
    "score_glov = cross_val_score(svc, glove_pre_df, y_train, cv=kfold, scoring='f1_macro')\n",
    "score_bert = cross_val_score(svc, bert_embed, y_train, cv=kfold, scoring='f1_macro')\n",
    "print(score_bow.mean())\n",
    "print(score_w2v_self.mean())\n",
    "print(score_w2v_pre_train.mean())\n",
    "print(score_glov.mean())\n",
    "print(score_bert.mean())"
   ]
  },
  {
   "cell_type": "code",
   "execution_count": 41,
   "metadata": {},
   "outputs": [
    {
     "data": {
      "image/png": "[encoded data removed]",
      "text/plain": [
       "<Figure size 720x288 with 1 Axes>"
      ]
     },
     "metadata": {
      "needs_background": "light"
     },
     "output_type": "display_data"
    }
   ],
   "source": [
    "plt.figure(figsize=(10,4))\n",
    "\n",
    "# Plot the score of each model\n",
    "plt.barh(range(5), [score_glov.mean()*100,score_bow.mean()*100,score_w2v_self.mean()*100,score_w2v_pre_train.mean()*100,score_bert.mean()*100], height=0.7, color='steelblue', alpha=0.8)\n",
    "plt.yticks(range(5), ['GloVe','Bag of Words','W2V self-trained', 'W2V pre-trained','BERT'])\n",
    "plt.xlim(0,100)\n",
    "plt.title(\"The Average 5-Fold CV Score of Word Representation Model\")\n",
    "plt.savefig(r'CV Score of Word Representation Model\"(after semi).png',bbox_inches='tight')"
   ]
  },
  {
   "cell_type": "markdown",
   "metadata": {},
   "source": [
    " "
   ]
  },
  {
   "cell_type": "code",
   "execution_count": 42,
   "metadata": {},
   "outputs": [],
   "source": [
    "scoring = ('accuracy','precision_macro','recall_macro','f1_macro')\n",
    "kfold = StratifiedKFold(n_splits=5, shuffle=True, random_state=200)\n",
    "\n",
    "#Getting a set of scores of word representations\n",
    "score_bow = cross_validate(svc, bow_matrix, y_train, cv=kfold, scoring= scoring,n_jobs = -1)\n",
    "score_w2v_self = cross_validate(svc, word2vec_self_matrix, y_train, cv=kfold, scoring= scoring,n_jobs = -1)\n",
    "score_w2v_pre_train = cross_validate(svc, w2v_pre_model_df, y_train, cv=kfold, scoring= scoring,n_jobs = -1)\n",
    "score_glov = cross_validate(svc, glove_pre_df, y_train, cv=kfold, scoring= scoring,n_jobs = -1)\n",
    "score_bert = cross_validate(svc, bert_embed, y_train, cv=kfold, scoring= scoring,n_jobs = -1)"
   ]
  },
  {
   "cell_type": "code",
   "execution_count": 43,
   "metadata": {},
   "outputs": [
    {
     "name": "stdout",
     "output_type": "stream",
     "text": [
      "Accuracy: 0.9336978869106611,Precision: 0.9496038928053074,Recall: 0.8702767989635062,F1 Score: 0.8950891583330879\n",
      "Accuracy: 0.8913753412021975,Precision: 0.8118307397971755,Recall: 0.7249596526311277,F1 Score: 0.7467305160166757\n",
      "Accuracy: 0.9113292732376994,Precision: 0.8568632886412567,Recall: 0.794769310481916,F1 Score: 0.8139457204697054\n",
      "Accuracy: 0.8979733204819776,Precision: 0.8526908617434742,Recall: 0.7819768198577572,F1 Score: 0.8016367196380949\n",
      "Accuracy: 0.8731906729213386,Precision: 0.7357895391825227,Recall: 0.6074938256829434,F1 Score: 0.6448047049602799\n"
     ]
    }
   ],
   "source": [
    "#Show the scores\n",
    "results = list()\n",
    "scores = [score_bow,score_w2v_self,score_w2v_pre_train,score_glov,score_bert]\n",
    "\n",
    "for score in scores:\n",
    "    sorted(score.keys())\n",
    "    accuracy = score['test_accuracy'].mean()\n",
    "    precision_macro = score['test_precision_macro'].mean()\n",
    "    recall_macro = score['test_recall_macro'].mean()\n",
    "    f1_macro = score['test_f1_macro'].mean()\n",
    "    print('Accuracy: {},Precision: {},Recall: {},F1 Score: {}'.format(accuracy,precision_macro,recall_macro,f1_macro))\n",
    "    results.append({'accuracy':accuracy ,'precision':precision_macro, 'recall':recall_macro ,'f1_score':f1_macro})"
   ]
  },
  {
   "cell_type": "code",
   "execution_count": 44,
   "metadata": {},
   "outputs": [
    {
     "data": {
      "image/png": "[encoded data removed]",
      "text/plain": [
       "<Figure size 1080x576 with 1 Axes>"
      ]
     },
     "metadata": {
      "needs_background": "light"
     },
     "output_type": "display_data"
    }
   ],
   "source": [
    "a = pd.DataFrame(results)\n",
    "model = ['Bag of Words','Self-trained W2V','Pre-trained W2V','GloVe','BERT']\n",
    "fig, ax = plt.subplots(figsize=(15,8))\n",
    "\n",
    "# Plot the score of each model\n",
    "X = np.arange(4)\n",
    "plt.bar(X + 0.00, a.loc[0], color = 'lightblue', width = 0.15,label=model[0])\n",
    "plt.bar(X + 0.15, a.loc[1], color = 'steelblue', width = 0.15,label=model[1])\n",
    "plt.bar(X + 0.30, a.loc[2], color = 'cornflowerblue', width = 0.15,label=model[2])\n",
    "plt.bar(X + 0.45, a.loc[3], color = 'royalblue', width = 0.15,label=model[3])\n",
    "plt.bar(X + 0.60, a.loc[4], color = 'darkblue', width = 0.15,label=model[4])\n",
    "\n",
    "ax.set_xticks([0.3,1.3,2.3,3.3])\n",
    "ax.set_xticklabels(a.columns)\n",
    "plt.xlabel('Evaluation Variables')\n",
    "plt.ylabel('Score')\n",
    "plt.title(\"Performance of Word Representation Methods\")\n",
    "plt.legend()\n",
    "\n",
    "plt.savefig(r'Performance of Word Representation Methods.png',bbox_inches='tight')"
   ]
  },
  {
   "cell_type": "code",
   "execution_count": null,
   "metadata": {},
   "outputs": [],
   "source": []
  },
  {
   "cell_type": "markdown",
   "metadata": {},
   "source": [
    "## 4. Generate Text Feature for the Final DataFrame"
   ]
  },
  {
   "cell_type": "code",
   "execution_count": 26,
   "metadata": {},
   "outputs": [],
   "source": [
    "#Get the embedding for the final representation: bag of words\n",
    "bow = CountVectorizer(ngram_range=(1,3),max_features=13100)\n",
    "bow_matrix = bow.fit_transform(X_train_des)\n",
    "\n",
    "def bow_vectoriser(df,indices):\n",
    "    des = [' '.join(x) for x in df['description']]\n",
    "    bow_trans = bow.transform(des)\n",
    "    bow_df = bow_trans.toarray()\n",
    "    bow_df = pd.DataFrame(bow_df)\n",
    "    bow_df.index = indices\n",
    "    return bow_df\n",
    "\n",
    "X_train_des = bow_vectoriser(X_train,train_indices)\n",
    "X_test_des = bow_vectoriser(X_test,test_indices)"
   ]
  },
  {
   "cell_type": "code",
   "execution_count": 31,
   "metadata": {},
   "outputs": [
    {
     "name": "stderr",
     "output_type": "stream",
     "text": [
      "/opt/anaconda/envs/Python3/lib/python3.6/site-packages/ipykernel/__main__.py:5: SettingWithCopyWarning: \n",
      "A value is trying to be set on a copy of a slice from a DataFrame.\n",
      "Try using .loc[row_indexer,col_indexer] = value instead\n",
      "\n",
      "See the caveats in the documentation: https://pandas.pydata.org/pandas-docs/stable/user_guide/indexing.html#returning-a-view-versus-a-copy\n",
      "/opt/anaconda/envs/Python3/lib/python3.6/site-packages/ipykernel/__main__.py:6: SettingWithCopyWarning: \n",
      "A value is trying to be set on a copy of a slice from a DataFrame.\n",
      "Try using .loc[row_indexer,col_indexer] = value instead\n",
      "\n",
      "See the caveats in the documentation: https://pandas.pydata.org/pandas-docs/stable/user_guide/indexing.html#returning-a-view-versus-a-copy\n",
      "/opt/anaconda/envs/Python3/lib/python3.6/site-packages/ipykernel/__main__.py:5: SettingWithCopyWarning: \n",
      "A value is trying to be set on a copy of a slice from a DataFrame.\n",
      "Try using .loc[row_indexer,col_indexer] = value instead\n",
      "\n",
      "See the caveats in the documentation: https://pandas.pydata.org/pandas-docs/stable/user_guide/indexing.html#returning-a-view-versus-a-copy\n",
      "/opt/anaconda/envs/Python3/lib/python3.6/site-packages/ipykernel/__main__.py:6: SettingWithCopyWarning: \n",
      "A value is trying to be set on a copy of a slice from a DataFrame.\n",
      "Try using .loc[row_indexer,col_indexer] = value instead\n",
      "\n",
      "See the caveats in the documentation: https://pandas.pydata.org/pandas-docs/stable/user_guide/indexing.html#returning-a-view-versus-a-copy\n"
     ]
    }
   ],
   "source": [
    "#Form the final training and testing sets\n",
    "from sklearn import preprocessing\n",
    "scaler = preprocessing.StandardScaler()\n",
    "\n",
    "def form_final_df(des_df,num_df,label):\n",
    "    num_df['amount_std'] = scaler.fit_transform(num_df['amount'].values.reshape(-1,1))\n",
    "    num_df['balance_std'] = scaler.fit_transform(num_df['balance'].values.reshape(-1,1))\n",
    "    X = pd.concat([des_df,num_df[['local_rule_creation_date','amount_std','balance_std','debit_binary', 'foreign_binary','financing_binary','account_binary','hmrc_vat','hmrc_corp','hmrc_paye','week_of_month_2','week_of_month_3','week_of_month_4','token_length']]], axis=1)\n",
    "    X_withlabels = pd.concat([X,label], axis=1)\n",
    "    return X_withlabels\n",
    "\n",
    "Train = form_final_df(X_train_des,X_train,y_train)\n",
    "Test = form_final_df(X_test_des,X_test,y_test)"
   ]
  },
  {
   "cell_type": "code",
   "execution_count": 34,
   "metadata": {},
   "outputs": [],
   "source": [
    "Train.to_csv(r'Train_trad.csv')\n",
    "Test.to_csv(r'Test_trad.csv')"
   ]
  }
 ],
 "metadata": {
  "kernelspec": {
   "display_name": "Python [default]",
   "language": "python",
   "name": "python3"
  },
  "language_info": {
   "codemirror_mode": {
    "name": "ipython",
    "version": 3
   },
   "file_extension": ".py",
   "mimetype": "text/x-python",
   "name": "python",
   "nbconvert_exporter": "python",
   "pygments_lexer": "ipython3",
   "version": "3.6.10"
  }
 },
 "nbformat": 4,
 "nbformat_minor": 2
}
