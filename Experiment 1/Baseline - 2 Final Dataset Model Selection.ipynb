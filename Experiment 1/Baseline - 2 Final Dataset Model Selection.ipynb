{
 "cells": [
  {
   "cell_type": "markdown",
   "metadata": {},
   "source": [
    "# Baseline - Part 2: Final Dataset Model Selection"
   ]
  },
  {
   "cell_type": "markdown",
   "metadata": {},
   "source": [
    "**Setup**"
   ]
  },
  {
   "cell_type": "code",
   "execution_count": 1,
   "metadata": {
    "scrolled": true
   },
   "outputs": [
    {
     "name": "stdout",
     "output_type": "stream",
     "text": [
      "\u001b[1m\n",
      "         .:::.     .::.       \n",
      "        ....yy:    .yy.       \n",
      "        :.  .yy.    y.        \n",
      "             :y:   .:         \n",
      "             .yy  .:          \n",
      "              yy..:           \n",
      "              :y:.            \n",
      "              .y.             \n",
      "             .:.              \n",
      "        ....:.                \n",
      "        :::.                  \n",
      "\u001b[0;33m\n",
      "• Project files and data should be stored in /project. This is shared among everyone\n",
      "  in the project.\n",
      "• Personal files and configuration should be stored in /home/faculty.\n",
      "• Files outside /project and /home/faculty will be lost when this server is terminated.\n",
      "• Create custom environments to setup your servers reproducibly.\n",
      "\u001b[0m\n",
      "Requirement already satisfied: xgboost in /opt/anaconda/envs/Python3/lib/python3.6/site-packages (1.2.0)\n",
      "Requirement already satisfied: scipy in /opt/anaconda/envs/Python3/lib/python3.6/site-packages (from xgboost) (1.5.0)\n",
      "Requirement already satisfied: numpy in /opt/anaconda/envs/Python3/lib/python3.6/site-packages (from xgboost) (1.18.5)\n"
     ]
    }
   ],
   "source": [
    "#Loading key libraries for later analysis\n",
    "import pandas as pd\n",
    "import numpy as np\n",
    "import matplotlib.pyplot as plt\n",
    "import seaborn as sns\n",
    "import re\n",
    "import time\n",
    "pd.set_option('max_colwidth', 1000)\n",
    "from collections import Counter\n",
    "from sklearn.svm import SVC\n",
    "from sklearn.model_selection import cross_val_score, cross_validate,GridSearchCV,StratifiedKFold\n",
    "from sklearn.linear_model import LogisticRegression\n",
    "from sklearn.metrics import confusion_matrix, classification_report,mean_squared_error\n",
    "!pip install xgboost\n",
    "!pip install spacy\n",
    "import sklearn   \n",
    "import scipy.io as scio\n",
    "from sklearn.metrics import accuracy_score\n",
    "from sklearn.utils import shuffle\n",
    "import os\n",
    "from sklearn.neighbors import KNeighborsClassifier\n",
    "from sklearn.naive_bayes import GaussianNB\n",
    "from sklearn.ensemble import RandomForestClassifier, ExtraTreesClassifier\n",
    "from xgboost import XGBClassifier\n",
    "import functions"
   ]
  },
  {
   "cell_type": "code",
   "execution_count": 2,
   "metadata": {},
   "outputs": [],
   "source": [
    "#Read in bank transactions\n",
    "Train = pd.read_csv(r'Train_trad.csv',low_memory=False,encoding='latin1')\n",
    "Test = pd.read_csv(r'Test_trad.csv',low_memory=False,encoding='latin1')"
   ]
  },
  {
   "cell_type": "code",
   "execution_count": 3,
   "metadata": {},
   "outputs": [],
   "source": [
    "#Prepare Final DataFrame\n",
    "Train.index = Train['Unnamed: 0'].values\n",
    "Train = functions.drop_column(Train,['Unnamed: 0','local_rule_creation_date'])\n",
    "Test.index = Test['Unnamed: 0'].values\n",
    "Test = functions.drop_column(Test,['Unnamed: 0','local_rule_creation_date'])"
   ]
  },
  {
   "cell_type": "code",
   "execution_count": 5,
   "metadata": {},
   "outputs": [],
   "source": [
    "X_train = Train.iloc[:,:-1]\n",
    "X_test = Test.iloc[:,:-1]\n",
    "y_train = Train.iloc[:,-1]\n",
    "y_test = Test.iloc[:,-1]"
   ]
  },
  {
   "cell_type": "markdown",
   "metadata": {},
   "source": [
    " "
   ]
  },
  {
   "cell_type": "markdown",
   "metadata": {},
   "source": [
    "## 1. Model Selection"
   ]
  },
  {
   "cell_type": "markdown",
   "metadata": {},
   "source": [
    "### 1.1 Benchmark models"
   ]
  },
  {
   "cell_type": "code",
   "execution_count": 2,
   "metadata": {},
   "outputs": [
    {
     "name": "stdout",
     "output_type": "stream",
     "text": [
      "RandomForestClassifier    CV-5: Accuracy: 0.96202,Precision: 0.96515,Recall: 0.9262,F1 Score: 0.94036\n",
      "LogisticRegression        CV-5: Accuracy: 0.95945,Precision: 0.96628,Recall: 0.92518,F1 Score: 0.94053\n",
      "ExtraTreesClassifier      CV-5: Accuracy: 0.96267,Precision: 0.96528,Recall: 0.92637,F1 Score: 0.94025\n",
      "GaussianNB                CV-5: Accuracy: 0.86289,Precision: 0.72854,Recall: 0.91322,F1 Score: 0.77494\n",
      "SVC                       CV-5: Accuracy: 0.93933,Precision: 0.96426,Recall: 0.86846,F1 Score: 0.89992\n",
      "XGBClassifier             CV-5: Accuracy: 0.9588,Precision: 0.95565,Recall: 0.9023,F1 Score: 0.92185\n",
      "KNeighborsClassifier      CV-5: Accuracy: 0.92501,Precision: 0.94032,Recall: 0.86008,F1 Score: 0.8896\n",
      "MLPClassifier             CV-5: Accuracy: 0.95703,Precision: 0.96961,Recall: 0.91888,F1 Score: 0.93879\n"
     ]
    }
   ],
   "source": [
    "#Cross validation and the scores used for evaluation and comparison\n",
    "kfold = StratifiedKFold(n_splits=5,random_state=200,shuffle=True)\n",
    "scoring = ('accuracy','precision_macro','recall_macro','f1_macro')\n",
    "\n",
    "#Benchmark models with default settings\n",
    "classifiers = [\n",
    "    RandomForestClassifier(),\n",
    "    LogisticRegression(max_iter = 250000),\n",
    "    ExtraTreesClassifier(),\n",
    "    GaussianNB(),\n",
    "    BernoulliNB(),\n",
    "    SVC(),\n",
    "    XGBClassifier(),\n",
    "    KNeighborsClassifier(),\n",
    "    MLPClassifier()\n",
    "]\n",
    "\n",
    "results = list()\n",
    "\n",
    "#fit and train the training set with 5 fold cross validation to get its scores\n",
    "for model in classifiers:\n",
    "    model.seed = 20\n",
    "    \n",
    "    scores = cross_validate(model, X_train, y_train, cv=kfold, scoring= scoring, n_jobs = -1)\n",
    "    sorted(scores.keys())\n",
    "    accuracy = scores['test_accuracy'].mean()\n",
    "    precision_macro = scores['test_precision_macro'].mean()\n",
    "    recall_macro = scores['test_recall_macro'].mean()\n",
    "    f1_macro = scores['test_f1_macro'].mean()\n",
    "    score_description = 'Accuracy: {},Precision: {},Recall: {},F1 Score: {}'.format(round(accuracy,5),round(precision_macro,5),\n",
    "                                                                                    round(recall_macro,5),round(f1_macro,5))\n",
    "    results.append({'accuracy':accuracy ,'precision':precision_macro, 'recall':recall_macro ,'f1_score':f1_macro})\n",
    "    print('{model:25} CV-5: {score}'.format(\n",
    "    model=model.__class__.__name__,\n",
    "    score=score_description\n",
    " ))"
   ]
  },
  {
   "cell_type": "code",
   "execution_count": 30,
   "metadata": {},
   "outputs": [
    {
     "data": {
      "image/png": "[encoded data removed]",
      "text/plain": [
       "<Figure size 720x288 with 1 Axes>"
      ]
     },
     "metadata": {
      "needs_background": "light"
     },
     "output_type": "display_data"
    }
   ],
   "source": [
    "a = pd.DataFrame(results)\n",
    "model = ['RandomForestClassifier','LogisticRegression','ExtraTreesClassifier','GaussianNB','BernoulliNB','SVC','XGBClassifier'\n",
    "         ,'KNeighborsClassifier','MLPClassifier']\n",
    "plt.figure(figsize=(10,4))\n",
    "\n",
    "# Plot the score of each model\n",
    "plt.barh(range(9), (a['f1_score'].values)*100, height=0.7, color='steelblue', alpha=0.8)\n",
    "plt.yticks(range(9), model)\n",
    "plt.xlim(0,100)\n",
    "plt.title(\"The Average 5-Fold CV F1 Score of Baseline Classification Models\")\n",
    "plt.savefig(r'CV Score of class Model_trad.png',bbox_inches='tight')"
   ]
  },
  {
   "cell_type": "code",
   "execution_count": 38,
   "metadata": {},
   "outputs": [
    {
     "data": {
      "image/png": "[encoded data removed]",
      "text/plain": [
       "<Figure size 1080x576 with 1 Axes>"
      ]
     },
     "metadata": {
      "needs_background": "light"
     },
     "output_type": "display_data"
    }
   ],
   "source": [
    "a = pd.DataFrame(results)\n",
    "model = ['RandomForestClassifier','LogisticRegression','ExtraTreesClassifier','GaussianNB','BernoulliNB','SVC','XGBClassifier',\n",
    "        'KNeighborsClassifier','MLPClassifier']\n",
    "\n",
    "fig, ax = plt.subplots(figsize=(15,8))\n",
    "width = 0.1\n",
    "\n",
    "# Plot the score of each model\n",
    "X = np.arange(4)\n",
    "plt.bar(X + 0.00, a.loc[0], color = 'lightblue', width = width,label=model[0])\n",
    "plt.bar(X + width, a.loc[1], color = 'steelblue', width = width,label=model[1])\n",
    "plt.bar(X + width*2, a.loc[2], color = 'cornflowerblue', width = width,label=model[2])\n",
    "plt.bar(X + width*3, a.loc[3], color = 'royalblue', width = width,label=model[3])\n",
    "plt.bar(X + width*4, a.loc[4], color = 'midnightblue', width = width,label=model[4])\n",
    "plt.bar(X + width*5, a.loc[5], color = 'skyblue', width =width,label=model[5])\n",
    "plt.bar(X + width*6, a.loc[6], color = 'deepskyblue', width = width,label=model[6])\n",
    "plt.bar(X + width*7, a.loc[7], color = 'dodgerblue', width = width,label=model[7])\n",
    "plt.bar(X + width*8, a.loc[8], color = 'darkblue', width = width,label=model[8])\n",
    "\n",
    "ax.set_xticks([0.3,1.3,2.3,3.3])\n",
    "ax.set_xticklabels(a.columns)\n",
    "plt.xlabel('Evaluation Variables')\n",
    "plt.ylabel('Score')\n",
    "plt.title(\"Performance of Classification Models\")\n",
    "plt.legend()\n",
    "\n",
    "plt.savefig(r'Performance of class models_Trad.png',bbox_inches='tight')"
   ]
  },
  {
   "cell_type": "markdown",
   "metadata": {},
   "source": [
    "## 1.2 Fine Tuning Top 4 Selected Models"
   ]
  },
  {
   "cell_type": "code",
   "execution_count": 8,
   "metadata": {},
   "outputs": [],
   "source": [
    "from sklearn.model_selection import GridSearchCV\n",
    "def gridsearch(model,param):\n",
    "    kfold = StratifiedKFold(n_splits=5,random_state=200,shuffle=True)\n",
    "    np.random.seed(0)\n",
    "    clf=GridSearchCV(model,param, cv=kfold, n_jobs=-1)\n",
    "    clf.fit(X_train, y_train)\n",
    "    return clf.best_params_"
   ]
  },
  {
   "cell_type": "markdown",
   "metadata": {},
   "source": [
    "### 1.2.1 Extra Trees"
   ]
  },
  {
   "cell_type": "code",
   "execution_count": 14,
   "metadata": {},
   "outputs": [
    {
     "data": {
      "text/plain": [
       "{'max_depth': None,\n",
       " 'max_features': 'auto',\n",
       " 'min_samples_leaf': 1,\n",
       " 'min_samples_split': 2,\n",
       " 'n_estimators': 200}"
      ]
     },
     "execution_count": 14,
     "metadata": {},
     "output_type": "execute_result"
    }
   ],
   "source": [
    "et = ExtraTreesClassifier()\n",
    "\n",
    "grid_param={\"n_estimators\": [10, 50, 100, 200], \n",
    "           \"max_features\": [\"auto\",\"sqrt\",\"log2\"],\n",
    "           \"max_depth\": [None,10, 30, 50], \n",
    "           \"min_samples_split\": [2,5,10],\n",
    "           \"min_samples_leaf\": [1,2,5]}\n",
    "\n",
    "gridsearch(et,grid_param)"
   ]
  },
  {
   "cell_type": "markdown",
   "metadata": {},
   "source": [
    "### 1.2.2 Random Forest Classifier"
   ]
  },
  {
   "cell_type": "code",
   "execution_count": 15,
   "metadata": {},
   "outputs": [
    {
     "data": {
      "text/plain": [
       "{'max_depth': None,\n",
       " 'max_features': 'auto',\n",
       " 'min_samples_leaf': 1,\n",
       " 'min_samples_split': 2,\n",
       " 'n_estimators': 50}"
      ]
     },
     "execution_count": 15,
     "metadata": {},
     "output_type": "execute_result"
    }
   ],
   "source": [
    "rf = RandomForestClassifier()\n",
    "\n",
    "grid_param={\"n_estimators\": [1,10,50,100], \n",
    "           \"max_features\": [\"auto\",\"sqrt\",\"log2\"],\n",
    "           \"max_depth\": [None,10,30,50,70], \n",
    "           \"min_samples_split\": [2,10,30],\n",
    "           \"min_samples_leaf\": [1,10,30]}\n",
    "\n",
    "gridsearch(rf,grid_param)"
   ]
  },
  {
   "cell_type": "markdown",
   "metadata": {},
   "source": [
    "### 1.2.3 LogisticRegression"
   ]
  },
  {
   "cell_type": "code",
   "execution_count": 31,
   "metadata": {},
   "outputs": [
    {
     "data": {
      "text/plain": [
       "{'class_weight': None, 'solver': 'saga'}"
      ]
     },
     "execution_count": 31,
     "metadata": {},
     "output_type": "execute_result"
    }
   ],
   "source": [
    "lr = LogisticRegression(max_iter = 250000)\n",
    "\n",
    "grid_param={\"class_weight\": ['balanced',None],\n",
    "            \"solver\": ['newton-cg','sag','saga']}\n",
    "\n",
    "gridsearch(lr,grid_param)"
   ]
  },
  {
   "cell_type": "markdown",
   "metadata": {},
   "source": [
    "### 1.2.4 MLP"
   ]
  },
  {
   "cell_type": "code",
   "execution_count": 32,
   "metadata": {},
   "outputs": [
    {
     "data": {
      "text/plain": [
       "{'activation': 'relu', 'alpha': 0.05, 'hidden_layer_sizes': (200, 200)}"
      ]
     },
     "execution_count": 32,
     "metadata": {},
     "output_type": "execute_result"
    }
   ],
   "source": [
    "mlp = MLPClassifier()\n",
    "\n",
    "grid_param = {\n",
    "    'hidden_layer_sizes': [(100,),(100,100),(200,200)],\n",
    "    'activation': ['tanh', 'relu','logistic'],\n",
    "    'alpha': [0.0001, 0.05],\n",
    "}\n",
    "gridsearch(mlp,grid_param)"
   ]
  },
  {
   "cell_type": "markdown",
   "metadata": {},
   "source": [
    "## 1.3 Results of Top Performanced Classifiers"
   ]
  },
  {
   "cell_type": "code",
   "execution_count": 7,
   "metadata": {},
   "outputs": [
    {
     "name": "stdout",
     "output_type": "stream",
     "text": [
      "RandomForestClassifier    CV-5: Accuracy: 0.96218,Precision: 0.96587,Recall: 0.92554,F1 Score: 0.94031\n",
      "LogisticRegression        CV-5: Accuracy: 0.95961,Precision: 0.96803,Recall: 0.925,F1 Score: 0.94138\n",
      "ExtraTreesClassifier      CV-5: Accuracy: 0.9617,Precision: 0.96412,Recall: 0.9267,F1 Score: 0.93998\n",
      "MLPClassifier             CV-5: Accuracy: 0.96315,Precision: 0.96721,Recall: 0.93144,F1 Score: 0.94436\n"
     ]
    }
   ],
   "source": [
    "from sklearn.neural_network import MLPClassifier\n",
    "kfold = StratifiedKFold(n_splits=5,random_state=200,shuffle=True)\n",
    "scoring = ('accuracy','precision_macro','recall_macro','f1_macro')\n",
    "\n",
    "classifiers = [\n",
    "    RandomForestClassifier(max_depth= None,max_features='auto',min_samples_leaf= 1,min_samples_split= 2,n_estimators= 50),\n",
    "    LogisticRegression(class_weight= None, solver= 'saga',max_iter = 250000),\n",
    "    ExtraTreesClassifier(max_depth= None,max_features='auto',min_samples_leaf= 1,min_samples_split= 2,n_estimators= 200),\n",
    "    MLPClassifier(activation= 'relu',alpha= 0.05,hidden_layer_sizes= (200,200))\n",
    "]\n",
    "\n",
    "results_post_tune = list()\n",
    "\n",
    "for model in classifiers:\n",
    "    model.seed = 20\n",
    "    \n",
    "    scores = cross_validate(model, X_train, y_train, cv=kfold, scoring= scoring, n_jobs = -1)\n",
    "    sorted(scores.keys())\n",
    "    accuracy = scores['test_accuracy'].mean()\n",
    "    precision_macro = scores['test_precision_macro'].mean()\n",
    "    recall_macro = scores['test_recall_macro'].mean()\n",
    "    f1_macro = scores['test_f1_macro'].mean()\n",
    "    score_description = 'Accuracy: {},Precision: {},Recall: {},F1 Score: {}'.format(round(accuracy,5),round(precision_macro,5),\n",
    "                                                                                    round(recall_macro,5),round(f1_macro,5))\n",
    "    results_post_tune.append({'accuracy':accuracy ,'precision':precision_macro, 'recall':recall_macro ,'f1_score':f1_macro})\n",
    "    print('{model:25} CV-5: {score}'.format(\n",
    "    model=model.__class__.__name__,\n",
    "    score=score_description\n",
    " ))"
   ]
  },
  {
   "cell_type": "code",
   "execution_count": 18,
   "metadata": {},
   "outputs": [
    {
     "data": {
      "image/png": "[encoded data removed]",
      "text/plain": [
       "<Figure size 1080x1296 with 1 Axes>"
      ]
     },
     "metadata": {
      "needs_background": "light"
     },
     "output_type": "display_data"
    }
   ],
   "source": [
    "a = pd.DataFrame(results_post_tune)\n",
    "model = ['RandomForestClassifier','LogisticRegression','ExtraTreesClassifier','MLPClassifier']\n",
    "\n",
    "fig, ax = plt.subplots(figsize=(15,18))\n",
    "width = 0.2\n",
    "\n",
    "# Plot the score of each model\n",
    "X = np.arange(4)\n",
    "plt.bar(X + 0.00, a.loc[0]*100, color = 'lightblue', width = width,label=model[0])\n",
    "plt.bar(X + width, a.loc[1]*100, color = 'steelblue', width = width,label=model[1])\n",
    "plt.bar(X + width*2, a.loc[2]*100, color = 'cornflowerblue', width = width,label=model[2])\n",
    "plt.bar(X + width*3, a.loc[3]*100, color = 'royalblue', width = width,label=model[3])\n",
    "\n",
    "ax.set_xticks([0.3,1.3,2.3,3.3])\n",
    "ax.set_xticklabels(a.columns)\n",
    "plt.xlabel('Evaluation Variables')\n",
    "plt.ylabel('Score')\n",
    "plt.title(\"Performance of Top 4 Models in Baseline Approach after Fine Tuning\")\n",
    "plt.legend()\n",
    "plt.savefig(r'Performance of Top 4 Models in Baseline Approach after Fine Tuning.png',bbox_inches='tight')"
   ]
  },
  {
   "cell_type": "code",
   "execution_count": null,
   "metadata": {},
   "outputs": [],
   "source": []
  }
 ],
 "metadata": {
  "kernelspec": {
   "display_name": "Python [conda env:Python3]",
   "language": "python",
   "name": "conda-env-Python3-py"
  },
  "language_info": {
   "codemirror_mode": {
    "name": "ipython",
    "version": 3
   },
   "file_extension": ".py",
   "mimetype": "text/x-python",
   "name": "python",
   "nbconvert_exporter": "python",
   "pygments_lexer": "ipython3",
   "version": "3.6.10"
  }
 },
 "nbformat": 4,
 "nbformat_minor": 2
}
