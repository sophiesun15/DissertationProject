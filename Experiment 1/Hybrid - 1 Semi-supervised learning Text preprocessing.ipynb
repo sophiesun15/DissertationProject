{
 "cells": [
  {
   "cell_type": "markdown",
   "metadata": {},
   "source": [
    "# Hybrid - Part 1: Text Preprocessing & Representations for Semi-supervised learning"
   ]
  },
  {
   "cell_type": "markdown",
   "metadata": {},
   "source": [
    "**Environment Setup**"
   ]
  },
  {
   "cell_type": "code",
   "execution_count": 1,
   "metadata": {
    "scrolled": false
   },
   "outputs": [
    {
     "name": "stdout",
     "output_type": "stream",
     "text": [
      "\u001b[1m\n",
      "         .:::.     .::.       \n",
      "        ....yy:    .yy.       \n",
      "        :.  .yy.    y.        \n",
      "             :y:   .:         \n",
      "             .yy  .:          \n",
      "              yy..:           \n",
      "              :y:.            \n",
      "              .y.             \n",
      "             .:.              \n",
      "        ....:.                \n",
      "        :::.                  \n",
      "\u001b[0;33m\n",
      "• Project files and data should be stored in /project. This is shared among everyone\n",
      "  in the project.\n",
      "• Personal files and configuration should be stored in /home/faculty.\n",
      "• Files outside /project and /home/faculty will be lost when this server is terminated.\n",
      "• Create custom environments to setup your servers reproducibly.\n",
      "\u001b[0m\n",
      "Collecting wordcloud\n",
      "  Using cached wordcloud-1.8.0-cp36-cp36m-manylinux1_x86_64.whl (365 kB)\n",
      "Requirement already satisfied: matplotlib in /opt/anaconda/envs/Python3/lib/python3.6/site-packages (from wordcloud) (3.2.2)\n",
      "Requirement already satisfied: pillow in /opt/anaconda/envs/Python3/lib/python3.6/site-packages (from wordcloud) (7.2.0)\n",
      "Requirement already satisfied: numpy>=1.6.1 in /opt/anaconda/envs/Python3/lib/python3.6/site-packages (from wordcloud) (1.18.5)\n",
      "Requirement already satisfied: cycler>=0.10 in /opt/anaconda/envs/Python3/lib/python3.6/site-packages (from matplotlib->wordcloud) (0.10.0)\n",
      "Requirement already satisfied: pyparsing!=2.0.4,!=2.1.2,!=2.1.6,>=2.0.1 in /opt/anaconda/envs/Python3/lib/python3.6/site-packages (from matplotlib->wordcloud) (2.4.7)\n",
      "Requirement already satisfied: kiwisolver>=1.0.1 in /opt/anaconda/envs/Python3/lib/python3.6/site-packages (from matplotlib->wordcloud) (1.2.0)\n",
      "Requirement already satisfied: python-dateutil>=2.1 in /opt/anaconda/envs/Python3/lib/python3.6/site-packages (from matplotlib->wordcloud) (2.8.1)\n",
      "Requirement already satisfied: six in /opt/anaconda/envs/Python3/lib/python3.6/site-packages (from cycler>=0.10->matplotlib->wordcloud) (1.15.0)\n",
      "Installing collected packages: wordcloud\n",
      "Successfully installed wordcloud-1.8.0\n",
      "\u001b[1m\n",
      "         .:::.     .::.       \n",
      "        ....yy:    .yy.       \n",
      "        :.  .yy.    y.        \n",
      "             :y:   .:         \n",
      "             .yy  .:          \n",
      "              yy..:           \n",
      "              :y:.            \n",
      "              .y.             \n",
      "             .:.              \n",
      "        ....:.                \n",
      "        :::.                  \n",
      "\u001b[0;33m\n",
      "• Project files and data should be stored in /project. This is shared among everyone\n",
      "  in the project.\n",
      "• Personal files and configuration should be stored in /home/faculty.\n",
      "• Files outside /project and /home/faculty will be lost when this server is terminated.\n",
      "• Create custom environments to setup your servers reproducibly.\n",
      "\u001b[0m\n",
      "Requirement already satisfied: spacy in /opt/anaconda/envs/Python3/lib/python3.6/site-packages (2.3.2)\n",
      "Requirement already satisfied: murmurhash<1.1.0,>=0.28.0 in /opt/anaconda/envs/Python3/lib/python3.6/site-packages (from spacy) (1.0.2)\n",
      "Requirement already satisfied: plac<1.2.0,>=0.9.6 in /opt/anaconda/envs/Python3/lib/python3.6/site-packages (from spacy) (1.1.3)\n",
      "Requirement already satisfied: thinc==7.4.1 in /opt/anaconda/envs/Python3/lib/python3.6/site-packages (from spacy) (7.4.1)\n",
      "Requirement already satisfied: preshed<3.1.0,>=3.0.2 in /opt/anaconda/envs/Python3/lib/python3.6/site-packages (from spacy) (3.0.2)\n",
      "Requirement already satisfied: tqdm<5.0.0,>=4.38.0 in /opt/anaconda/envs/Python3/lib/python3.6/site-packages (from spacy) (4.47.0)\n",
      "Requirement already satisfied: blis<0.5.0,>=0.4.0 in /opt/anaconda/envs/Python3/lib/python3.6/site-packages (from spacy) (0.4.1)\n",
      "Requirement already satisfied: requests<3.0.0,>=2.13.0 in /opt/anaconda/envs/Python3/lib/python3.6/site-packages (from spacy) (2.24.0)\n",
      "Requirement already satisfied: srsly<1.1.0,>=1.0.2 in /opt/anaconda/envs/Python3/lib/python3.6/site-packages (from spacy) (1.0.2)\n",
      "Requirement already satisfied: catalogue<1.1.0,>=0.0.7 in /opt/anaconda/envs/Python3/lib/python3.6/site-packages (from spacy) (1.0.0)\n",
      "Requirement already satisfied: cymem<2.1.0,>=2.0.2 in /opt/anaconda/envs/Python3/lib/python3.6/site-packages (from spacy) (2.0.3)\n",
      "Requirement already satisfied: numpy>=1.15.0 in /opt/anaconda/envs/Python3/lib/python3.6/site-packages (from spacy) (1.18.5)\n",
      "Requirement already satisfied: setuptools in /opt/anaconda/envs/Python3/lib/python3.6/site-packages (from spacy) (49.2.0.post20200714)\n",
      "Requirement already satisfied: wasabi<1.1.0,>=0.4.0 in /opt/anaconda/envs/Python3/lib/python3.6/site-packages (from spacy) (0.7.1)\n",
      "Requirement already satisfied: idna<3,>=2.5 in /opt/anaconda/envs/Python3/lib/python3.6/site-packages (from requests<3.0.0,>=2.13.0->spacy) (2.10)\n",
      "Requirement already satisfied: chardet<4,>=3.0.2 in /opt/anaconda/envs/Python3/lib/python3.6/site-packages (from requests<3.0.0,>=2.13.0->spacy) (3.0.4)\n",
      "Requirement already satisfied: certifi>=2017.4.17 in /opt/anaconda/envs/Python3/lib/python3.6/site-packages (from requests<3.0.0,>=2.13.0->spacy) (2020.6.20)\n",
      "Requirement already satisfied: urllib3!=1.25.0,!=1.25.1,<1.26,>=1.21.1 in /opt/anaconda/envs/Python3/lib/python3.6/site-packages (from requests<3.0.0,>=2.13.0->spacy) (1.25.9)\n",
      "Requirement already satisfied: importlib-metadata>=0.20; python_version < \"3.8\" in /opt/anaconda/envs/Python3/lib/python3.6/site-packages (from catalogue<1.1.0,>=0.0.7->spacy) (1.7.0)\n",
      "Requirement already satisfied: zipp>=0.5 in /opt/anaconda/envs/Python3/lib/python3.6/site-packages (from importlib-metadata>=0.20; python_version < \"3.8\"->catalogue<1.1.0,>=0.0.7->spacy) (3.1.0)\n",
      "\u001b[1m\n",
      "         .:::.     .::.       \n",
      "        ....yy:    .yy.       \n",
      "        :.  .yy.    y.        \n",
      "             :y:   .:         \n",
      "             .yy  .:          \n",
      "              yy..:           \n",
      "              :y:.            \n",
      "              .y.             \n",
      "             .:.              \n",
      "        ....:.                \n",
      "        :::.                  \n",
      "\u001b[0;33m\n",
      "• Project files and data should be stored in /project. This is shared among everyone\n",
      "  in the project.\n",
      "• Personal files and configuration should be stored in /home/faculty.\n",
      "• Files outside /project and /home/faculty will be lost when this server is terminated.\n",
      "• Create custom environments to setup your servers reproducibly.\n",
      "\u001b[0m\n",
      "Requirement already satisfied: gensim in /opt/anaconda/envs/Python3/lib/python3.6/site-packages (3.8.3)\n",
      "Requirement already satisfied: six>=1.5.0 in /opt/anaconda/envs/Python3/lib/python3.6/site-packages (from gensim) (1.15.0)\n",
      "Requirement already satisfied: scipy>=0.18.1 in /opt/anaconda/envs/Python3/lib/python3.6/site-packages (from gensim) (1.5.0)\n",
      "Requirement already satisfied: smart-open>=1.8.1 in /opt/anaconda/envs/Python3/lib/python3.6/site-packages (from gensim) (2.1.0)\n",
      "Requirement already satisfied: numpy>=1.11.3 in /opt/anaconda/envs/Python3/lib/python3.6/site-packages (from gensim) (1.18.5)\n",
      "Requirement already satisfied: requests in /opt/anaconda/envs/Python3/lib/python3.6/site-packages (from smart-open>=1.8.1->gensim) (2.24.0)\n",
      "Requirement already satisfied: boto in /opt/anaconda/envs/Python3/lib/python3.6/site-packages (from smart-open>=1.8.1->gensim) (2.49.0)\n",
      "Requirement already satisfied: boto3 in /opt/anaconda/envs/Python3/lib/python3.6/site-packages (from smart-open>=1.8.1->gensim) (1.14.34)\n",
      "Requirement already satisfied: chardet<4,>=3.0.2 in /opt/anaconda/envs/Python3/lib/python3.6/site-packages (from requests->smart-open>=1.8.1->gensim) (3.0.4)\n",
      "Requirement already satisfied: certifi>=2017.4.17 in /opt/anaconda/envs/Python3/lib/python3.6/site-packages (from requests->smart-open>=1.8.1->gensim) (2020.6.20)\n",
      "Requirement already satisfied: urllib3!=1.25.0,!=1.25.1,<1.26,>=1.21.1 in /opt/anaconda/envs/Python3/lib/python3.6/site-packages (from requests->smart-open>=1.8.1->gensim) (1.25.9)\n",
      "Requirement already satisfied: idna<3,>=2.5 in /opt/anaconda/envs/Python3/lib/python3.6/site-packages (from requests->smart-open>=1.8.1->gensim) (2.10)\n",
      "Requirement already satisfied: jmespath<1.0.0,>=0.7.1 in /opt/anaconda/envs/Python3/lib/python3.6/site-packages (from boto3->smart-open>=1.8.1->gensim) (0.10.0)\n",
      "Requirement already satisfied: s3transfer<0.4.0,>=0.3.0 in /opt/anaconda/envs/Python3/lib/python3.6/site-packages (from boto3->smart-open>=1.8.1->gensim) (0.3.3)\n",
      "Requirement already satisfied: botocore<1.18.0,>=1.17.34 in /opt/anaconda/envs/Python3/lib/python3.6/site-packages (from boto3->smart-open>=1.8.1->gensim) (1.17.34)\n"
     ]
    },
    {
     "name": "stdout",
     "output_type": "stream",
     "text": [
      "Requirement already satisfied: docutils<0.16,>=0.10 in /opt/anaconda/envs/Python3/lib/python3.6/site-packages (from botocore<1.18.0,>=1.17.34->boto3->smart-open>=1.8.1->gensim) (0.15.2)\n",
      "Requirement already satisfied: python-dateutil<3.0.0,>=2.1 in /opt/anaconda/envs/Python3/lib/python3.6/site-packages (from botocore<1.18.0,>=1.17.34->boto3->smart-open>=1.8.1->gensim) (2.8.1)\n",
      "\u001b[1m\n",
      "         .:::.     .::.       \n",
      "        ....yy:    .yy.       \n",
      "        :.  .yy.    y.        \n",
      "             :y:   .:         \n",
      "             .yy  .:          \n",
      "              yy..:           \n",
      "              :y:.            \n",
      "              .y.             \n",
      "             .:.              \n",
      "        ....:.                \n",
      "        :::.                  \n",
      "\u001b[0;33m\n",
      "• Project files and data should be stored in /project. This is shared among everyone\n",
      "  in the project.\n",
      "• Personal files and configuration should be stored in /home/faculty.\n",
      "• Files outside /project and /home/faculty will be lost when this server is terminated.\n",
      "• Create custom environments to setup your servers reproducibly.\n",
      "\u001b[0m\n",
      "Requirement already satisfied: bert-serving-server in /opt/anaconda/envs/Python3/lib/python3.6/site-packages (1.10.0)\n",
      "Requirement already satisfied: six in /opt/anaconda/envs/Python3/lib/python3.6/site-packages (from bert-serving-server) (1.15.0)\n",
      "Requirement already satisfied: numpy in /opt/anaconda/envs/Python3/lib/python3.6/site-packages (from bert-serving-server) (1.18.5)\n",
      "Requirement already satisfied: pyzmq>=17.1.0 in /opt/anaconda/envs/Python3/lib/python3.6/site-packages (from bert-serving-server) (19.0.1)\n",
      "Requirement already satisfied: termcolor>=1.1 in /opt/anaconda/envs/Python3/lib/python3.6/site-packages (from bert-serving-server) (1.1.0)\n",
      "Requirement already satisfied: GPUtil>=1.3.0 in /opt/anaconda/envs/Python3/lib/python3.6/site-packages (from bert-serving-server) (1.4.0)\n",
      "\u001b[1m\n",
      "         .:::.     .::.       \n",
      "        ....yy:    .yy.       \n",
      "        :.  .yy.    y.        \n",
      "             :y:   .:         \n",
      "             .yy  .:          \n",
      "              yy..:           \n",
      "              :y:.            \n",
      "              .y.             \n",
      "             .:.              \n",
      "        ....:.                \n",
      "        :::.                  \n",
      "\u001b[0;33m\n",
      "• Project files and data should be stored in /project. This is shared among everyone\n",
      "  in the project.\n",
      "• Personal files and configuration should be stored in /home/faculty.\n",
      "• Files outside /project and /home/faculty will be lost when this server is terminated.\n",
      "• Create custom environments to setup your servers reproducibly.\n",
      "\u001b[0m\n",
      "Requirement already satisfied: bert-serving-client in /opt/anaconda/envs/Python3/lib/python3.6/site-packages (1.10.0)\n",
      "Requirement already satisfied: numpy in /opt/anaconda/envs/Python3/lib/python3.6/site-packages (from bert-serving-client) (1.18.5)\n",
      "Requirement already satisfied: pyzmq>=17.1.0 in /opt/anaconda/envs/Python3/lib/python3.6/site-packages (from bert-serving-client) (19.0.1)\n"
     ]
    }
   ],
   "source": [
    "#Loading key libraries for later analysis\n",
    "import pandas as pd\n",
    "import numpy as np\n",
    "import matplotlib.pyplot as plt\n",
    "import seaborn as sns\n",
    "import nltk\n",
    "from nltk import word_tokenize, sent_tokenize\n",
    "from nltk.corpus import stopwords\n",
    "from nltk.stem import LancasterStemmer, WordNetLemmatizer\n",
    "!pip install wordcloud\n",
    "from wordcloud import WordCloud,STOPWORDS\n",
    "import re\n",
    "import time\n",
    "pd.set_option('max_colwidth', 1000)\n",
    "!pip install spacy\n",
    "from collections import Counter\n",
    "from sklearn.feature_extraction.text import CountVectorizer,TfidfVectorizer\n",
    "!pip install gensim\n",
    "import gensim\n",
    "from gensim.models.word2vec import Word2Vec\n",
    "from sklearn.svm import SVC\n",
    "from sklearn.model_selection import cross_val_score, cross_validate,StratifiedKFold\n",
    "from sklearn.metrics import confusion_matrix, classification_report\n",
    "import sklearn   \n",
    "import scipy.io as scio\n",
    "import os\n",
    "!pip install bert-serving-server \n",
    "!pip install bert-serving-client\n",
    "from sklearn.model_selection import cross_val_score, GridSearchCV\n",
    "import functions"
   ]
  },
  {
   "cell_type": "code",
   "execution_count": 2,
   "metadata": {},
   "outputs": [],
   "source": [
    "#Read in bank transactions\n",
    "df = pd.read_csv(r'df_postfeat_time_series_FINAL.csv',low_memory=False,encoding='latin1')"
   ]
  },
  {
   "cell_type": "code",
   "execution_count": 3,
   "metadata": {},
   "outputs": [],
   "source": [
    "#External resources\n",
    "stopwords = pd.read_csv(r'stopwords.csv',low_memory=False,encoding='latin1')\n",
    "abb = pd.read_csv(r'normalisation.csv',low_memory=False,encoding='latin1')"
   ]
  },
  {
   "cell_type": "code",
   "execution_count": 5,
   "metadata": {},
   "outputs": [
    {
     "data": {
      "text/plain": [
       "'/project'"
      ]
     },
     "execution_count": 5,
     "metadata": {},
     "output_type": "execute_result"
    }
   ],
   "source": [
    "import os\n",
    "os.getcwd()"
   ]
  },
  {
   "cell_type": "markdown",
   "metadata": {},
   "source": [
    " "
   ]
  },
  {
   "cell_type": "markdown",
   "metadata": {},
   "source": [
    "## 1. Text Preprocessing"
   ]
  },
  {
   "cell_type": "code",
   "execution_count": 5,
   "metadata": {},
   "outputs": [],
   "source": [
    "df_ = df.copy()"
   ]
  },
  {
   "cell_type": "markdown",
   "metadata": {},
   "source": [
    "### 1.1 Stopword and special character Removals"
   ]
  },
  {
   "cell_type": "code",
   "execution_count": 4,
   "metadata": {},
   "outputs": [],
   "source": [
    "#Remove stopwords and special characters\n",
    "functions.removals(df,stopwords,'description')\n",
    "df.description = df.description.replace('\\s+', ' ', regex=True)\n",
    "df = df[df['description'] != '']"
   ]
  },
  {
   "cell_type": "markdown",
   "metadata": {},
   "source": [
    "### 1.2 Text Normalisation"
   ]
  },
  {
   "cell_type": "code",
   "execution_count": 5,
   "metadata": {},
   "outputs": [],
   "source": [
    "#Normalise abbrications\n",
    "functions.abbrivations(df,'description')"
   ]
  },
  {
   "cell_type": "markdown",
   "metadata": {},
   "source": [
    "### 1.3 Tokenisation and Lemmatisation"
   ]
  },
  {
   "cell_type": "code",
   "execution_count": 6,
   "metadata": {
    "scrolled": true
   },
   "outputs": [],
   "source": [
    "#tokenise and lemmatise description\n",
    "df['description'] = functions.tokenise_lemmatise(df,'description')"
   ]
  },
  {
   "cell_type": "code",
   "execution_count": 7,
   "metadata": {},
   "outputs": [
    {
     "data": {
      "text/plain": [
       "[('payment', 27072),\n",
       " ('ltd', 12317),\n",
       " ('fast', 10309),\n",
       " ('debit', 5944),\n",
       " ('bank', 5413),\n",
       " ('transaction', 4886),\n",
       " ('bill', 4467),\n",
       " ('direct', 4467),\n",
       " ('purchase', 4129),\n",
       " ('vat', 4116)]"
      ]
     },
     "execution_count": 7,
     "metadata": {},
     "output_type": "execute_result"
    }
   ],
   "source": [
    "#Count the top 10 frequent words in text description\n",
    "cnt = Counter()\n",
    "for text in df[\"description\"].values:\n",
    "    for word in text:\n",
    "        cnt[word] += 1\n",
    "\n",
    "cnt.most_common(10)"
   ]
  },
  {
   "cell_type": "code",
   "execution_count": 88,
   "metadata": {
    "scrolled": true
   },
   "outputs": [
    {
     "data": {
      "image/png": "[encoded data removed]",
      "text/plain": [
       "<Figure size 432x288 with 1 Axes>"
      ]
     },
     "metadata": {
      "needs_background": "light"
     },
     "output_type": "display_data"
    }
   ],
   "source": [
    "#Create words cloud of top 50 frequenct words in description\n",
    "a = cnt.most_common(50)\n",
    "a = pd.DataFrame.from_dict(a).rename(columns={0:'word', 1:'frequencies'})\n",
    "text = a['word'].values\n",
    "\n",
    "# Create and generate a word cloud image:\n",
    "wordcloud = WordCloud(width = 4000,height = 3000,background_color = 'white').generate(str(text))\n",
    "\n",
    "# Display the generated image:\n",
    "plt.imshow(wordcloud, interpolation='bilinear')\n",
    "plt.axis(\"off\")\n",
    "plt.show()"
   ]
  },
  {
   "cell_type": "code",
   "execution_count": 8,
   "metadata": {
    "scrolled": true
   },
   "outputs": [
    {
     "data": {
      "image/png": "[encoded data removed]",
      "text/plain": [
       "<Figure size 432x288 with 1 Axes>"
      ]
     },
     "metadata": {
      "needs_background": "light"
     },
     "output_type": "display_data"
    }
   ],
   "source": [
    "# count the number of tokens of each description\n",
    "df['token_length'] = [len(token) for token in df.description]\n",
    "#plot the graph to visualise\n",
    "g = sns.distplot(df.token_length)"
   ]
  },
  {
   "cell_type": "code",
   "execution_count": 9,
   "metadata": {},
   "outputs": [],
   "source": [
    "#Remove transactions with zero tokens\n",
    "df = df[df['token_length']!=0].reset_index(drop=True)"
   ]
  },
  {
   "cell_type": "markdown",
   "metadata": {},
   "source": [
    " "
   ]
  },
  {
   "cell_type": "markdown",
   "metadata": {},
   "source": [
    "## 2. Semi-supervised Learning Set"
   ]
  },
  {
   "cell_type": "code",
   "execution_count": 10,
   "metadata": {
    "scrolled": true
   },
   "outputs": [
    {
     "name": "stdout",
     "output_type": "stream",
     "text": [
      "The shape of the dataset is:(7642, 24)\n",
      "\n",
      "\n",
      "<class 'pandas.core.frame.DataFrame'>\n",
      "Int64Index: 7642 entries, 11 to 114289\n",
      "Data columns (total 24 columns):\n",
      " #   Column                        Non-Null Count  Dtype  \n",
      "---  ------                        --------------  -----  \n",
      " 0   name                          7642 non-null   object \n",
      " 1   amount                        7642 non-null   float64\n",
      " 2   balance                       7642 non-null   float64\n",
      " 3   date                          7642 non-null   object \n",
      " 4   description                   7642 non-null   object \n",
      " 5   platform_bank                 7642 non-null   object \n",
      " 6   crd_id                        7642 non-null   object \n",
      " 7   debit_binary                  7642 non-null   int64  \n",
      " 8   standard_transaction_type_id  7642 non-null   int64  \n",
      " 9   local_rule_creation_date      4610 non-null   object \n",
      " 10  local_rule_index              7642 non-null   int64  \n",
      " 11  global                        7642 non-null   int64  \n",
      " 12  date_only                     7642 non-null   int64  \n",
      " 13  week_of_month                 7642 non-null   int64  \n",
      " 14  week_of_month_2               7642 non-null   int64  \n",
      " 15  week_of_month_3               7642 non-null   int64  \n",
      " 16  week_of_month_4               7642 non-null   int64  \n",
      " 17  foreign_binary                7642 non-null   int64  \n",
      " 18  financing_binary              7642 non-null   int64  \n",
      " 19  account_binary                7642 non-null   int64  \n",
      " 20  hmrc_vat                      7642 non-null   int64  \n",
      " 21  hmrc_corp                     7642 non-null   int64  \n",
      " 22  hmrc_paye                     7642 non-null   int64  \n",
      " 23  token_length                  7642 non-null   int64  \n",
      "dtypes: float64(2), int64(16), object(6)\n",
      "memory usage: 1.5+ MB\n",
      "\n",
      "\n",
      "The number of null value of the dataset is:\n",
      "name                               0\n",
      "amount                             0\n",
      "balance                            0\n",
      "date                               0\n",
      "description                        0\n",
      "platform_bank                      0\n",
      "crd_id                             0\n",
      "debit_binary                       0\n",
      "standard_transaction_type_id       0\n",
      "local_rule_creation_date        3032\n",
      "local_rule_index                   0\n",
      "global                             0\n",
      "date_only                          0\n",
      "week_of_month                      0\n",
      "week_of_month_2                    0\n",
      "week_of_month_3                    0\n",
      "week_of_month_4                    0\n",
      "foreign_binary                     0\n",
      "financing_binary                   0\n",
      "account_binary                     0\n",
      "hmrc_vat                           0\n",
      "hmrc_corp                          0\n",
      "hmrc_paye                          0\n",
      "token_length                       0\n",
      "dtype: int64\n",
      "\n",
      "\n"
     ]
    },
    {
     "data": {
      "text/html": [
       "<div>\n",
       "<style scoped>\n",
       "    .dataframe tbody tr th:only-of-type {\n",
       "        vertical-align: middle;\n",
       "    }\n",
       "\n",
       "    .dataframe tbody tr th {\n",
       "        vertical-align: top;\n",
       "    }\n",
       "\n",
       "    .dataframe thead th {\n",
       "        text-align: right;\n",
       "    }\n",
       "</style>\n",
       "<table border=\"1\" class=\"dataframe\">\n",
       "  <thead>\n",
       "    <tr style=\"text-align: right;\">\n",
       "      <th></th>\n",
       "      <th>name</th>\n",
       "      <th>amount</th>\n",
       "      <th>balance</th>\n",
       "      <th>date</th>\n",
       "      <th>description</th>\n",
       "      <th>platform_bank</th>\n",
       "      <th>crd_id</th>\n",
       "      <th>debit_binary</th>\n",
       "      <th>standard_transaction_type_id</th>\n",
       "      <th>local_rule_creation_date</th>\n",
       "      <th>...</th>\n",
       "      <th>week_of_month_2</th>\n",
       "      <th>week_of_month_3</th>\n",
       "      <th>week_of_month_4</th>\n",
       "      <th>foreign_binary</th>\n",
       "      <th>financing_binary</th>\n",
       "      <th>account_binary</th>\n",
       "      <th>hmrc_vat</th>\n",
       "      <th>hmrc_corp</th>\n",
       "      <th>hmrc_paye</th>\n",
       "      <th>token_length</th>\n",
       "    </tr>\n",
       "  </thead>\n",
       "  <tbody>\n",
       "    <tr>\n",
       "      <th>11</th>\n",
       "      <td>15GIFTS LTD</td>\n",
       "      <td>-0.26</td>\n",
       "      <td>194669.39</td>\n",
       "      <td>2019-07-05</td>\n",
       "      <td>[non, sterling, transaction, fee]</td>\n",
       "      <td>HSBC</td>\n",
       "      <td>08813058-835d-4398-9698-8ea38a59bbf7</td>\n",
       "      <td>1</td>\n",
       "      <td>11</td>\n",
       "      <td>2019-12-10</td>\n",
       "      <td>...</td>\n",
       "      <td>0</td>\n",
       "      <td>0</td>\n",
       "      <td>0</td>\n",
       "      <td>0</td>\n",
       "      <td>0</td>\n",
       "      <td>0</td>\n",
       "      <td>0</td>\n",
       "      <td>0</td>\n",
       "      <td>0</td>\n",
       "      <td>4</td>\n",
       "    </tr>\n",
       "    <tr>\n",
       "      <th>21</th>\n",
       "      <td>15GIFTS LTD</td>\n",
       "      <td>-7.56</td>\n",
       "      <td>150511.69</td>\n",
       "      <td>2019-07-10</td>\n",
       "      <td>[non, sterling, transaction, fee]</td>\n",
       "      <td>HSBC</td>\n",
       "      <td>08813058-835d-4398-9698-8ea38a59bbf7</td>\n",
       "      <td>1</td>\n",
       "      <td>11</td>\n",
       "      <td>2019-12-10</td>\n",
       "      <td>...</td>\n",
       "      <td>1</td>\n",
       "      <td>0</td>\n",
       "      <td>0</td>\n",
       "      <td>0</td>\n",
       "      <td>0</td>\n",
       "      <td>0</td>\n",
       "      <td>0</td>\n",
       "      <td>0</td>\n",
       "      <td>0</td>\n",
       "      <td>4</td>\n",
       "    </tr>\n",
       "    <tr>\n",
       "      <th>26</th>\n",
       "      <td>15GIFTS LTD</td>\n",
       "      <td>-4412.42</td>\n",
       "      <td>146080.83</td>\n",
       "      <td>2019-07-11</td>\n",
       "      <td>[commercial, card]</td>\n",
       "      <td>HSBC</td>\n",
       "      <td>08813058-835d-4398-9698-8ea38a59bbf7</td>\n",
       "      <td>1</td>\n",
       "      <td>11</td>\n",
       "      <td>2019-10-31</td>\n",
       "      <td>...</td>\n",
       "      <td>1</td>\n",
       "      <td>0</td>\n",
       "      <td>0</td>\n",
       "      <td>0</td>\n",
       "      <td>0</td>\n",
       "      <td>0</td>\n",
       "      <td>0</td>\n",
       "      <td>0</td>\n",
       "      <td>0</td>\n",
       "      <td>2</td>\n",
       "    </tr>\n",
       "    <tr>\n",
       "      <th>29</th>\n",
       "      <td>15GIFTS LTD</td>\n",
       "      <td>-8.08</td>\n",
       "      <td>145415.00</td>\n",
       "      <td>2019-07-12</td>\n",
       "      <td>[non, sterling, transaction, fee]</td>\n",
       "      <td>HSBC</td>\n",
       "      <td>08813058-835d-4398-9698-8ea38a59bbf7</td>\n",
       "      <td>1</td>\n",
       "      <td>11</td>\n",
       "      <td>2019-12-10</td>\n",
       "      <td>...</td>\n",
       "      <td>1</td>\n",
       "      <td>0</td>\n",
       "      <td>0</td>\n",
       "      <td>0</td>\n",
       "      <td>0</td>\n",
       "      <td>0</td>\n",
       "      <td>0</td>\n",
       "      <td>0</td>\n",
       "      <td>0</td>\n",
       "      <td>4</td>\n",
       "    </tr>\n",
       "    <tr>\n",
       "      <th>35</th>\n",
       "      <td>15GIFTS LTD</td>\n",
       "      <td>-18.07</td>\n",
       "      <td>145376.93</td>\n",
       "      <td>2019-07-15</td>\n",
       "      <td>[ee, limit]</td>\n",
       "      <td>HSBC</td>\n",
       "      <td>08813058-835d-4398-9698-8ea38a59bbf7</td>\n",
       "      <td>1</td>\n",
       "      <td>11</td>\n",
       "      <td>2019-10-31</td>\n",
       "      <td>...</td>\n",
       "      <td>1</td>\n",
       "      <td>0</td>\n",
       "      <td>0</td>\n",
       "      <td>0</td>\n",
       "      <td>0</td>\n",
       "      <td>0</td>\n",
       "      <td>0</td>\n",
       "      <td>0</td>\n",
       "      <td>0</td>\n",
       "      <td>2</td>\n",
       "    </tr>\n",
       "  </tbody>\n",
       "</table>\n",
       "<p>5 rows × 24 columns</p>\n",
       "</div>"
      ],
      "text/plain": [
       "           name   amount    balance        date  \\\n",
       "11  15GIFTS LTD    -0.26  194669.39  2019-07-05   \n",
       "21  15GIFTS LTD    -7.56  150511.69  2019-07-10   \n",
       "26  15GIFTS LTD -4412.42  146080.83  2019-07-11   \n",
       "29  15GIFTS LTD    -8.08  145415.00  2019-07-12   \n",
       "35  15GIFTS LTD   -18.07  145376.93  2019-07-15   \n",
       "\n",
       "                          description platform_bank  \\\n",
       "11  [non, sterling, transaction, fee]          HSBC   \n",
       "21  [non, sterling, transaction, fee]          HSBC   \n",
       "26                 [commercial, card]          HSBC   \n",
       "29  [non, sterling, transaction, fee]          HSBC   \n",
       "35                        [ee, limit]          HSBC   \n",
       "\n",
       "                                  crd_id  debit_binary  \\\n",
       "11  08813058-835d-4398-9698-8ea38a59bbf7             1   \n",
       "21  08813058-835d-4398-9698-8ea38a59bbf7             1   \n",
       "26  08813058-835d-4398-9698-8ea38a59bbf7             1   \n",
       "29  08813058-835d-4398-9698-8ea38a59bbf7             1   \n",
       "35  08813058-835d-4398-9698-8ea38a59bbf7             1   \n",
       "\n",
       "    standard_transaction_type_id local_rule_creation_date  ...  \\\n",
       "11                            11               2019-12-10  ...   \n",
       "21                            11               2019-12-10  ...   \n",
       "26                            11               2019-10-31  ...   \n",
       "29                            11               2019-12-10  ...   \n",
       "35                            11               2019-10-31  ...   \n",
       "\n",
       "    week_of_month_2  week_of_month_3  week_of_month_4  foreign_binary  \\\n",
       "11                0                0                0               0   \n",
       "21                1                0                0               0   \n",
       "26                1                0                0               0   \n",
       "29                1                0                0               0   \n",
       "35                1                0                0               0   \n",
       "\n",
       "    financing_binary  account_binary  hmrc_vat  hmrc_corp  hmrc_paye  \\\n",
       "11                 0               0         0          0          0   \n",
       "21                 0               0         0          0          0   \n",
       "26                 0               0         0          0          0   \n",
       "29                 0               0         0          0          0   \n",
       "35                 0               0         0          0          0   \n",
       "\n",
       "    token_length  \n",
       "11             4  \n",
       "21             4  \n",
       "26             2  \n",
       "29             4  \n",
       "35             2  \n",
       "\n",
       "[5 rows x 24 columns]"
      ]
     },
     "execution_count": 10,
     "metadata": {},
     "output_type": "execute_result"
    }
   ],
   "source": [
    "#Create dataset with transactions labelled by local or/and global rules only\n",
    "df_semi = df[(df['global']!=0)&(df['standard_transaction_type_id']==-1)|(df['standard_transaction_type_id']!=-1)]\n",
    "functions.explore(df_semi)"
   ]
  },
  {
   "cell_type": "code",
   "execution_count": 13,
   "metadata": {},
   "outputs": [],
   "source": [
    "df_semi_ = df_semi.copy()"
   ]
  },
  {
   "cell_type": "markdown",
   "metadata": {},
   "source": [
    " "
   ]
  },
  {
   "cell_type": "code",
   "execution_count": 11,
   "metadata": {},
   "outputs": [
    {
     "name": "stderr",
     "output_type": "stream",
     "text": [
      "/opt/anaconda/envs/Python3/lib/python3.6/site-packages/pandas/core/generic.py:8765: SettingWithCopyWarning: \n",
      "A value is trying to be set on a copy of a slice from a DataFrame\n",
      "\n",
      "See the caveats in the documentation: https://pandas.pydata.org/pandas-docs/stable/user_guide/indexing.html#returning-a-view-versus-a-copy\n",
      "  self._update_inplace(new_data)\n"
     ]
    }
   ],
   "source": [
    "#Trun unlabelled transactions to -1\n",
    "semi_y_labeled = df_semi[df_semi['standard_transaction_type_id'] != -1].loc[:,'standard_transaction_type_id']\n",
    "semi_y_unlabeled = df_semi[df_semi['standard_transaction_type_id'] == -1].loc[:,'standard_transaction_type_id']\n",
    "\n",
    "#Randomly set 30% of labeled transactions as unlabeled, use for evaluation\n",
    "rng = np.random.RandomState(0)\n",
    "semi_y_labeled[rng.rand(len(semi_y_labeled)) < 0.3] = -1\n",
    "semi_y_label = pd.concat([semi_y_labeled,semi_y_unlabeled], axis=1)\n",
    "semi_y_label = semi_y_label.fillna(-1)\n",
    "semi_y_label = semi_y_label.iloc[:,0]\n",
    "semi_y_label = semi_y_label.astype('int')"
   ]
  },
  {
   "cell_type": "code",
   "execution_count": 12,
   "metadata": {},
   "outputs": [],
   "source": [
    "#Get the index of labelled and unlabelled ones \n",
    "labeled_indices = semi_y_label[semi_y_label!=-1].index.to_list()\n",
    "unlabeled_indices = semi_y_label[semi_y_label==-1].index.to_list()\n",
    "#Acquire the true labels of the testing set\n",
    "a = df_semi[df_semi['standard_transaction_type_id'] != -1].loc[:,'standard_transaction_type_id']\n",
    "test_true_labels = a[a.index.isin(unlabeled_indices)]\n",
    "test_indices = test_true_labels.index.to_list()"
   ]
  },
  {
   "cell_type": "code",
   "execution_count": 13,
   "metadata": {},
   "outputs": [],
   "source": [
    "#Getting the training and testing sets\n",
    "df_semi_labeled = df_semi[df_semi.index.isin(labeled_indices)]\n",
    "df_semi_unlabeled = df_semi[df_semi.index.isin(unlabeled_indices)]\n",
    "df_semi_test =  df_semi[df_semi.index.isin(test_indices)]\n",
    "df_semi_train = df_semi[~df_semi.index.isin(test_indices)]\n",
    "train_indices = df_semi_train.index"
   ]
  },
  {
   "cell_type": "markdown",
   "metadata": {},
   "source": [
    " "
   ]
  },
  {
   "cell_type": "markdown",
   "metadata": {},
   "source": [
    "### 2.1 Word Representation"
   ]
  },
  {
   "cell_type": "code",
   "execution_count": 14,
   "metadata": {},
   "outputs": [],
   "source": [
    "X_label_train = [' '.join(x) for x in df_semi_labeled['description']]\n",
    "y_label_train = df_semi_labeled['standard_transaction_type_id']"
   ]
  },
  {
   "cell_type": "markdown",
   "metadata": {},
   "source": [
    "#### 2.1.1 Frequency-based Methods"
   ]
  },
  {
   "cell_type": "code",
   "execution_count": 21,
   "metadata": {},
   "outputs": [
    {
     "name": "stdout",
     "output_type": "stream",
     "text": [
      "n-gram :(1, 1), Bag of Words F1 Score: 0.8646963664895339,TF-iDF F1 Score: 0.8720578388649477 \n",
      "n-gram :(2, 2), Bag of Words F1 Score: 0.8422906050758913,TF-iDF F1 Score: 0.8457552323784665 \n",
      "n-gram :(3, 3), Bag of Words F1 Score: 0.6379532923512115,TF-iDF F1 Score: 0.6430310080734021 \n",
      "n-gram :(4, 4), Bag of Words F1 Score: 0.46023929660874946,TF-iDF F1 Score: 0.46316181741969087 \n",
      "n-gram :(5, 5), Bag of Words F1 Score: 0.39508237408667796,TF-iDF F1 Score: 0.40186932914337986 \n"
     ]
    }
   ],
   "source": [
    "#Checking n-grams in frequency-based models\n",
    "svc = SVC(random_state=200)\n",
    "kfold = StratifiedKFold(n_splits=5, shuffle=True, random_state=200)\n",
    "\n",
    "def count_vect(df,x):\n",
    "    ngram = list()\n",
    "    for n in range(1,6):\n",
    "        if x >0 :\n",
    "            bow =  CountVectorizer(ngram_range=(1,n))\n",
    "            tfidf=  TfidfVectorizer(ngram_range=(1,n))\n",
    "            i = (1,n)\n",
    "        else:\n",
    "            bow =  CountVectorizer(ngram_range=(n,n))\n",
    "            tfidf=  TfidfVectorizer(ngram_range=(n,n))\n",
    "            i = (n,n)\n",
    "            \n",
    "        tfidf_matrix = tfidf.fit_transform(df)\n",
    "        bow_matrix = bow.fit_transform(df)\n",
    "        tfidf_cv = cross_val_score(svc, tfidf_matrix, y_label_train, cv=kfold, scoring='f1_macro').mean()\n",
    "        bow_cv = cross_val_score(svc, bow_matrix, y_label_train, cv=kfold, scoring='f1_macro').mean()\n",
    "        print('n-gram :{}, Bag of Words F1 Score: {},TF-iDF F1 Score: {} '.format(i,bow_cv,tfidf_cv))\n",
    "        ngram.append({'n': n, 'score': tfidf_cv, 'type': 'TF-iDF'})\n",
    "        ngram.append({'n': n, 'score': bow_cv, 'type': 'Bag of Words'})\n",
    "    return pd.DataFrame(ngram)\n",
    "\n",
    "#Check the F1 score of single n-grams\n",
    "n_gram_1 = count_vect(X_label_train,0)"
   ]
  },
  {
   "cell_type": "code",
   "execution_count": 20,
   "metadata": {},
   "outputs": [
    {
     "name": "stdout",
     "output_type": "stream",
     "text": [
      "n-gram :(1, 1), Bag of Words F1 Score: 0.8646963664895339,TF-iDF F1 Score: 0.8720578388649477 \n",
      "n-gram :(1, 2), Bag of Words F1 Score: 0.8653180296476798,TF-iDF F1 Score: 0.8693025828346956 \n",
      "n-gram :(1, 3), Bag of Words F1 Score: 0.8633753106490092,TF-iDF F1 Score: 0.8694296889001787 \n",
      "n-gram :(1, 4), Bag of Words F1 Score: 0.8517075239379972,TF-iDF F1 Score: 0.8587592052171888 \n",
      "n-gram :(1, 5), Bag of Words F1 Score: 0.8493626914873247,TF-iDF F1 Score: 0.856485782125136 \n"
     ]
    }
   ],
   "source": [
    "#Check the F1 score of mixed n-grams\n",
    "n_gram_2 = count_vect(X_label_train,1)"
   ]
  },
  {
   "cell_type": "code",
   "execution_count": 18,
   "metadata": {},
   "outputs": [],
   "source": [
    "#Plot n-gram results\n",
    "def plot_count(df):\n",
    "    plt.figure(figsize=(10,4))\n",
    "    a= df[df['type']=='Bag of Words']\n",
    "    b= df[df['type']=='TF-iDF']\n",
    "\n",
    "    #Plot line graphs\n",
    "    plt.plot(a['n'], a['score'], label= \"Bag of Words\",color='steelblue',linewidth=3)\n",
    "    plt.plot(b['n'], b['score'], label=\"TF-IDF\",color='skyblue',linewidth=3)\n",
    "\n",
    "    #Format plot\n",
    "    plt.xlabel('n-grams')\n",
    "    plt.ylabel('F1 Score')\n",
    "    plt.title(\"BoW and TF-iDF Performance by n-gram values\")\n",
    "    plt.legend()\n",
    "    plt.show()"
   ]
  },
  {
   "cell_type": "code",
   "execution_count": 22,
   "metadata": {},
   "outputs": [
    {
     "data": {
      "image/png": "[encoded data removed]",
      "text/plain": [
       "<Figure size 720x288 with 1 Axes>"
      ]
     },
     "metadata": {
      "needs_background": "light"
     },
     "output_type": "display_data"
    }
   ],
   "source": [
    "#Plot of single n-grams\n",
    "plot_count(n_gram_1)"
   ]
  },
  {
   "cell_type": "code",
   "execution_count": 23,
   "metadata": {
    "scrolled": true
   },
   "outputs": [
    {
     "data": {
      "image/png": "[encoded data removed]",
      "text/plain": [
       "<Figure size 720x288 with 1 Axes>"
      ]
     },
     "metadata": {
      "needs_background": "light"
     },
     "output_type": "display_data"
    }
   ],
   "source": [
    "#Plot of mixed n-grams\n",
    "plot_count(n_gram_2)"
   ]
  },
  {
   "cell_type": "code",
   "execution_count": 31,
   "metadata": {},
   "outputs": [],
   "source": [
    "#Selecting maximum features for the better performed model\n",
    "def max_feat(index,model,model_name):\n",
    "    vec =  model(ngram_range=index)\n",
    "    vec_matrix = vec.fit_transform(X_label_train)\n",
    "    a = vec_matrix.shape\n",
    "    \n",
    "    vec_result = list()\n",
    "    for n in range(100, a[1], 100):\n",
    "        vec = model(ngram_range=index,max_features=n)\n",
    "        vec_matrix = vec.fit_transform(X_label_train)\n",
    "        score_countVec = cross_val_score(svc, vec_matrix, y_label_train, cv=kfold, scoring='f1_macro').mean()\n",
    "\n",
    "        vec_result.append({'max_feature': n,  'score': score_countVec})\n",
    "    print('finished')\n",
    "    \n",
    "    vec_result_df = pd.DataFrame(vec_result)\n",
    "    plt.figure(figsize=(10,4))\n",
    "    #Plot line graphs\n",
    "    plt.plot(vec_result_df['max_feature'], vec_result_df['score'],color='steelblue',linewidth=3)\n",
    "    #Format plot\n",
    "    plt.xlabel('Number of features')\n",
    "    plt.ylabel('F1 Score')\n",
    "    plt.title(\"Maximum Number of Features in {}\".format(model_name))\n",
    "    plt.show()\n",
    "    \n",
    "    max_score = vec_result_df['score'].max()\n",
    "    a = vec_result_df[vec_result_df['score'] == max_score]\n",
    "    a = a.iloc[0]['max_feature']\n",
    "    print('maximum feature is {}'.format(a))"
   ]
  },
  {
   "cell_type": "code",
   "execution_count": 27,
   "metadata": {},
   "outputs": [
    {
     "name": "stdout",
     "output_type": "stream",
     "text": [
      "finished\n"
     ]
    },
    {
     "data": {
      "image/png": "[encoded data removed]",
      "text/plain": [
       "<Figure size 720x288 with 1 Axes>"
      ]
     },
     "metadata": {
      "needs_background": "light"
     },
     "output_type": "display_data"
    },
    {
     "name": "stdout",
     "output_type": "stream",
     "text": [
      "maximum feature is 400.0\n"
     ]
    }
   ],
   "source": [
    "#checking the max feature number\n",
    "max_feat((1,1),TfidfVectorizer,'TF-IDF')"
   ]
  },
  {
   "cell_type": "code",
   "execution_count": 32,
   "metadata": {},
   "outputs": [],
   "source": [
    "#vectorised text for count based methods\n",
    "tf = TfidfVectorizer(max_features=400)\n",
    "tfidf_matrix = tf.fit_transform(X_label_train)"
   ]
  },
  {
   "cell_type": "markdown",
   "metadata": {},
   "source": [
    "#### 2.2.2 Prediction-based Methods"
   ]
  },
  {
   "cell_type": "markdown",
   "metadata": {},
   "source": [
    "**Word2vec: Self-trained**"
   ]
  },
  {
   "cell_type": "code",
   "execution_count": 26,
   "metadata": {},
   "outputs": [],
   "source": [
    "#Convert description to list for modelling\n",
    "X_train_list = df_semi_labeled['description'].tolist()"
   ]
  },
  {
   "cell_type": "code",
   "execution_count": 27,
   "metadata": {},
   "outputs": [],
   "source": [
    "#Train model\n",
    "word2vec_self_model = Word2Vec(X_train_list, size=300, window=5, min_count=2, iter=100)\n",
    "\n",
    "#Save and load model for future use\n",
    "word2vec_self_model.save(r'word2vec_self.w2v')\n",
    "word2vec_self_model.wv.save_word2vec_format(r'word2vec_self.bin',binary=False)\n",
    "\n",
    "word2vec_self = word2vec_self_model.wv.load_word2vec_format(r'word2vec_self.bin',binary=False)"
   ]
  },
  {
   "cell_type": "code",
   "execution_count": 28,
   "metadata": {},
   "outputs": [
    {
     "name": "stdout",
     "output_type": "stream",
     "text": [
      "0.05s used for generating word embeddings for top 400 transaction description\n",
      "0.18s used for generating word embeddings for top 800 transaction description\n"
     ]
    },
    {
     "name": "stderr",
     "output_type": "stream",
     "text": [
      "/opt/anaconda/envs/Python3/lib/python3.6/site-packages/ipykernel/__main__.py:10: RuntimeWarning: invalid value encountered in true_divide\n"
     ]
    },
    {
     "name": "stdout",
     "output_type": "stream",
     "text": [
      "0.40s used for generating word embeddings for top 1200 transaction description\n",
      "0.68s used for generating word embeddings for top 1600 transaction description\n",
      "1.12s used for generating word embeddings for top 2000 transaction description\n",
      "1.69s used for generating word embeddings for top 2400 transaction description\n",
      "2.43s used for generating word embeddings for top 2800 transaction description\n",
      "3.26s used for generating word embeddings for top 3200 transaction description\n",
      "Total time used:3.40s\n"
     ]
    }
   ],
   "source": [
    "#checking all posibilities and generating representations\n",
    "def w2v_vectorise(texts, word2vec_model):\n",
    "        i = 0\n",
    "        index2word_set = set(word2vec_model.index2word)\n",
    "        description_vector = np.zeros((word2vec_model.vector_size))\n",
    "        for text in texts:\n",
    "                if text in index2word_set:\n",
    "                        description_vector = np.add(description_vector, word2vec_model[text])\n",
    "                        i += 1\n",
    "        text_vector = np.divide(description_vector, i)\n",
    "        return text_vector\n",
    "\n",
    "startTime = time.time()\n",
    "vector_list = []\n",
    "i = 0\n",
    "for texts in X_train_list:\n",
    "        i += 1\n",
    "        if i % 400 == 0: \n",
    "                print('%.2fs used for generating word embeddings for top %d transaction description' %(time.time()-startTime,i))\n",
    "        vector_list.append(w2v_vectorise(texts, word2vec_self) )\n",
    "        word2vec_self_matrix= np.array(vector_list)\n",
    "        \n",
    "print('Total time used:%.2fs' % (time.time() - startTime) )"
   ]
  },
  {
   "cell_type": "code",
   "execution_count": 29,
   "metadata": {
    "scrolled": true
   },
   "outputs": [],
   "source": [
    "#Form matrix for comparison\n",
    "word2vec_self_matrix[np.isnan(word2vec_self_matrix)] = 0\n",
    "word2vec_self_matrix = pd.DataFrame(word2vec_self_matrix)"
   ]
  },
  {
   "cell_type": "markdown",
   "metadata": {},
   "source": [
    " "
   ]
  },
  {
   "cell_type": "markdown",
   "metadata": {},
   "source": [
    "**Word2Vec: Google news pre-trained**"
   ]
  },
  {
   "cell_type": "code",
   "execution_count": 30,
   "metadata": {},
   "outputs": [
    {
     "data": {
      "text/plain": [
       "300"
      ]
     },
     "execution_count": 30,
     "metadata": {},
     "output_type": "execute_result"
    }
   ],
   "source": [
    "#Load pre-trained model\n",
    "word2vec_pre_model = gensim.models.KeyedVectors.load_word2vec_format(r'GoogleNews-vectors-negative300.bin.gz', binary=True)  \n",
    "word2vec_pre_model.vector_size"
   ]
  },
  {
   "cell_type": "code",
   "execution_count": 31,
   "metadata": {
    "scrolled": true
   },
   "outputs": [
    {
     "name": "stdout",
     "output_type": "stream",
     "text": [
      "Percentage of distinct out of vocabulary words: 25.03%\n",
      "Total percentage of out of vocabulary words in the word set: 8.89%\n",
      "{'ibsfp', 'cotax', 'pgq', 'adyou', 'nipok', 'mobitrans', 'barclayloan', 'elberry', 'gocardless', 'scoloan', 'scukl', 'soben', 'rjim', 'kqnmqo', 'esmeloan', 'shreena', 'exanhakxt', 'rbq', 'fnbk', 'nmike', 'rilqbi', 'gdmuteyn', 'hdcpxxb', 'umq', 'znocp', 'mobilelab', 'kqx', 'aedq', 'refun', 'fgchs', 'easyinvoicefinance', 'arwbppxc', 'oxij', 'zqvxb', 'baatfp', 'kxxc', 'prtnr', 'oxkt', 'uczaipwct', 'ppwqtds', 'vtlumlq', 'kflfj', 'wwnq', 'stryczkos', 'heqh', 'iydebxcur', 'zwzrprlbzlt', 'vrqfp', 'financrbs', 'aqpv', 'bsobenco', 'appzyla', 'zgt', 'ohksnqx', 'propertiesinv', 'vbzb', 'cjmdc', '-PRON-', 'oolx', 'sabj', 'wgawoh', 'aoqcobnk', 'hbpv', 'qij', 'cktgk', 'hubx', 'lhzqvpkyc', 'ixla', 'anwg', 'oskw', 'sqdpt', 'opbt', 'rtyfp', 'oynt', 'trceo', 'gadbrook', 'firmcard', 'dkau', 'qgw', 'qewawfp', 'hardbase', 'datrixpurple', 'systemsaving', 'oibrhhc', 'northwdvia', 'ppwyn', 'twck', 'cxorwfp', 'aeur', 'niwg', 'gsxtka', 'tjimn', 'payecard', 'casvisa', 'nvxy', 'rahdbdu', 'homebrand', 'pavinee', 'ltdw', 'zvsjh', 'lqel', 'bbjfjf', 'zepmw', 'ckpu', 'yzj', 'mfbpa', 'alqx', 'nuvven', 'ikyqc', 'vahtsbun', 'besgrowthst', 'bqch', 'outv', 'dloan', 'rvices', 'crutchfie', 'gyxzhxfp', 'szn', 'abraemar', 'xaph', 'xtfcky', 'ibcnesijwfp', 'uverjyb', 'gvy', 'sokolowsk', 'vessco', 'yapu', 'ynqbi', 'nrbs', 'radconsul', 'qjp', 'motonovo', 'conrats', 'mechani', 'gnbg', 'mepfy', 'qwfm', 'lbgi', 'gsbluespire', 'qih', 'nferre', 'xxuahi', 'danckaert', 'tqp', 'kydmval', 'fklzx', 'nworthe', 'swinv', 'zyvabzvr', 'dioc', 'homebrands', 'togetherhealthltd', 'cmgjk', 'xwz', 'paymt', 'chawanzwa', 'ussyg', 'httpswww', 'ukfp', 'rsulof', 'aaxl', 'qnz', 'hanzt', 'ctzx', 'jlxxjva', 'ipok', 'rbiox', 'tvbvv', 'brcbb', 'nnatural', 'pnhyjnttwfp', 'taxagility', 'quvhnmqv', 'mzfp', 'oqyhjnk', 'wuw', 'rfre', 'ltipok', 'lshb', 'aexsbrgv', 'prxevuawq', 'chadigital', 'xoesyepx', 'tviz', 'akjzr', 'octbvxy', 'benefbib', 'wjgdnfvy', 'gzq', 'mqcum', 'tupsw', 'odriscoll', 'oerw', 'qruvz', 'oomb', 'zzmgy', 'ffezc', 'mhrdcggsr', 'cwave', 'etox', 'vatcard', 'hfpqsd', 'pnqgasxt', 'vehicl', 'financfp', 'rshtio', 'owfa', 'gspermanexs', 'uzk', 'nnorthwood', 'uiku', 'lmrc', 'nqjmd', 'ohkg', 'hahanzsx', 'yuzt', 'hdpddps', 'qorh', 'gcdten', 'xjoida', 'bbgrnlq', 'oxyjy', 'smjupgn', 'j+h', 'reshnx', 'oysh', 'kr+a', 'zmplx', 'zxg', 'northwdfp', 'owiuxyhn', 'taptronic', 'gallerloan', 'allw', 'ltdsurrey', 'akqfvphc', 'ndzq'}\n"
     ]
    }
   ],
   "source": [
    "#Check OOV words\n",
    "def oov(texts, model, check_function):\n",
    "    exist_total = 0\n",
    "    total = 0\n",
    "    total_word_set = set()\n",
    "    oov_set = set()\n",
    "    #check all possibilities\n",
    "    for line in texts:\n",
    "        for text in line :\n",
    "            total +=1\n",
    "            total_word_set.add(text)\n",
    "            if check_function(model, text):\n",
    "                exist_total +=1\n",
    "\n",
    "    for text in total_word_set:\n",
    "        if check_function(model, text):\n",
    "            pass\n",
    "        else:\n",
    "            oov_set.add(text)\n",
    "    \n",
    "    distinct_oov = round(len(oov_set)/len(total_word_set), 4)\n",
    "    total_oov = round(1 - exist_total/total, 4)\n",
    "    print('Percentage of distinct out of vocabulary words: {:.2f}%'.format(distinct_oov*100))\n",
    "    print('Total percentage of out of vocabulary words in the word set: {:.2f}%'.format(total_oov*100))\n",
    "    print(oov_set)\n",
    "    return distinct_oov, total_oov, oov_set\n",
    "\n",
    "def w2v_check(model, text):\n",
    "    return (text in model.vocab) or (text.upper() in model.vocab)or (text.capitalize() in model.vocab)\n",
    "\n",
    "X_train = df_semi_labeled['description']\n",
    "distinct_oov, total_oov, oov_set = oov(X_train, word2vec_pre_model, w2v_check)"
   ]
  },
  {
   "cell_type": "code",
   "execution_count": 32,
   "metadata": {
    "scrolled": true
   },
   "outputs": [],
   "source": [
    "#Form word2vec embeddings\n",
    "def w2v_embeddings(model, texts):\n",
    "        matrix =[]\n",
    "        for text in texts:\n",
    "            oov_matrix = []\n",
    "            if len(text) > 0 :\n",
    "                for word in text:\n",
    "                    if  word in model.vocab:\n",
    "                        oov_matrix.append(model[word])\n",
    "                    elif word.upper() in model.vocab:\n",
    "                        oov_matrix.append(model[word.upper()])\n",
    "                    elif word.capitalize() in model.vocab:\n",
    "                        oov_matrix.append(model[word.capitalize()])\n",
    "\n",
    "            if len(oov_matrix) == 0:\n",
    "                oov_matrix.append(np.zeros(model.vector_size))\n",
    "            matrix.append(np.mean(oov_matrix, axis=0))\n",
    "        return matrix\n",
    "\n",
    "w2v_pre_model = w2v_embeddings(word2vec_pre_model,np.array(X_train))\n",
    "w2v_pre_model_df = pd.DataFrame(w2v_pre_model)"
   ]
  },
  {
   "cell_type": "markdown",
   "metadata": {},
   "source": [
    " "
   ]
  },
  {
   "cell_type": "markdown",
   "metadata": {},
   "source": [
    "**GloVe: 300D**"
   ]
  },
  {
   "cell_type": "code",
   "execution_count": 33,
   "metadata": {},
   "outputs": [],
   "source": [
    "from gensim.scripts.glove2word2vec import glove2word2vec"
   ]
  },
  {
   "cell_type": "code",
   "execution_count": 36,
   "metadata": {},
   "outputs": [],
   "source": [
    "#glove_input_file = r'C:\\Users\\sophie\\Desktop\\Dissertation Project\\glove.840B.300d.txt'\n",
    "\n",
    "#Load pre-trained model\n",
    "word2vec_output_file = r'glove.840B.300d.word2vec.txt'\n",
    "#(count, dimensions) = glove2word2vec(glove_input_file, word2vec_output_file)\n",
    "#print(count, '\\n', dimensions)\n",
    "glove = gensim.models.KeyedVectors.load_word2vec_format(word2vec_output_file, binary=False)"
   ]
  },
  {
   "cell_type": "code",
   "execution_count": 38,
   "metadata": {},
   "outputs": [
    {
     "name": "stdout",
     "output_type": "stream",
     "text": [
      "Percentage of distinct out of vocabulary words: 27.67%\n",
      "Total percentage of out of vocabulary words in the word set: 9.28%\n",
      "{'ibsfp', 'cotax', 'pgq', 'adyou', 'nipok', 'mvrc', 'mobitrans', 'barclayloan', 'elberry', 'gocardless', 'scoloan', 'scukl', 'soben', 'rjim', 'kqnmqo', 'esmeloan', 'shreena', 'exanhakxt', 'rbq', 'fnbk', 'nmike', 'rilqbi', 'gdmuteyn', 'hdcpxxb', 'umq', 'znocp', 'shoesmith', 'mobilelab', 'kqx', 'aedq', 'fgchs', 'easyinvoicefinance', 'arwbppxc', 'oxij', 'yfp', 'zqvxb', 'baatfp', 'kxxc', 'prtnr', 'oxkt', 'uczaipwct', 'ppwqtds', 'vtlumlq', 'topiwala', 'kflfj', 'stryczkos', 'wwnq', 'iydebxcur', 'heqh', 'vrqfp', 'zwzrprlbzlt', 'financrbs', 'aqpv', 'bsobenco', 'appzyla', 'zgt', 'ohksnqx', 'propertiesinv', 'vbzb', 'cjmdc', '-PRON-', 'oolx', 'sabj', 'hodnett', 'wgawoh', 'aoqcobnk', 'pattenden', 'hbpv', 'qij', 'cktgk', 'hubx', 'pqq', 'lhzqvpkyc', 'ixla', 'alphera', 'anwg', 'oskw', 'sqdpt', 'opbt', 'rtyfp', 'oynt', 'trceo', 'gadbrook', 'firmcard', 'dkau', 'qgw', 'jtw', 'qewawfp', 'hardbase', 'datrixpurple', 'systemsaving', 'oibrhhc', 'northwdvia', 'ppwyn', 'twck', 'cxorwfp', 'aeur', 'niwg', 'gsxtka', 'tjimn', 'payecard', 'casvisa', 'nvxy', 'rahdbdu', 'pavinee', 'ltdw', 'zvsjh', 'lqel', 'bbjfjf', 'zepmw', 'ckpu', 'yzj', 'mfbpa', 'alqx', 'nuvven', 'ikyqc', 'nzf', 'vahtsbun', 'besgrowthst', 'bqch', 'outv', 'dloan', 'crutchfie', 'gyxzhxfp', 'yrp', 'szn', 'abraemar', 'xaph', 'xtfcky', 'ibcnesijwfp', 'uverjyb', 'gvy', 'sokolowsk', 'vessco', 'yapu', 'ynqbi', 'nrbs', 'radconsul', 'lpv', 'qjp', 'motonovo', 'conrats', 'ljh', 'gnbg', 'mepfy', 'qwfm', 'lbgi', 'gsbluespire', 'qih', 'nferre', 'xxuahi', 'danckaert', 'tqp', 'kydmval', 'fklzx', 'nworthe', 'galliford', 'swinv', 'zyvabzvr', 'milosz', 'dioc', 'homebrands', 'togetherhealthltd', 'cmgjk', 'xwz', 'paymt', 'chawanzwa', 'ussyg', 'httpswww', 'ukfp', 'rsulof', 'aaxl', 'qnz', 'axh', 'hanzt', 'ctzx', 'jlxxjva', 'ipok', 'rbiox', 'ndds', 'tvbvv', 'brcbb', 'pnhyjnttwfp', 'taxagility', 'quvhnmqv', 'investec', 'mzfp', 'sulc', 'oqyhjnk', 'elvey', 'wuw', 'rfre', 'ltipok', 'lshb', 'aexsbrgv', 'prxevuawq', 'chadigital', 'xoesyepx', 'ruparelia', 'biswajit', 'tviz', 'akjzr', 'octbvxy', 'monsen', 'benefbib', 'wjgdnfvy', 'gzq', 'mqcum', 'gurdip', 'tupsw', 'odriscoll', 'oerw', 'qruvz', 'hiscox', 'sopher', 'fzc', 'oomb', 'tecc', 'zzmgy', 'mhrdcggsr', 'cwave', 'ffezc', 'tatenda', 'etox', 'vatcard', 'hfpqsd', 'pnqgasxt', 'financfp', 'rshtio', 'owfa', 'gspermanexs', 'uzk', 'nnorthwood', 'uiku', 'lmrc', 'nqjmd', 'ohkg', 'hahanzsx', 'yuzt', 'rykneld', 'qorh', 'hdpddps', 'gcdten', 'xjoida', 'bbgrnlq', 'oxyjy', 'smjupgn', 'j+h', 'reshnx', 'oysh', 'kr+a', 'zmplx', 'zxg', 'northwdfp', 'owiuxyhn', 'taptronic', 'gallerloan', 'byrs', 'jyn', 'ltdsurrey', 'akqfvphc', 'ndzq'}\n"
     ]
    }
   ],
   "source": [
    "#Checking oov words\n",
    "def glov_check(model, text):\n",
    "    return text in model\n",
    "\n",
    "distinct_oov, total_oov, oob_words = oov(X_train, glove, glov_check)"
   ]
  },
  {
   "cell_type": "code",
   "execution_count": 39,
   "metadata": {},
   "outputs": [],
   "source": [
    "#Form glove embeddings\n",
    "def glov_embeddings(model, texts):\n",
    "        matrix =[]\n",
    "        for text in texts:\n",
    "            oov_matrix = []\n",
    "            if len(text) > 0 :\n",
    "                for word in text:\n",
    "                    if  word in model.vocab:\n",
    "                        oov_matrix.append(model[word])\n",
    "\n",
    "            if len(oov_matrix) == 0:\n",
    "                oov_matrix.append(np.zeros(model.vector_size))\n",
    "            matrix.append(np.mean(oov_matrix, axis=0))\n",
    "        return matrix\n",
    "\n",
    "glove_pre_model_ = glov_embeddings(glove,np.array(X_train))\n",
    "glove_pre_df = pd.DataFrame(glove_pre_model_)"
   ]
  },
  {
   "cell_type": "markdown",
   "metadata": {},
   "source": [
    "**4.4.2 BERT**"
   ]
  },
  {
   "cell_type": "code",
   "execution_count": 40,
   "metadata": {},
   "outputs": [],
   "source": [
    "#Load model\n",
    "from bert_serving.client import BertClient\n",
    "bc = BertClient()\n",
    "#Form BERT embeddings\n",
    "bert_embed = bc.encode(X_label_train)"
   ]
  },
  {
   "cell_type": "markdown",
   "metadata": {},
   "source": [
    "#### 4.4.3 Feature Selection"
   ]
  },
  {
   "cell_type": "code",
   "execution_count": 36,
   "metadata": {},
   "outputs": [
    {
     "name": "stdout",
     "output_type": "stream",
     "text": [
      "0.8838990974409544\n",
      "0.6725194983396925\n",
      "0.8088771970334572\n",
      "0.7968291106509121\n",
      "0.6647502096704541\n"
     ]
    }
   ],
   "source": [
    "kfold = StratifiedKFold(n_splits=5, shuffle=True, random_state=200)\n",
    "\n",
    "#Calculating f1-scores for comparison\n",
    "score_w2v_self = cross_val_score(svc, word2vec_self_matrix, y_label_train, cv=kfold, scoring='f1_macro')\n",
    "score_w2v_pre_train = cross_val_score(svc, w2v_pre_model_df, y_label_train, cv=kfold, scoring='f1_macro')\n",
    "score_tfidf = cross_val_score(svc, tfidf_matrix, y_label_train,cv=kfold, scoring='f1_macro')\n",
    "score_glov = cross_val_score(svc, glove_pre_df, y_label_train, cv=kfold, scoring='f1_macro')\n",
    "score_bert = cross_val_score(svc, bert_embed, y_label_train, cv=kfold, scoring='f1_macro')\n",
    "print(score_tfidf.mean())\n",
    "print(score_w2v_self.mean())\n",
    "print(score_w2v_pre_train.mean())\n",
    "print(score_glov.mean())\n",
    "print(score_bert.mean())"
   ]
  },
  {
   "cell_type": "code",
   "execution_count": 38,
   "metadata": {},
   "outputs": [
    {
     "data": {
      "image/png": "[encoded data removed]",
      "text/plain": [
       "<Figure size 720x288 with 1 Axes>"
      ]
     },
     "metadata": {
      "needs_background": "light"
     },
     "output_type": "display_data"
    }
   ],
   "source": [
    "plt.figure(figsize=(10,4))\n",
    "\n",
    "# Plot the score of each model\n",
    "plt.barh(range(5), [score_glov.mean()*100,score_tfidf.mean()*100,score_w2v_self.mean()*100,score_w2v_pre_train.mean()*100,score_bert.mean()*100], height=0.7, color='steelblue', alpha=0.8)\n",
    "plt.yticks(range(5), ['GloVe','TF-iDF','W2V self-trained', 'W2V pre-trained','BERT'])\n",
    "plt.xlim(0,100)\n",
    "plt.title(\"The Average 5-Fold CV Score of each model\")\n",
    "plt.savefig(r'semi_text_eva.png',bbox_inches='tight')"
   ]
  }
 ],
 "metadata": {
  "kernelspec": {
   "display_name": "Python [default]",
   "language": "python",
   "name": "python3"
  },
  "language_info": {
   "codemirror_mode": {
    "name": "ipython",
    "version": 3
   },
   "file_extension": ".py",
   "mimetype": "text/x-python",
   "name": "python",
   "nbconvert_exporter": "python",
   "pygments_lexer": "ipython3",
   "version": "3.6.10"
  }
 },
 "nbformat": 4,
 "nbformat_minor": 2
}
