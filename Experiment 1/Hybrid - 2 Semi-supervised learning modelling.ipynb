{
 "cells": [
  {
   "cell_type": "markdown",
   "metadata": {},
   "source": [
    "#  Hybrid - Part 2: Semi-supervised Learning Modelling"
   ]
  },
  {
   "cell_type": "markdown",
   "metadata": {},
   "source": [
    "**Environment Setup**"
   ]
  },
  {
   "cell_type": "code",
   "execution_count": 1,
   "metadata": {
    "scrolled": false
   },
   "outputs": [
    {
     "name": "stdout",
     "output_type": "stream",
     "text": [
      "\u001b[1m\n",
      "         .:::.     .::.       \n",
      "        ....yy:    .yy.       \n",
      "        :.  .yy.    y.        \n",
      "             :y:   .:         \n",
      "             .yy  .:          \n",
      "              yy..:           \n",
      "              :y:.            \n",
      "              .y.             \n",
      "             .:.              \n",
      "        ....:.                \n",
      "        :::.                  \n",
      "\u001b[0;33m\n",
      "• Project files and data should be stored in /project. This is shared among everyone\n",
      "  in the project.\n",
      "• Personal files and configuration should be stored in /home/faculty.\n",
      "• Files outside /project and /home/faculty will be lost when this server is terminated.\n",
      "• Create custom environments to setup your servers reproducibly.\n",
      "\u001b[0m\n",
      "Requirement already satisfied: xgboost in /opt/anaconda/envs/Python3/lib/python3.6/site-packages (1.2.0)\n",
      "Requirement already satisfied: numpy in /opt/anaconda/envs/Python3/lib/python3.6/site-packages (from xgboost) (1.18.5)\n",
      "Requirement already satisfied: scipy in /opt/anaconda/envs/Python3/lib/python3.6/site-packages (from xgboost) (1.5.0)\n"
     ]
    }
   ],
   "source": [
    "#Loading key libraries for later analysis\n",
    "import pandas as pd\n",
    "import numpy as np\n",
    "import matplotlib.pyplot as plt\n",
    "import seaborn as sns\n",
    "import re\n",
    "import time\n",
    "pd.set_option('max_colwidth', 1000)\n",
    "from collections import Counter\n",
    "from sklearn.feature_extraction.text import CountVectorizer,TfidfVectorizer\n",
    "from sklearn.linear_model import LogisticRegression\n",
    "!pip install xgboost\n",
    "!pip install spacy\n",
    "import sklearn   \n",
    "import scipy.io as scio\n",
    "from sklearn.ensemble import RandomForestClassifier\n",
    "from sklearn.metrics import accuracy_score\n",
    "from sklearn.utils import shuffle\n",
    "import os\n",
    "from sklearn.neighbors import KNeighborsClassifier\n",
    "from sklearn.naive_bayes import GaussianNB\n",
    "from sklearn.ensemble import RandomForestClassifier, ExtraTreesClassifier\n",
    "from xgboost import XGBClassifier\n",
    "from sklearn.semi_supervised import LabelPropagation\n",
    "from scipy import stats\n",
    "from sklearn.model_selection import cross_val_score, cross_validate,StratifiedKFold,GridSearchCV\n",
    "from sklearn.svm import SVC\n",
    "import functions\n",
    "from functions import TriTraining,PseudoLabeler"
   ]
  },
  {
   "cell_type": "code",
   "execution_count": 3,
   "metadata": {},
   "outputs": [],
   "source": [
    "#Read in bank transactions\n",
    "df = pd.read_csv(r'df_postfeat_no_direct_FINAL.csv',low_memory=False,encoding='latin1')"
   ]
  },
  {
   "cell_type": "code",
   "execution_count": 5,
   "metadata": {},
   "outputs": [],
   "source": [
    "#External resources\n",
    "stopwords = pd.read_csv(r'stopwords.csv',low_memory=False,encoding='latin1')\n",
    "abb = pd.read_csv(r'normalisation.csv',low_memory=False,encoding='latin1')"
   ]
  },
  {
   "cell_type": "code",
   "execution_count": 57,
   "metadata": {},
   "outputs": [],
   "source": [
    "def gridsearch(model,param):\n",
    "    kfold = StratifiedKFold(n_splits=5,random_state=200,shuffle=True)\n",
    "    np.random.seed(0)\n",
    "    clf=GridSearchCV(model,param, cv=kfold, n_jobs=-1)\n",
    "    clf.fit(X_train, y_train)\n",
    "    return clf.best_params_"
   ]
  },
  {
   "cell_type": "code",
   "execution_count": 6,
   "metadata": {},
   "outputs": [
    {
     "data": {
      "text/plain": [
       "'/project'"
      ]
     },
     "execution_count": 6,
     "metadata": {},
     "output_type": "execute_result"
    }
   ],
   "source": [
    "import os\n",
    "os.getcwd()"
   ]
  },
  {
   "cell_type": "markdown",
   "metadata": {},
   "source": [
    "## 1. Text Preprocessing"
   ]
  },
  {
   "cell_type": "code",
   "execution_count": 6,
   "metadata": {},
   "outputs": [],
   "source": [
    "df_ = df.copy()"
   ]
  },
  {
   "cell_type": "markdown",
   "metadata": {},
   "source": [
    "### 1.1 Stopword and special character Removals"
   ]
  },
  {
   "cell_type": "code",
   "execution_count": 6,
   "metadata": {},
   "outputs": [],
   "source": [
    "#remove stopwords and special characters\n",
    "functions.removals(df,stopwords,'description')\n",
    "#remove multi-spaces \n",
    "df.description = df.description.replace('\\s+', ' ', regex=True)\n",
    "#remove transactions without descriptions\n",
    "df = df[df['description'] != '']"
   ]
  },
  {
   "cell_type": "markdown",
   "metadata": {},
   "source": [
    "### 1.2 Text Normalisation"
   ]
  },
  {
   "cell_type": "code",
   "execution_count": 8,
   "metadata": {},
   "outputs": [],
   "source": [
    "#Normalise abbrivations to standard form\n",
    "functions.abbrivations(df,'description')"
   ]
  },
  {
   "cell_type": "markdown",
   "metadata": {},
   "source": [
    "### 1.3 Tokenisation and Lemmatisation"
   ]
  },
  {
   "cell_type": "code",
   "execution_count": 9,
   "metadata": {
    "scrolled": true
   },
   "outputs": [],
   "source": [
    "#Tokenisation and lemmatisation\n",
    "df['description'] = functions.tokenise_lemmatise(df,'description')"
   ]
  },
  {
   "cell_type": "code",
   "execution_count": 10,
   "metadata": {
    "scrolled": true
   },
   "outputs": [],
   "source": [
    "#create token length variable\n",
    "df['token_length'] = [len(token) for token in df.description]\n",
    "#remove zero tokens \n",
    "df = df[df['token_length']!=0].reset_index(drop=True)"
   ]
  },
  {
   "cell_type": "markdown",
   "metadata": {},
   "source": [
    "## 2. Semi-supervised Learning"
   ]
  },
  {
   "cell_type": "markdown",
   "metadata": {},
   "source": [
    "### 2.1 Prepare the semi-supervised learning set"
   ]
  },
  {
   "cell_type": "code",
   "execution_count": 11,
   "metadata": {
    "scrolled": true
   },
   "outputs": [],
   "source": [
    "#Create dataframe with transactions labelled by global rules and/or local rules\n",
    "df_semi = df[(df['global']!=0)&(df['standard_transaction_type_id']==-1)|(df['standard_transaction_type_id']!=-1)]"
   ]
  },
  {
   "cell_type": "code",
   "execution_count": 10,
   "metadata": {},
   "outputs": [],
   "source": [
    "df_semi_ = df_semi.copy()"
   ]
  },
  {
   "cell_type": "markdown",
   "metadata": {},
   "source": [
    "**Generate training and testing sets**"
   ]
  },
  {
   "cell_type": "code",
   "execution_count": 12,
   "metadata": {},
   "outputs": [
    {
     "name": "stderr",
     "output_type": "stream",
     "text": [
      "/opt/anaconda/envs/Python3/lib/python3.6/site-packages/pandas/core/generic.py:8765: SettingWithCopyWarning: \n",
      "A value is trying to be set on a copy of a slice from a DataFrame\n",
      "\n",
      "See the caveats in the documentation: https://pandas.pydata.org/pandas-docs/stable/user_guide/indexing.html#returning-a-view-versus-a-copy\n",
      "  self._update_inplace(new_data)\n"
     ]
    }
   ],
   "source": [
    "#Get the labelled and unlabelled (transactions without gold labels/ not labelled by local rules) transactions\n",
    "semi_y_labeled = df_semi[df_semi['standard_transaction_type_id'] != -1].loc[:,'standard_transaction_type_id']\n",
    "semi_y_unlabeled = df_semi[df_semi['standard_transaction_type_id'] == -1].loc[:,'standard_transaction_type_id']\n",
    "\n",
    "#Randomly set 30% of labeled transactions as unlabeled, use for evaluation\n",
    "rng = np.random.RandomState(40)\n",
    "semi_y_labeled[rng.rand(len(semi_y_labeled)) < 0.3] = -1\n",
    "semi_y_label = pd.concat([semi_y_labeled,semi_y_unlabeled], axis=1)\n",
    "semi_y_label = semi_y_label.fillna(-1)\n",
    "semi_y_label = semi_y_label.iloc[:,0]\n",
    "semi_y_label = semi_y_label.astype('int')"
   ]
  },
  {
   "cell_type": "code",
   "execution_count": 13,
   "metadata": {},
   "outputs": [],
   "source": [
    "#Get the index of labelled, unlabelled and the testing set\n",
    "labeled_indices = semi_y_label[semi_y_label!=-1].index.to_list()\n",
    "unlabeled_indices = semi_y_label[semi_y_label==-1].index.to_list()\n",
    "a = df_semi[df_semi['standard_transaction_type_id'] != -1].loc[:,'standard_transaction_type_id']\n",
    "test_true_labels = a[a.index.isin(unlabeled_indices)]\n",
    "test_indices = test_true_labels.index.to_list()"
   ]
  },
  {
   "cell_type": "code",
   "execution_count": 14,
   "metadata": {},
   "outputs": [],
   "source": [
    "#create the testing and training set\n",
    "df_semi_labeled = df_semi[df_semi.index.isin(labeled_indices)]\n",
    "df_semi_unlabeled = df_semi[df_semi.index.isin(unlabeled_indices)]\n",
    "df_semi_test =  df_semi[df_semi.index.isin(test_indices)]\n",
    "df_semi_train = df_semi[~df_semi.index.isin(test_indices)]\n",
    "train_indices = df_semi_train.index"
   ]
  },
  {
   "cell_type": "markdown",
   "metadata": {},
   "source": [
    "**Final Dataset: After word representation**"
   ]
  },
  {
   "cell_type": "code",
   "execution_count": 29,
   "metadata": {},
   "outputs": [],
   "source": [
    "#Use the findings in the word representation section and vectorise transaction description\n",
    "#Join descriptions into one list\n",
    "X_lab_des_list = [' '.join(x) for x in df_semi_labeled['description']]\n",
    "#The final word representation model \n",
    "tf = TfidfVectorizer(max_features=400)\n",
    "tfidf_matrix = tf.fit_transform(X_lab_des_list)\n",
    "\n",
    "def tfidf_vectoriser(df,indices):\n",
    "    des = [' '.join(x) for x in df['description']]\n",
    "    tf_trans = tf.transform(des)\n",
    "    tf_df = tf_trans.toarray()\n",
    "    tf_df = pd.DataFrame(tf_df)\n",
    "    tf_df.index = indices\n",
    "    return tf_df\n",
    "#vectorise descriptions using tf-idf\n",
    "X_test_des = tfidf_vectoriser(df_semi_test,test_indices)\n",
    "X_train_des = tfidf_vectoriser(df_semi_train,train_indices)"
   ]
  },
  {
   "cell_type": "code",
   "execution_count": 36,
   "metadata": {
    "scrolled": false
   },
   "outputs": [
    {
     "name": "stderr",
     "output_type": "stream",
     "text": [
      "/opt/anaconda/envs/Python3/lib/python3.6/site-packages/ipykernel/__main__.py:7: SettingWithCopyWarning: \n",
      "A value is trying to be set on a copy of a slice from a DataFrame.\n",
      "Try using .loc[row_indexer,col_indexer] = value instead\n",
      "\n",
      "See the caveats in the documentation: https://pandas.pydata.org/pandas-docs/stable/user_guide/indexing.html#returning-a-view-versus-a-copy\n",
      "/opt/anaconda/envs/Python3/lib/python3.6/site-packages/ipykernel/__main__.py:8: SettingWithCopyWarning: \n",
      "A value is trying to be set on a copy of a slice from a DataFrame.\n",
      "Try using .loc[row_indexer,col_indexer] = value instead\n",
      "\n",
      "See the caveats in the documentation: https://pandas.pydata.org/pandas-docs/stable/user_guide/indexing.html#returning-a-view-versus-a-copy\n",
      "/opt/anaconda/envs/Python3/lib/python3.6/site-packages/ipykernel/__main__.py:7: SettingWithCopyWarning: \n",
      "A value is trying to be set on a copy of a slice from a DataFrame.\n",
      "Try using .loc[row_indexer,col_indexer] = value instead\n",
      "\n",
      "See the caveats in the documentation: https://pandas.pydata.org/pandas-docs/stable/user_guide/indexing.html#returning-a-view-versus-a-copy\n",
      "/opt/anaconda/envs/Python3/lib/python3.6/site-packages/ipykernel/__main__.py:8: SettingWithCopyWarning: \n",
      "A value is trying to be set on a copy of a slice from a DataFrame.\n",
      "Try using .loc[row_indexer,col_indexer] = value instead\n",
      "\n",
      "See the caveats in the documentation: https://pandas.pydata.org/pandas-docs/stable/user_guide/indexing.html#returning-a-view-versus-a-copy\n"
     ]
    }
   ],
   "source": [
    "from sklearn import preprocessing\n",
    "scaler = preprocessing.StandardScaler()\n",
    "\n",
    "#Create the final dataframe containing variables and vectorised text\n",
    "def form_final_df(des_df,num_df):\n",
    "    #Normalise amount and balance between 0 and 1\n",
    "    num_df['amount_std'] = scaler.fit_transform(num_df['amount'].values.reshape(-1,1))\n",
    "    num_df['balance_std'] = scaler.fit_transform(num_df['balance'].values.reshape(-1,1))\n",
    "    X = pd.concat([des_df,num_df[['amount_std','balance_std','debit_binary', 'foreign_binary','financing_binary','account_binary','hmrc_vat','hmrc_corp','hmrc_paye','week_of_month_2','week_of_month_3','week_of_month_4','token_length']]], axis=1)\n",
    "    return X\n",
    "\n",
    "X_test = form_final_df(X_test_des,df_semi_test)\n",
    "X_train = form_final_df(X_train_des,df_semi_train)"
   ]
  },
  {
   "cell_type": "code",
   "execution_count": 40,
   "metadata": {},
   "outputs": [],
   "source": [
    "y_train = semi_y_label[semi_y_label.index.isin(train_indices)]\n",
    "#unlabeled transactions in X_train\n",
    "X_u = X_train[X_train.index.isin(semi_y_unlabeled.index)]\n",
    "#labelled transactions in X_train\n",
    "X_l = X_train[X_train.index.isin(labeled_indices)]\n",
    "y_l = semi_y_label[semi_y_label.index.isin(labeled_indices)]"
   ]
  },
  {
   "cell_type": "markdown",
   "metadata": {},
   "source": [
    "### 2.2 Semi-supervised Models"
   ]
  },
  {
   "cell_type": "markdown",
   "metadata": {},
   "source": [
    "#### 2.2.1 Label Propagation"
   ]
  },
  {
   "cell_type": "code",
   "execution_count": 49,
   "metadata": {},
   "outputs": [
    {
     "data": {
      "text/plain": [
       "LabelPropagation(gamma=2, max_iter=100000, n_jobs=-1)"
      ]
     },
     "execution_count": 49,
     "metadata": {},
     "output_type": "execute_result"
    }
   ],
   "source": [
    "#Fit and train the label propagation model\n",
    "lp_model = LabelPropagation(gamma=2, kernel='rbf', max_iter=100000, n_jobs=-1,n_neighbors=7, tol=0.001) \n",
    "lp_model.fit(X_train.values,y_train)"
   ]
  },
  {
   "cell_type": "code",
   "execution_count": 50,
   "metadata": {},
   "outputs": [],
   "source": [
    "#Predict the test data\n",
    "lp_predicted_test = lp_model.predict(X_test.values)"
   ]
  },
  {
   "cell_type": "code",
   "execution_count": 51,
   "metadata": {},
   "outputs": [
    {
     "name": "stdout",
     "output_type": "stream",
     "text": [
      "Label Propagation\n",
      "              precision    recall  f1-score   support\n",
      "\n",
      "           1     0.9592    0.9156    0.9369       154\n",
      "           2     1.0000    0.7778    0.8750         9\n",
      "           3     0.9502    0.9935    0.9713       307\n",
      "           4     1.0000    1.0000    1.0000        12\n",
      "           5     1.0000    0.8750    0.9333        24\n",
      "           6     0.9672    0.9516    0.9593        62\n",
      "           7     0.9700    0.9700    0.9700       100\n",
      "           8     1.0000    0.8636    0.9268        44\n",
      "           9     1.0000    0.5714    0.7273        14\n",
      "          10     0.9146    0.8621    0.8876        87\n",
      "          11     0.9245    0.9800    0.9515       300\n",
      "          12     0.8333    0.8824    0.8571        17\n",
      "          13     0.9524    0.9677    0.9600       248\n",
      "          14     1.0000    0.8125    0.8966        16\n",
      "          15     1.0000    0.5000    0.6667         2\n",
      "          16     1.0000    0.6667    0.8000         9\n",
      "\n",
      "    accuracy                         0.9480      1405\n",
      "   macro avg     0.9670    0.8494    0.8950      1405\n",
      "weighted avg     0.9492    0.9480    0.9469      1405\n",
      "\n",
      "Label Propagation Confusion matrix\n",
      "[[141   0  10   0   0   0   0   0   0   0   1   0   2   0   0   0]\n",
      " [  0   7   2   0   0   0   0   0   0   0   0   0   0   0   0   0]\n",
      " [  2   0 305   0   0   0   0   0   0   0   0   0   0   0   0   0]\n",
      " [  0   0   0  12   0   0   0   0   0   0   0   0   0   0   0   0]\n",
      " [  0   0   1   0  21   1   0   0   0   0   1   0   0   0   0   0]\n",
      " [  1   0   2   0   0  59   0   0   0   0   0   0   0   0   0   0]\n",
      " [  0   0   0   0   0   0  97   0   0   0   2   1   0   0   0   0]\n",
      " [  0   0   0   0   0   0   1  38   0   0   3   0   2   0   0   0]\n",
      " [  0   0   0   0   0   0   0   0   8   6   0   0   0   0   0   0]\n",
      " [  0   0   0   0   0   0   0   0   0  75   9   1   2   0   0   0]\n",
      " [  1   0   0   0   0   0   0   0   0   0 294   0   5   0   0   0]\n",
      " [  0   0   0   0   0   0   0   0   0   0   1  15   1   0   0   0]\n",
      " [  0   0   0   0   0   0   2   0   0   1   4   1 240   0   0   0]\n",
      " [  0   0   0   0   0   0   0   0   0   0   3   0   0  13   0   0]\n",
      " [  1   0   0   0   0   0   0   0   0   0   0   0   0   0   1   0]\n",
      " [  1   0   1   0   0   1   0   0   0   0   0   0   0   0   0   6]]\n"
     ]
    },
    {
     "data": {
      "image/png": "[encoded data removed]",
      "text/plain": [
       "<Figure size 720x720 with 2 Axes>"
      ]
     },
     "metadata": {
      "needs_background": "light"
     },
     "output_type": "display_data"
    }
   ],
   "source": [
    "#Evaluating the model\n",
    "functions.confusion(lp_predicted_test,test_true_labels,'Label Propagation')"
   ]
  },
  {
   "cell_type": "markdown",
   "metadata": {},
   "source": [
    " "
   ]
  },
  {
   "cell_type": "markdown",
   "metadata": {},
   "source": [
    "#### 2.2.2 Tri-training"
   ]
  },
  {
   "cell_type": "code",
   "execution_count": 55,
   "metadata": {},
   "outputs": [
    {
     "name": "stdout",
     "output_type": "stream",
     "text": [
      "RandomForestClassifier    CV-5 f1 macro:  0.9213136137698923 (+/- 0.05774836630933068)\n",
      "LogisticRegression        CV-5 f1 macro:  0.853514095865408 (+/- 0.03201633439945818)\n",
      "ExtraTreesClassifier      CV-5 f1 macro:  0.9164395731520208 (+/- 0.07165893006775405)\n",
      "XGBClassifier             CV-5 f1 macro:  0.9034893627167989 (+/- 0.049245201262843534)\n",
      "GaussianNB                CV-5 f1 macro:  0.8130873374406379 (+/- 0.051660201038724235)\n",
      "SVC                       CV-5 f1 macro:  0.6512015770041947 (+/- 0.026753051278871093)\n",
      "KNeighborsClassifier      CV-5 f1 macro:  0.802668928965128 (+/- 0.055774211587848545)\n"
     ]
    }
   ],
   "source": [
    "#Select the base estimators for tri-training\n",
    "kfold = StratifiedKFold(n_splits=5, shuffle=True, random_state=200)\n",
    "\n",
    "classifiers = [\n",
    "    RandomForestClassifier(),\n",
    "    LogisticRegression(max_iter = 250000),\n",
    "    ExtraTreesClassifier(),\n",
    "    XGBClassifier(),\n",
    "    GaussianNB(),\n",
    "    SVC(),\n",
    "    KNeighborsClassifier(),\n",
    "]\n",
    "\n",
    "result = list()\n",
    "#Train on the base classifiers and to select top 3 classifiers using f1-score\n",
    "for model in classifiers:    \n",
    "    scores = cross_val_score(model, X_l, y_l, cv=kfold, scoring='f1_macro')\n",
    "    score_description = \" {} (+/- {})\".format(scores.mean(), scores.std() * 2)\n",
    "    result.append(scores.mean())\n",
    "    print('{model:25} CV-5 f1 macro: {score}'.format(model=model.__class__.__name__,score=score_description))"
   ]
  },
  {
   "cell_type": "code",
   "execution_count": 15,
   "metadata": {
    "scrolled": true
   },
   "outputs": [
    {
     "data": {
      "image/png": "[encoded data removed]",
      "text/plain": [
       "<Figure size 720x288 with 1 Axes>"
      ]
     },
     "metadata": {
      "needs_background": "light"
     },
     "output_type": "display_data"
    }
   ],
   "source": [
    "a = pd.DataFrame(results)\n",
    "model = ['RandomForestClassifier','LogisticRegression','ExtraTreesClassifier','XGBClassifier','GaussianNB','SVC',\n",
    "         'KNeighborsClassifier','MLPClassifier']\n",
    "plt.figure(figsize=(10,4))\n",
    "\n",
    "# Plot the score of each model\n",
    "plt.barh(range(7), (a[0].values)*100, height=0.7, color='steelblue', alpha=0.8)\n",
    "plt.yticks(range(7), model)\n",
    "plt.xlim(0,100)\n",
    "plt.title(\"The Average 5-Fold CV F1 Score of Base Models\")\n",
    "plt.savefig(r'CV Score of class Model(after semi).png',bbox_inches='tight')"
   ]
  },
  {
   "cell_type": "markdown",
   "metadata": {},
   "source": [
    "Random forest, Extra trees and XGBoost are selected due to high f1 scores and are fune-tuned using grid search in below."
   ]
  },
  {
   "cell_type": "code",
   "execution_count": 63,
   "metadata": {},
   "outputs": [
    {
     "data": {
      "text/plain": [
       "{'max_depth': None,\n",
       " 'max_features': 'sqrt',\n",
       " 'min_samples_leaf': 1,\n",
       " 'min_samples_split': 10,\n",
       " 'n_estimators': 100}"
      ]
     },
     "execution_count": 63,
     "metadata": {},
     "output_type": "execute_result"
    }
   ],
   "source": [
    "#Fine-tuning the selected model: extra trees\n",
    "et = ExtraTreesClassifier()\n",
    "\n",
    "grid_param={\"n_estimators\": [50, 100,150], \n",
    "           \"max_features\": [\"auto\",\"sqrt\",\"log2\"],\n",
    "           \"max_depth\": [None,5,10], \n",
    "           \"min_samples_split\": [2,5,10],\n",
    "           \"min_samples_leaf\": [1,2,5]}\n",
    "\n",
    "gridsearch(et,grid_param)"
   ]
  },
  {
   "cell_type": "code",
   "execution_count": 93,
   "metadata": {},
   "outputs": [
    {
     "data": {
      "text/plain": [
       "{'max_depth': 50, 'n_estimators': 50}"
      ]
     },
     "execution_count": 93,
     "metadata": {},
     "output_type": "execute_result"
    }
   ],
   "source": [
    "#Fine-tuning the selected model: XGBoost\n",
    "xgb = XGBClassifier()\n",
    "\n",
    "n_estimators = [50, 100,300]\n",
    "max_depth=[None,10, 50,100]\n",
    "\n",
    "grid_param={\"n_estimators\": [50, 100,300], \n",
    "           \"max_depth\": [None,10, 50,100]}\n",
    "\n",
    "\n",
    "gridsearch(xgb,grid_param)"
   ]
  },
  {
   "cell_type": "code",
   "execution_count": 70,
   "metadata": {},
   "outputs": [
    {
     "data": {
      "text/plain": [
       "{'max_depth': 50,\n",
       " 'max_features': 'sqrt',\n",
       " 'min_samples_leaf': 1,\n",
       " 'min_samples_split': 10,\n",
       " 'n_estimators': 200}"
      ]
     },
     "execution_count": 70,
     "metadata": {},
     "output_type": "execute_result"
    }
   ],
   "source": [
    "#Fine-tuning the selected model: random forest\n",
    "rf = RandomForestClassifier()\n",
    "\n",
    "grid_param={\"n_estimators\": [50,100,150,200], \n",
    "           \"max_features\": [\"auto\",\"sqrt\",\"log2\"],\n",
    "           \"max_depth\": [None,10,50,100], \n",
    "           \"min_samples_split\": [2,5,10,15],\n",
    "           \"min_samples_leaf\": [1,5,10,15]}\n",
    "\n",
    "gridsearch(rf,grid_param)"
   ]
  },
  {
   "cell_type": "markdown",
   "metadata": {},
   "source": [
    "Now we use the fine-tuned base classifiers to apply tri-training."
   ]
  },
  {
   "cell_type": "code",
   "execution_count": 74,
   "metadata": {},
   "outputs": [],
   "source": [
    "#Tri-training classifer\n",
    "tt = TriTraining([ExtraTreesClassifier(max_depth= None,max_features='sqrt',min_samples_leaf= 1,min_samples_split= 10,n_estimators= 100,random_state=200),\n",
    "                  RandomForestClassifier(max_depth= 50,max_features= 'sqrt',min_samples_leaf=1,min_samples_split= 10,n_estimators= 200),\n",
    "                  XGBClassifier(max_depth= 50, n_estimators= 50,random_state=200)])\n",
    "#Train the model and predict testing data\n",
    "tt.fit(X_l.values,y_l.values,X_u.values)\n",
    "tt_predicted_test = tt.predict(X_test.values)"
   ]
  },
  {
   "cell_type": "code",
   "execution_count": 75,
   "metadata": {},
   "outputs": [
    {
     "name": "stdout",
     "output_type": "stream",
     "text": [
      "Tri-training\n",
      "              precision    recall  f1-score   support\n",
      "\n",
      "           1     0.9733    0.9481    0.9605       154\n",
      "           2     1.0000    0.7778    0.8750         9\n",
      "           3     0.9804    0.9772    0.9788       307\n",
      "           4     1.0000    1.0000    1.0000        12\n",
      "           5     0.9583    0.9583    0.9583        24\n",
      "           6     1.0000    0.9677    0.9836        62\n",
      "           7     0.9706    0.9900    0.9802       100\n",
      "           8     0.9773    0.9773    0.9773        44\n",
      "           9     1.0000    0.7857    0.8800        14\n",
      "          10     0.9560    1.0000    0.9775        87\n",
      "          11     0.9833    0.9800    0.9816       300\n",
      "          12     1.0000    1.0000    1.0000        17\n",
      "          13     0.9425    0.9919    0.9666       248\n",
      "          14     1.0000    0.8125    0.8966        16\n",
      "          15     1.0000    1.0000    1.0000         2\n",
      "          16     1.0000    0.6667    0.8000         9\n",
      "\n",
      "    accuracy                         0.9722      1405\n",
      "   macro avg     0.9839    0.9271    0.9510      1405\n",
      "weighted avg     0.9728    0.9722    0.9718      1405\n",
      "\n",
      "Tri-training Confusion matrix\n",
      "[[146   0   4   0   0   0   0   0   0   0   0   0   4   0   0   0]\n",
      " [  0   7   1   0   0   0   0   1   0   0   0   0   0   0   0   0]\n",
      " [  0   0 300   0   1   0   2   0   0   0   0   0   4   0   0   0]\n",
      " [  0   0   0  12   0   0   0   0   0   0   0   0   0   0   0   0]\n",
      " [  0   0   1   0  23   0   0   0   0   0   0   0   0   0   0   0]\n",
      " [  1   0   0   0   0  60   0   0   0   0   1   0   0   0   0   0]\n",
      " [  0   0   0   0   0   0  99   0   0   0   1   0   0   0   0   0]\n",
      " [  0   0   0   0   0   0   0  43   0   0   0   0   1   0   0   0]\n",
      " [  0   0   0   0   0   0   0   0  11   3   0   0   0   0   0   0]\n",
      " [  0   0   0   0   0   0   0   0   0  87   0   0   0   0   0   0]\n",
      " [  0   0   0   0   0   0   0   0   0   0 294   0   6   0   0   0]\n",
      " [  0   0   0   0   0   0   0   0   0   0   0  17   0   0   0   0]\n",
      " [  0   0   0   0   0   0   1   0   0   1   0   0 246   0   0   0]\n",
      " [  0   0   0   0   0   0   0   0   0   0   3   0   0  13   0   0]\n",
      " [  0   0   0   0   0   0   0   0   0   0   0   0   0   0   2   0]\n",
      " [  3   0   0   0   0   0   0   0   0   0   0   0   0   0   0   6]]\n"
     ]
    },
    {
     "data": {
      "image/png": "[encoded data removed]",
      "text/plain": [
       "<Figure size 720x720 with 2 Axes>"
      ]
     },
     "metadata": {
      "needs_background": "light"
     },
     "output_type": "display_data"
    }
   ],
   "source": [
    "#Evaluate the model using testing results\n",
    "functions.confusion(tt_predicted_test,test_true_labels,'Tri-training')"
   ]
  },
  {
   "cell_type": "markdown",
   "metadata": {},
   "source": [
    " "
   ]
  },
  {
   "cell_type": "markdown",
   "metadata": {},
   "source": [
    "#### 2.2.3 Pseudo labeling"
   ]
  },
  {
   "cell_type": "markdown",
   "metadata": {},
   "source": [
    "From Tri-training, we choose the best base estimator from the three fine-tuned estimators"
   ]
  },
  {
   "cell_type": "code",
   "execution_count": 71,
   "metadata": {},
   "outputs": [
    {
     "name": "stdout",
     "output_type": "stream",
     "text": [
      "ExtraTreesClassifier      CV-5 f1 macro:  0.9239606698421243 (+/- 0.054078051534990686)\n",
      "RandomForestClassifier    CV-5 f1 macro:  0.9234722586994341 (+/- 0.053888443862123735)\n",
      "XGBClassifier             CV-5 f1 macro:  0.9111851007794691 (+/- 0.04993590312640901)\n"
     ]
    }
   ],
   "source": [
    "#Check the best estimator\n",
    "classifiers = [ExtraTreesClassifier(max_depth= None,max_features='sqrt',min_samples_leaf= 1,min_samples_split= 10,n_estimators= 100,random_state=200),\n",
    "    RandomForestClassifier(max_depth= 50,max_features= 'sqrt',min_samples_leaf=1,min_samples_split= 10,n_estimators= 200),\n",
    "    XGBClassifier(max_depth= 50, n_estimators= 50,random_state=200)\n",
    "]\n",
    "\n",
    "#Train on the base classifiers and to select top 3 classifiers using f1-score\n",
    "for model in classifiers:    \n",
    "    scores = cross_val_score(model, X_l, y_l, cv=kfold, scoring='f1_macro')\n",
    "    score_description = \" {} (+/- {})\".format(scores.mean(), scores.std() * 2)\n",
    "    print('{model:25} CV-5 f1 macro: {score}'.format(model=model.__class__.__name__,score=score_description))"
   ]
  },
  {
   "cell_type": "markdown",
   "metadata": {},
   "source": [
    "Extra trees gave the highest F1_score, thus it is chosen as base estimator for pseudo labelling"
   ]
  },
  {
   "cell_type": "code",
   "execution_count": 76,
   "metadata": {},
   "outputs": [],
   "source": [
    "#Set the model\n",
    "pseudo = PseudoLabeler(ExtraTreesClassifier(max_depth= None,max_features='log2',min_samples_leaf= 1,min_samples_split= 10,n_estimators= 100,random_state=200),\n",
    "    X_u,X_u.columns,'standard_transaction_type_id',sample_rate=0.3)\n",
    "\n",
    "pseudo.seed = 42\n",
    "#Fit dataset to the model\n",
    "pseudo.fit(X_l, y_l)\n",
    "#Predict testing labels\n",
    "pse_predicted_test = pseudo.predict(X_test)"
   ]
  },
  {
   "cell_type": "code",
   "execution_count": 77,
   "metadata": {
    "scrolled": false
   },
   "outputs": [
    {
     "name": "stdout",
     "output_type": "stream",
     "text": [
      "Pseudo Labelling\n",
      "              precision    recall  f1-score   support\n",
      "\n",
      "           1     0.9804    0.9740    0.9772       154\n",
      "           2     1.0000    0.7778    0.8750         9\n",
      "           3     0.9808    1.0000    0.9903       307\n",
      "           4     1.0000    1.0000    1.0000        12\n",
      "           5     1.0000    1.0000    1.0000        24\n",
      "           6     1.0000    0.9677    0.9836        62\n",
      "           7     1.0000    0.9900    0.9950       100\n",
      "           8     0.9773    0.9773    0.9773        44\n",
      "           9     1.0000    0.8571    0.9231        14\n",
      "          10     0.9667    1.0000    0.9831        87\n",
      "          11     0.9867    0.9900    0.9884       300\n",
      "          12     1.0000    1.0000    1.0000        17\n",
      "          13     0.9841    0.9960    0.9900       248\n",
      "          14     1.0000    0.8125    0.8966        16\n",
      "          15     1.0000    1.0000    1.0000         2\n",
      "          16     1.0000    0.7778    0.8750         9\n",
      "\n",
      "    accuracy                         0.9851      1405\n",
      "   macro avg     0.9922    0.9450    0.9659      1405\n",
      "weighted avg     0.9852    0.9851    0.9847      1405\n",
      "\n",
      "Pseudo Labelling Confusion matrix\n",
      "[[150   0   4   0   0   0   0   0   0   0   0   0   0   0   0   0]\n",
      " [  0   7   1   0   0   0   0   1   0   0   0   0   0   0   0   0]\n",
      " [  0   0 307   0   0   0   0   0   0   0   0   0   0   0   0   0]\n",
      " [  0   0   0  12   0   0   0   0   0   0   0   0   0   0   0   0]\n",
      " [  0   0   0   0  24   0   0   0   0   0   0   0   0   0   0   0]\n",
      " [  1   0   1   0   0  60   0   0   0   0   0   0   0   0   0   0]\n",
      " [  0   0   0   0   0   0  99   0   0   0   1   0   0   0   0   0]\n",
      " [  0   0   0   0   0   0   0  43   0   0   0   0   1   0   0   0]\n",
      " [  0   0   0   0   0   0   0   0  12   2   0   0   0   0   0   0]\n",
      " [  0   0   0   0   0   0   0   0   0  87   0   0   0   0   0   0]\n",
      " [  0   0   0   0   0   0   0   0   0   0 297   0   3   0   0   0]\n",
      " [  0   0   0   0   0   0   0   0   0   0   0  17   0   0   0   0]\n",
      " [  0   0   0   0   0   0   0   0   0   1   0   0 247   0   0   0]\n",
      " [  0   0   0   0   0   0   0   0   0   0   3   0   0  13   0   0]\n",
      " [  0   0   0   0   0   0   0   0   0   0   0   0   0   0   2   0]\n",
      " [  2   0   0   0   0   0   0   0   0   0   0   0   0   0   0   7]]\n"
     ]
    },
    {
     "data": {
      "image/png": "[encoded data removed]",
      "text/plain": [
       "<Figure size 720x720 with 2 Axes>"
      ]
     },
     "metadata": {
      "needs_background": "light"
     },
     "output_type": "display_data"
    }
   ],
   "source": [
    "#Model evaluation using testing set\n",
    "functions.confusion(pse_predicted_test,test_true_labels,'Pseudo Labelling')"
   ]
  },
  {
   "cell_type": "markdown",
   "metadata": {},
   "source": [
    "#### 2.2.4 Majority Vote with Global rules"
   ]
  },
  {
   "cell_type": "code",
   "execution_count": 112,
   "metadata": {},
   "outputs": [],
   "source": [
    "#Get a matrix with all prediction results of the three classifiers\n",
    "prediction_test= np.vstack((lp_predicted_test,tt_predicted_test,pse_predicted_test)).T\n",
    "\n",
    "#Majority vote and form a final column for results\n",
    "vote_test = np.apply_along_axis(lambda x: np.argmax(np.bincount(x)), axis=1, arr=prediction_test)\n",
    "vote_df_test = pd.DataFrame(vote_test)\n",
    "vote_df_test.index = test_indices\n",
    "\n",
    "#pickcout the results that are not consistent, i.e. three classifiers produce three results\n",
    "a = pd.DataFrame(prediction_test)\n",
    "a.index = test_indices\n",
    "#get their index\n",
    "non_vote_index = a[(a.iloc[:,0]!=a.iloc[:,1])&(a.iloc[:,2]!=a.iloc[:,1])&(a.iloc[:,0]!=a.iloc[:,2])].index\n",
    "\n",
    "#Get the global rule label of those inconsistent transactions \n",
    "global_non_vote = df_semi_unlabeled[df_semi_unlabeled.index.isin(non_vote_index)]\n",
    "global_non_vote = global_non_vote['global']\n",
    "\n",
    "#Change the weak labels to the same as global rule labels for those conflicting transactions only\n",
    "for index in non_vote_index:\n",
    "    vote_df_test.loc[index] = global_non_vote[index]\n",
    "\n",
    "prediction_test_aft_vote = vote_df_test.to_numpy()"
   ]
  },
  {
   "cell_type": "code",
   "execution_count": 114,
   "metadata": {},
   "outputs": [
    {
     "name": "stdout",
     "output_type": "stream",
     "text": [
      "Weak Labels after Majority Vote\n",
      "              precision    recall  f1-score   support\n",
      "\n",
      "           1     0.9742    0.9805    0.9773       154\n",
      "           2     1.0000    0.7778    0.8750         9\n",
      "           3     0.9808    1.0000    0.9903       307\n",
      "           4     1.0000    1.0000    1.0000        12\n",
      "           5     1.0000    0.9583    0.9787        24\n",
      "           6     1.0000    0.9677    0.9836        62\n",
      "           7     1.0000    0.9900    0.9950       100\n",
      "           8     0.9773    0.9773    0.9773        44\n",
      "           9     1.0000    0.8571    0.9231        14\n",
      "          10     0.9667    1.0000    0.9831        87\n",
      "          11     0.9866    0.9800    0.9833       300\n",
      "          12     1.0000    1.0000    1.0000        17\n",
      "          13     0.9724    0.9960    0.9841       248\n",
      "          14     1.0000    0.8125    0.8966        16\n",
      "          15     1.0000    1.0000    1.0000         2\n",
      "          16     1.0000    0.6667    0.8000         9\n",
      "\n",
      "    accuracy                         0.9822      1405\n",
      "   macro avg     0.9911    0.9352    0.9592      1405\n",
      "weighted avg     0.9825    0.9822    0.9818      1405\n",
      "\n",
      "Weak Labels after Majority Vote Confusion matrix\n",
      "[[151   0   3   0   0   0   0   0   0   0   0   0   0   0   0   0]\n",
      " [  0   7   1   0   0   0   0   1   0   0   0   0   0   0   0   0]\n",
      " [  0   0 307   0   0   0   0   0   0   0   0   0   0   0   0   0]\n",
      " [  0   0   0  12   0   0   0   0   0   0   0   0   0   0   0   0]\n",
      " [  0   0   1   0  23   0   0   0   0   0   0   0   0   0   0   0]\n",
      " [  1   0   1   0   0  60   0   0   0   0   0   0   0   0   0   0]\n",
      " [  0   0   0   0   0   0  99   0   0   0   1   0   0   0   0   0]\n",
      " [  0   0   0   0   0   0   0  43   0   0   0   0   1   0   0   0]\n",
      " [  0   0   0   0   0   0   0   0  12   2   0   0   0   0   0   0]\n",
      " [  0   0   0   0   0   0   0   0   0  87   0   0   0   0   0   0]\n",
      " [  0   0   0   0   0   0   0   0   0   0 294   0   6   0   0   0]\n",
      " [  0   0   0   0   0   0   0   0   0   0   0  17   0   0   0   0]\n",
      " [  0   0   0   0   0   0   0   0   0   1   0   0 247   0   0   0]\n",
      " [  0   0   0   0   0   0   0   0   0   0   3   0   0  13   0   0]\n",
      " [  0   0   0   0   0   0   0   0   0   0   0   0   0   0   2   0]\n",
      " [  3   0   0   0   0   0   0   0   0   0   0   0   0   0   0   6]]\n"
     ]
    },
    {
     "data": {
      "image/png": "[encoded data removed]",
      "text/plain": [
       "<Figure size 720x720 with 2 Axes>"
      ]
     },
     "metadata": {
      "needs_background": "light"
     },
     "output_type": "display_data"
    }
   ],
   "source": [
    "#Get evluation matrix\n",
    "functions.confusion(prediction_test_aft_vote,test_true_labels,'Weak Labels after Majority Vote')"
   ]
  },
  {
   "cell_type": "markdown",
   "metadata": {},
   "source": [
    " "
   ]
  },
  {
   "cell_type": "markdown",
   "metadata": {},
   "source": [
    "### 2.3 Predicting transactions for those without gold labels"
   ]
  },
  {
   "cell_type": "code",
   "execution_count": 115,
   "metadata": {},
   "outputs": [],
   "source": [
    "#Predict labels of those local rule unlabelled transactions\n",
    "lp_predict = lp_model.predict(X_u.values)\n",
    "tt_predict = tt.predict(X_u.values)\n",
    "pse_predict = pseudo.predict(X_u)\n",
    "#Combine those predictions\n",
    "predictions= np.vstack((lp_predict, tt_predict,pse_predict)).T\n",
    "\n",
    "#Majority Vote\n",
    "vote = np.apply_along_axis(lambda x: np.argmax(np.bincount(x)), axis=1, arr=predictions)\n",
    "vote_df = pd.DataFrame(vote)\n",
    "vote_df.index = semi_y_unlabeled.index\n",
    "\n",
    "#Get the index and transactions of those inconsistent predictions\n",
    "a = pd.DataFrame(predictions)\n",
    "a.index = semi_y_unlabeled.index\n",
    "non_vote_index = a[(a.iloc[:,0]!=a.iloc[:,1])&(a.iloc[:,2]!=a.iloc[:,1])&(a.iloc[:,0]!=a.iloc[:,2])].index\n",
    "\n",
    "#Find global rule of those inconsistents \n",
    "global_non_vote = df_semi_unlabeled[df_semi_unlabeled.index.isin(non_vote_index)]\n",
    "global_non_vote = global_non_vote['global']\n",
    "\n",
    "#Change the predicted labels to global-labelled classes for those inconsistent\n",
    "for index in non_vote_index:\n",
    "    vote_df.loc[index] = global_non_vote[index]"
   ]
  },
  {
   "cell_type": "markdown",
   "metadata": {},
   "source": [
    " "
   ]
  },
  {
   "cell_type": "markdown",
   "metadata": {},
   "source": [
    "### 2.4 Form the weak labelled dataframe"
   ]
  },
  {
   "cell_type": "code",
   "execution_count": 118,
   "metadata": {},
   "outputs": [],
   "source": [
    "#Create a weak label variable\n",
    "df['weak_label'] = df['standard_transaction_type_id']\n",
    "#Change the labels to weak labels in the final datafrmae\n",
    "for index in semi_y_unlabeled.index:\n",
    "    df.loc[index,'weak_label'] = vote_df.loc[index].values[0]"
   ]
  },
  {
   "cell_type": "code",
   "execution_count": 119,
   "metadata": {},
   "outputs": [
    {
     "data": {
      "text/plain": [
       "-1     106727\n",
       " 13      2370\n",
       " 3       1366\n",
       " 11      1096\n",
       " 1        915\n",
       " 7        816\n",
       " 10       330\n",
       " 6        219\n",
       " 8        211\n",
       " 5         68\n",
       " 12        62\n",
       " 14        50\n",
       " 9         42\n",
       " 2         41\n",
       " 4         30\n",
       " 16        18\n",
       " 15         8\n",
       "Name: weak_label, dtype: int64"
      ]
     },
     "execution_count": 119,
     "metadata": {},
     "output_type": "execute_result"
    }
   ],
   "source": [
    "#Check the distribution of weak labels\n",
    "df['weak_label'].value_counts()"
   ]
  },
  {
   "cell_type": "code",
   "execution_count": 120,
   "metadata": {},
   "outputs": [],
   "source": [
    "#Replace weak labels of -1 by 0 for future analysis as -1 is only used for semi-supervised classification stage\n",
    "df['weak_label'].replace(-1, 0,inplace=True)"
   ]
  },
  {
   "cell_type": "markdown",
   "metadata": {},
   "source": [
    " "
   ]
  },
  {
   "cell_type": "code",
   "execution_count": 51,
   "metadata": {},
   "outputs": [],
   "source": [
    "df.to_csv(r'df_post_weak_label.csv',index = False)"
   ]
  },
  {
   "cell_type": "code",
   "execution_count": 132,
   "metadata": {},
   "outputs": [],
   "source": [
    "df.to_csv(r'df_post_weak_label_updated.csv',index = False)"
   ]
  },
  {
   "cell_type": "code",
   "execution_count": 133,
   "metadata": {},
   "outputs": [],
   "source": [
    "vote_df.to_csv(r'df_unlabeled_data_labels.csv',index = False)"
   ]
  }
 ],
 "metadata": {
  "kernelspec": {
   "display_name": "Python [default]",
   "language": "python",
   "name": "python3"
  },
  "language_info": {
   "codemirror_mode": {
    "name": "ipython",
    "version": 3
   },
   "file_extension": ".py",
   "mimetype": "text/x-python",
   "name": "python",
   "nbconvert_exporter": "python",
   "pygments_lexer": "ipython3",
   "version": "3.6.10"
  }
 },
 "nbformat": 4,
 "nbformat_minor": 2
}
