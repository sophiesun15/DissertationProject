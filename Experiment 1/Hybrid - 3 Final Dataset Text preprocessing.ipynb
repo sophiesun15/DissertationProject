{
 "cells": [
  {
   "cell_type": "markdown",
   "metadata": {},
   "source": [
    "# Hybrid - Part 3: Semi-supervised Learning Dataset Text Pre-Processing & Representation"
   ]
  },
  {
   "cell_type": "markdown",
   "metadata": {},
   "source": [
    "**Environment Setup**"
   ]
  },
  {
   "cell_type": "code",
   "execution_count": 1,
   "metadata": {
    "scrolled": false
   },
   "outputs": [
    {
     "name": "stdout",
     "output_type": "stream",
     "text": [
      "\u001b[1m\n",
      "         .:::.     .::.       \n",
      "        ....yy:    .yy.       \n",
      "        :.  .yy.    y.        \n",
      "             :y:   .:         \n",
      "             .yy  .:          \n",
      "              yy..:           \n",
      "              :y:.            \n",
      "              .y.             \n",
      "             .:.              \n",
      "        ....:.                \n",
      "        :::.                  \n",
      "\u001b[0;33m\n",
      "• Project files and data should be stored in /project. This is shared among everyone\n",
      "  in the project.\n",
      "• Personal files and configuration should be stored in /home/faculty.\n",
      "• Files outside /project and /home/faculty will be lost when this server is terminated.\n",
      "• Create custom environments to setup your servers reproducibly.\n",
      "\u001b[0m\n",
      "Requirement already satisfied: spacy in /opt/anaconda/envs/Python3/lib/python3.6/site-packages (2.3.2)\n",
      "Requirement already satisfied: preshed<3.1.0,>=3.0.2 in /opt/anaconda/envs/Python3/lib/python3.6/site-packages (from spacy) (3.0.2)\n",
      "Requirement already satisfied: wasabi<1.1.0,>=0.4.0 in /opt/anaconda/envs/Python3/lib/python3.6/site-packages (from spacy) (0.7.1)\n",
      "Requirement already satisfied: tqdm<5.0.0,>=4.38.0 in /opt/anaconda/envs/Python3/lib/python3.6/site-packages (from spacy) (4.47.0)\n",
      "Requirement already satisfied: murmurhash<1.1.0,>=0.28.0 in /opt/anaconda/envs/Python3/lib/python3.6/site-packages (from spacy) (1.0.2)\n",
      "Requirement already satisfied: numpy>=1.15.0 in /opt/anaconda/envs/Python3/lib/python3.6/site-packages (from spacy) (1.18.5)\n",
      "Requirement already satisfied: srsly<1.1.0,>=1.0.2 in /opt/anaconda/envs/Python3/lib/python3.6/site-packages (from spacy) (1.0.2)\n",
      "Requirement already satisfied: blis<0.5.0,>=0.4.0 in /opt/anaconda/envs/Python3/lib/python3.6/site-packages (from spacy) (0.4.1)\n",
      "Requirement already satisfied: catalogue<1.1.0,>=0.0.7 in /opt/anaconda/envs/Python3/lib/python3.6/site-packages (from spacy) (1.0.0)\n",
      "Requirement already satisfied: cymem<2.1.0,>=2.0.2 in /opt/anaconda/envs/Python3/lib/python3.6/site-packages (from spacy) (2.0.3)\n",
      "Requirement already satisfied: setuptools in /opt/anaconda/envs/Python3/lib/python3.6/site-packages (from spacy) (49.2.0.post20200714)\n",
      "Requirement already satisfied: requests<3.0.0,>=2.13.0 in /opt/anaconda/envs/Python3/lib/python3.6/site-packages (from spacy) (2.24.0)\n",
      "Requirement already satisfied: plac<1.2.0,>=0.9.6 in /opt/anaconda/envs/Python3/lib/python3.6/site-packages (from spacy) (1.1.3)\n",
      "Requirement already satisfied: thinc==7.4.1 in /opt/anaconda/envs/Python3/lib/python3.6/site-packages (from spacy) (7.4.1)\n",
      "Requirement already satisfied: importlib-metadata>=0.20; python_version < \"3.8\" in /opt/anaconda/envs/Python3/lib/python3.6/site-packages (from catalogue<1.1.0,>=0.0.7->spacy) (1.7.0)\n",
      "Requirement already satisfied: certifi>=2017.4.17 in /opt/anaconda/envs/Python3/lib/python3.6/site-packages (from requests<3.0.0,>=2.13.0->spacy) (2020.6.20)\n",
      "Requirement already satisfied: urllib3!=1.25.0,!=1.25.1,<1.26,>=1.21.1 in /opt/anaconda/envs/Python3/lib/python3.6/site-packages (from requests<3.0.0,>=2.13.0->spacy) (1.25.9)\n",
      "Requirement already satisfied: chardet<4,>=3.0.2 in /opt/anaconda/envs/Python3/lib/python3.6/site-packages (from requests<3.0.0,>=2.13.0->spacy) (3.0.4)\n",
      "Requirement already satisfied: idna<3,>=2.5 in /opt/anaconda/envs/Python3/lib/python3.6/site-packages (from requests<3.0.0,>=2.13.0->spacy) (2.10)\n",
      "Requirement already satisfied: zipp>=0.5 in /opt/anaconda/envs/Python3/lib/python3.6/site-packages (from importlib-metadata>=0.20; python_version < \"3.8\"->catalogue<1.1.0,>=0.0.7->spacy) (3.1.0)\n",
      "\u001b[1m\n",
      "         .:::.     .::.       \n",
      "        ....yy:    .yy.       \n",
      "        :.  .yy.    y.        \n",
      "             :y:   .:         \n",
      "             .yy  .:          \n",
      "              yy..:           \n",
      "              :y:.            \n",
      "              .y.             \n",
      "             .:.              \n",
      "        ....:.                \n",
      "        :::.                  \n",
      "\u001b[0;33m\n",
      "• Project files and data should be stored in /project. This is shared among everyone\n",
      "  in the project.\n",
      "• Personal files and configuration should be stored in /home/faculty.\n",
      "• Files outside /project and /home/faculty will be lost when this server is terminated.\n",
      "• Create custom environments to setup your servers reproducibly.\n",
      "\u001b[0m\n",
      "Requirement already satisfied: gensim in /opt/anaconda/envs/Python3/lib/python3.6/site-packages (3.8.3)\n",
      "Requirement already satisfied: smart-open>=1.8.1 in /opt/anaconda/envs/Python3/lib/python3.6/site-packages (from gensim) (2.1.0)\n",
      "Requirement already satisfied: numpy>=1.11.3 in /opt/anaconda/envs/Python3/lib/python3.6/site-packages (from gensim) (1.18.5)\n",
      "Requirement already satisfied: six>=1.5.0 in /opt/anaconda/envs/Python3/lib/python3.6/site-packages (from gensim) (1.15.0)\n",
      "Requirement already satisfied: scipy>=0.18.1 in /opt/anaconda/envs/Python3/lib/python3.6/site-packages (from gensim) (1.5.0)\n",
      "Requirement already satisfied: requests in /opt/anaconda/envs/Python3/lib/python3.6/site-packages (from smart-open>=1.8.1->gensim) (2.24.0)\n",
      "Requirement already satisfied: boto in /opt/anaconda/envs/Python3/lib/python3.6/site-packages (from smart-open>=1.8.1->gensim) (2.49.0)\n",
      "Requirement already satisfied: boto3 in /opt/anaconda/envs/Python3/lib/python3.6/site-packages (from smart-open>=1.8.1->gensim) (1.14.34)\n",
      "Requirement already satisfied: certifi>=2017.4.17 in /opt/anaconda/envs/Python3/lib/python3.6/site-packages (from requests->smart-open>=1.8.1->gensim) (2020.6.20)\n",
      "Requirement already satisfied: urllib3!=1.25.0,!=1.25.1,<1.26,>=1.21.1 in /opt/anaconda/envs/Python3/lib/python3.6/site-packages (from requests->smart-open>=1.8.1->gensim) (1.25.9)\n",
      "Requirement already satisfied: chardet<4,>=3.0.2 in /opt/anaconda/envs/Python3/lib/python3.6/site-packages (from requests->smart-open>=1.8.1->gensim) (3.0.4)\n",
      "Requirement already satisfied: idna<3,>=2.5 in /opt/anaconda/envs/Python3/lib/python3.6/site-packages (from requests->smart-open>=1.8.1->gensim) (2.10)\n",
      "Requirement already satisfied: s3transfer<0.4.0,>=0.3.0 in /opt/anaconda/envs/Python3/lib/python3.6/site-packages (from boto3->smart-open>=1.8.1->gensim) (0.3.3)\n",
      "Requirement already satisfied: botocore<1.18.0,>=1.17.34 in /opt/anaconda/envs/Python3/lib/python3.6/site-packages (from boto3->smart-open>=1.8.1->gensim) (1.17.34)\n",
      "Requirement already satisfied: jmespath<1.0.0,>=0.7.1 in /opt/anaconda/envs/Python3/lib/python3.6/site-packages (from boto3->smart-open>=1.8.1->gensim) (0.10.0)\n",
      "Requirement already satisfied: python-dateutil<3.0.0,>=2.1 in /opt/anaconda/envs/Python3/lib/python3.6/site-packages (from botocore<1.18.0,>=1.17.34->boto3->smart-open>=1.8.1->gensim) (2.8.1)\n",
      "Requirement already satisfied: docutils<0.16,>=0.10 in /opt/anaconda/envs/Python3/lib/python3.6/site-packages (from botocore<1.18.0,>=1.17.34->boto3->smart-open>=1.8.1->gensim) (0.15.2)\n",
      "\u001b[1m\n",
      "         .:::.     .::.       \n",
      "        ....yy:    .yy.       \n",
      "        :.  .yy.    y.        \n",
      "             :y:   .:         \n",
      "             .yy  .:          \n",
      "              yy..:           \n",
      "              :y:.            \n",
      "              .y.             \n",
      "             .:.              \n",
      "        ....:.                \n",
      "        :::.                  \n",
      "\u001b[0;33m\n",
      "• Project files and data should be stored in /project. This is shared among everyone\n",
      "  in the project.\n",
      "• Personal files and configuration should be stored in /home/faculty.\n",
      "• Files outside /project and /home/faculty will be lost when this server is terminated.\n",
      "• Create custom environments to setup your servers reproducibly.\n",
      "\u001b[0m\n",
      "Requirement already satisfied: xgboost in /opt/anaconda/envs/Python3/lib/python3.6/site-packages (1.2.0)\n",
      "Requirement already satisfied: numpy in /opt/anaconda/envs/Python3/lib/python3.6/site-packages (from xgboost) (1.18.5)\n",
      "Requirement already satisfied: scipy in /opt/anaconda/envs/Python3/lib/python3.6/site-packages (from xgboost) (1.5.0)\n",
      "\u001b[1m\n",
      "         .:::.     .::.       \n",
      "        ....yy:    .yy.       \n",
      "        :.  .yy.    y.        \n",
      "             :y:   .:         \n",
      "             .yy  .:          \n",
      "              yy..:           \n",
      "              :y:.            \n",
      "              .y.             \n",
      "             .:.              \n",
      "        ....:.                \n",
      "        :::.                  \n",
      "\u001b[0;33m\n",
      "• Project files and data should be stored in /project. This is shared among everyone\n",
      "  in the project.\n",
      "• Personal files and configuration should be stored in /home/faculty.\n",
      "• Files outside /project and /home/faculty will be lost when this server is terminated.\n",
      "• Create custom environments to setup your servers reproducibly.\n",
      "\u001b[0m\n"
     ]
    },
    {
     "name": "stdout",
     "output_type": "stream",
     "text": [
      "Collecting bert-serving-server\n",
      "  Using cached bert_serving_server-1.10.0-py3-none-any.whl (61 kB)\n",
      "Requirement already satisfied: six in /opt/anaconda/envs/Python3/lib/python3.6/site-packages (from bert-serving-server) (1.15.0)\n",
      "Processing /home/faculty/.cache/pip/wheels/79/c1/b2/b6fc2647f693a084da25e1d31328ab3dbb565cc58fea37e973/GPUtil-1.4.0-py3-none-any.whl\n",
      "Requirement already satisfied: pyzmq>=17.1.0 in /opt/anaconda/envs/Python3/lib/python3.6/site-packages (from bert-serving-server) (19.0.1)\n",
      "Requirement already satisfied: termcolor>=1.1 in /opt/anaconda/envs/Python3/lib/python3.6/site-packages (from bert-serving-server) (1.1.0)\n",
      "Requirement already satisfied: numpy in /opt/anaconda/envs/Python3/lib/python3.6/site-packages (from bert-serving-server) (1.18.5)\n",
      "Installing collected packages: GPUtil, bert-serving-server\n",
      "Successfully installed GPUtil-1.4.0 bert-serving-server-1.10.0\n",
      "\u001b[1m\n",
      "         .:::.     .::.       \n",
      "        ....yy:    .yy.       \n",
      "        :.  .yy.    y.        \n",
      "             :y:   .:         \n",
      "             .yy  .:          \n",
      "              yy..:           \n",
      "              :y:.            \n",
      "              .y.             \n",
      "             .:.              \n",
      "        ....:.                \n",
      "        :::.                  \n",
      "\u001b[0;33m\n",
      "• Project files and data should be stored in /project. This is shared among everyone\n",
      "  in the project.\n",
      "• Personal files and configuration should be stored in /home/faculty.\n",
      "• Files outside /project and /home/faculty will be lost when this server is terminated.\n",
      "• Create custom environments to setup your servers reproducibly.\n",
      "\u001b[0m\n",
      "Collecting bert-serving-client\n",
      "  Using cached bert_serving_client-1.10.0-py2.py3-none-any.whl (28 kB)\n",
      "Requirement already satisfied: pyzmq>=17.1.0 in /opt/anaconda/envs/Python3/lib/python3.6/site-packages (from bert-serving-client) (19.0.1)\n",
      "Requirement already satisfied: numpy in /opt/anaconda/envs/Python3/lib/python3.6/site-packages (from bert-serving-client) (1.18.5)\n",
      "Installing collected packages: bert-serving-client\n",
      "Successfully installed bert-serving-client-1.10.0\n"
     ]
    }
   ],
   "source": [
    "#Loading key libraries for later analysis\n",
    "import pandas as pd\n",
    "import numpy as np\n",
    "import matplotlib.pyplot as plt\n",
    "import seaborn as sns\n",
    "import re\n",
    "import time\n",
    "pd.set_option('max_colwidth', 1000)\n",
    "!pip install spacy\n",
    "from collections import Counter\n",
    "from sklearn.feature_extraction.text import CountVectorizer,TfidfVectorizer\n",
    "!pip install gensim\n",
    "import gensim\n",
    "from gensim.models.word2vec import Word2Vec\n",
    "from sklearn.svm import SVC\n",
    "from sklearn.model_selection import cross_val_score, cross_validate,StratifiedKFold,GridSearchCV,train_test_split\n",
    "from sklearn.metrics import confusion_matrix, classification_report,mean_squared_error,accuracy_score\n",
    "!pip install xgboost\n",
    "import xgboost as xgb\n",
    "import sklearn   \n",
    "import scipy.io as scio\n",
    "from sklearn.ensemble import RandomForestClassifier\n",
    "from sklearn.utils import shuffle\n",
    "from sklearn.base import BaseEstimator, RegressorMixin\n",
    "import os\n",
    "!pip install bert-serving-server \n",
    "!pip install bert-serving-client\n",
    "import functions\n",
    "from gensim.scripts.glove2word2vec import glove2word2vec"
   ]
  },
  {
   "cell_type": "code",
   "execution_count": 30,
   "metadata": {},
   "outputs": [],
   "source": [
    "#Read in bank transactions\n",
    "df = pd.read_csv(r'df_postfeat_no_direct_FINAL.csv',low_memory=False,encoding='latin1')\n",
    "df1 = pd.read_csv(r'df_post_weak_label_updated.csv',low_memory=False,encoding='latin1')"
   ]
  },
  {
   "cell_type": "code",
   "execution_count": 6,
   "metadata": {},
   "outputs": [],
   "source": [
    "#External resources\n",
    "stopwords = pd.read_csv(r'stopwords.csv',low_memory=False,encoding='latin1')\n",
    "abb = pd.read_csv(r'normalisation.csv',low_memory=False,encoding='latin1')"
   ]
  },
  {
   "cell_type": "code",
   "execution_count": 4,
   "metadata": {},
   "outputs": [
    {
     "data": {
      "text/plain": [
       "'/project'"
      ]
     },
     "execution_count": 4,
     "metadata": {},
     "output_type": "execute_result"
    }
   ],
   "source": [
    "import os\n",
    "os.getcwd()"
   ]
  },
  {
   "cell_type": "markdown",
   "metadata": {},
   "source": [
    " "
   ]
  },
  {
   "cell_type": "markdown",
   "metadata": {},
   "source": [
    "## 1. Text Preprocessing"
   ]
  },
  {
   "cell_type": "code",
   "execution_count": 31,
   "metadata": {},
   "outputs": [],
   "source": [
    "#Stopword and special character Removals\n",
    "functions.removals(df,stopwords,'description')\n",
    "df.description = df.description.replace('\\s+', ' ', regex=True)\n",
    "df = df[df['description'] != '']\n",
    "\n",
    "#Text Normalisation\n",
    "functions.abbrivations(df,'description')\n",
    "\n",
    "#Tokenisation and Lemmatisation\n",
    "df.loc[:,'description'] = functions.tokenise_lemmatise(df,'description')\n",
    "\n",
    "# count the number of tokens of each description\n",
    "df['token_length'] = [len(token) for token in df.description]\n",
    "df = df[df['token_length']!=0].reset_index(drop=True)"
   ]
  },
  {
   "cell_type": "markdown",
   "metadata": {},
   "source": [
    "## 2. Prepare Final Dataset"
   ]
  },
  {
   "cell_type": "markdown",
   "metadata": {},
   "source": [
    "### 2.1 Exploration"
   ]
  },
  {
   "cell_type": "code",
   "execution_count": 35,
   "metadata": {},
   "outputs": [],
   "source": [
    "#Transfer the weak labels to the final dataframe\n",
    "df['weak_label'] = df1['weak_label']"
   ]
  },
  {
   "cell_type": "code",
   "execution_count": 36,
   "metadata": {},
   "outputs": [
    {
     "data": {
      "image/png": "[encoded data removed]",
      "text/plain": [
       "<Figure size 576x288 with 1 Axes>"
      ]
     },
     "metadata": {
      "needs_background": "light"
     },
     "output_type": "display_data"
    }
   ],
   "source": [
    "#Exploration of the final dataframe: distribution of labelled and unlabelled transactions\n",
    "a1 = len(df[df['weak_label']!=0])/len(df)*100\n",
    "a2 = len(df[df['weak_label']==0])/len(df)*100\n",
    "X = [a1,a2]\n",
    "\n",
    "plt.figure(figsize=(8,4))\n",
    "\n",
    "plt.bar(range(2), X)\n",
    "plt.xticks(range(2), ['Labeled (Category - 1-16)','Unlabeled (Category - 0)'])\n",
    "plt.title(\"Percentage of Labeled and Unlabeled Transactions\")\n",
    "plt.savefig(r'Percentage of Labeled and Unlabeled Transactions(after semi).png',bbox_inches='tight')"
   ]
  },
  {
   "cell_type": "code",
   "execution_count": 37,
   "metadata": {
    "scrolled": true
   },
   "outputs": [
    {
     "name": "stdout",
     "output_type": "stream",
     "text": [
      "The number of labels by category:\n",
      "0     106727\n",
      "1        915\n",
      "2         41\n",
      "3       1366\n",
      "4         30\n",
      "5         68\n",
      "6        219\n",
      "7        816\n",
      "8        211\n",
      "9         42\n",
      "10       330\n",
      "11      1096\n",
      "12        62\n",
      "13      2370\n",
      "14        50\n",
      "15         8\n",
      "16        18\n",
      "Name: weak_label, dtype: int64\n"
     ]
    },
    {
     "data": {
      "image/png": "[encoded data removed]",
      "text/plain": [
       "<Figure size 576x288 with 1 Axes>"
      ]
     },
     "metadata": {
      "needs_background": "light"
     },
     "output_type": "display_data"
    }
   ],
   "source": [
    "#Exploration of final dataframe: Distribution of each class in the final dataframe\n",
    "print('The number of labels by category:')\n",
    "print(df['weak_label'].value_counts().sort_index())\n",
    "a1 = df['weak_label'].value_counts().sort_index()\n",
    "X = [(x/(df['weak_label'].notnull().sum())) for x in a1 ]\n",
    "\n",
    "plt.figure(figsize=(8,4))\n",
    "\n",
    "plt.bar(range(17), X)\n",
    "plt.xticks(range(17), list(range(17)))\n",
    "plt.title(\"Percentage of Each Category in Bank Transactions By Weak Labels\")\n",
    "plt.savefig(r'Percentage of Each Category in Bank Transactions By Weak Labels.png',bbox_inches='tight')"
   ]
  },
  {
   "cell_type": "markdown",
   "metadata": {},
   "source": [
    "### 2.2 Create Final dataframe"
   ]
  },
  {
   "cell_type": "code",
   "execution_count": 38,
   "metadata": {},
   "outputs": [],
   "source": [
    "final_df = df.loc[:,['amount', 'balance', 'description', 'debit_binary', 'foreign_binary', 'financing_binary', 'account_binary', 'hmrc_vat',\n",
    "       'hmrc_corp', 'hmrc_paye', 'token_length','week_of_month_2','week_of_month_3','week_of_month_4','weak_label']]"
   ]
  },
  {
   "cell_type": "markdown",
   "metadata": {},
   "source": [
    "### 2.3 Undersampling"
   ]
  },
  {
   "cell_type": "markdown",
   "metadata": {},
   "source": [
    "Because we've observed that unlabelled transaction is more than 90% of overall transactions and in order to improve model performance we could undersample the unlabelled to form a more balanced dataframe"
   ]
  },
  {
   "cell_type": "code",
   "execution_count": 40,
   "metadata": {},
   "outputs": [],
   "source": [
    "#Number of labelled transactions\n",
    "l = final_df[final_df.weak_label != 0]\n",
    "\n",
    "def undersamp_per(df1,num,p):\n",
    "    #Choose the amount of unlabelled transactions\n",
    "    u = df1[df1.weak_label == 0].sample(round((num/(1-p))*p),random_state=42)\n",
    "    #match the two together: labelled and unlabelled\n",
    "    f_p = pd.concat([l,u])\n",
    "    return f_p\n",
    "\n",
    "#Form a final dataframe that labelled and unlabelled: 40:60\n",
    "df_4 = undersamp_per(final_df,len(l),0.4)"
   ]
  },
  {
   "cell_type": "code",
   "execution_count": 41,
   "metadata": {},
   "outputs": [
    {
     "data": {
      "text/plain": [
       "Int64Index([    11,     21,     26,     29,     35,     36,     42,     60,\n",
       "                70,     75,\n",
       "            ...\n",
       "             63107,   2708,  60899,   7233, 101412,  16402,   8617,  97329,\n",
       "             16487,  72665],\n",
       "           dtype='int64', length=12737)"
      ]
     },
     "execution_count": 41,
     "metadata": {},
     "output_type": "execute_result"
    }
   ],
   "source": [
    "df_4.index"
   ]
  },
  {
   "cell_type": "code",
   "execution_count": 42,
   "metadata": {},
   "outputs": [
    {
     "data": {
      "image/png": "[encoded data removed]",
      "text/plain": [
       "<Figure size 576x288 with 1 Axes>"
      ]
     },
     "metadata": {
      "needs_background": "light"
     },
     "output_type": "display_data"
    }
   ],
   "source": [
    "#Plot the graph after undersampling: unlabelled: labelled\n",
    "a1 = len(df_4[df_4['weak_label']!=0])/len(df_4)*100\n",
    "a2 = len(df_4[df_4['weak_label']==0])/len(df_4)*100\n",
    "X = [a1,a2]\n",
    "\n",
    "plt.figure(figsize=(8,4))\n",
    "\n",
    "plt.bar(range(2), X)\n",
    "plt.xticks(range(2), ['Labeled (Category - 1-16)','Unlabeled (Category - 0)'])\n",
    "plt.title(\"Percentage of Labeled and Unlabeled Transactionsn after Undersampling\")\n",
    "plt.savefig(r'L U ratio after undersampling.png',bbox_inches='tight')"
   ]
  },
  {
   "cell_type": "code",
   "execution_count": 43,
   "metadata": {},
   "outputs": [
    {
     "name": "stdout",
     "output_type": "stream",
     "text": [
      "The number of labels by category:\n",
      "0     5095\n",
      "1      915\n",
      "2       41\n",
      "3     1366\n",
      "4       30\n",
      "5       68\n",
      "6      219\n",
      "7      816\n",
      "8      211\n",
      "9       42\n",
      "10     330\n",
      "11    1096\n",
      "12      62\n",
      "13    2370\n",
      "14      50\n",
      "15       8\n",
      "16      18\n",
      "Name: weak_label, dtype: int64\n"
     ]
    },
    {
     "data": {
      "image/png": "[encoded data removed]",
      "text/plain": [
       "<Figure size 576x288 with 1 Axes>"
      ]
     },
     "metadata": {
      "needs_background": "light"
     },
     "output_type": "display_data"
    }
   ],
   "source": [
    "#check distributino of final dataframe\n",
    "print('The number of labels by category:')\n",
    "print(df_4['weak_label'].value_counts().sort_index())\n",
    "a1 = df_4['weak_label'].value_counts().sort_index()\n",
    "X = [(x/(df_4['weak_label'].notnull().sum())) for x in a1 ]\n",
    "\n",
    "plt.figure(figsize=(8,4))\n",
    "\n",
    "plt.bar(range(17), X)\n",
    "plt.xticks(range(17), list(range(17)))\n",
    "plt.title(\"Percentage of Each Category in Bank Transactions By Weak Labels\")\n",
    "plt.show()"
   ]
  },
  {
   "cell_type": "markdown",
   "metadata": {},
   "source": [
    "### 2.4 Train Test Split"
   ]
  },
  {
   "cell_type": "code",
   "execution_count": 44,
   "metadata": {},
   "outputs": [],
   "source": [
    "#Get the X,y in final dataframe\n",
    "X = df_4.iloc[:,:-1]\n",
    "y = df_4.iloc[:,-1]"
   ]
  },
  {
   "cell_type": "code",
   "execution_count": 45,
   "metadata": {},
   "outputs": [],
   "source": [
    "#Train, testing dataset split\n",
    "X_train, X_test, y_train, y_test = train_test_split(X, y, test_size=0.2, random_state=42)"
   ]
  },
  {
   "cell_type": "code",
   "execution_count": 46,
   "metadata": {},
   "outputs": [],
   "source": [
    "train_indices = X_train.index\n",
    "test_indices = X_test.index"
   ]
  },
  {
   "cell_type": "markdown",
   "metadata": {},
   "source": [
    "## 3. Word Representation"
   ]
  },
  {
   "cell_type": "code",
   "execution_count": 47,
   "metadata": {},
   "outputs": [],
   "source": [
    "#join descriptions of the training data\n",
    "X_train_des = [' '.join(x) for x in X_train['description']]"
   ]
  },
  {
   "cell_type": "markdown",
   "metadata": {},
   "source": [
    "### 3.1 Frequency-based Methods"
   ]
  },
  {
   "cell_type": "code",
   "execution_count": 48,
   "metadata": {},
   "outputs": [],
   "source": [
    "svc = SVC(random_state=200)\n",
    "kfold = StratifiedKFold(n_splits=5, shuffle=True, random_state=200)\n",
    "\n",
    "#Check the optimal nummber of n-grams\n",
    "def count_vect(df,x):\n",
    "    ngram = list()\n",
    "    for n in range(1,6):\n",
    "        #form mixing n-gram\n",
    "        if x >0 :\n",
    "            bow =  CountVectorizer(ngram_range=(1,n))\n",
    "            tfidf=  TfidfVectorizer(ngram_range=(1,n))\n",
    "            i = (1,n)\n",
    "        #form single n-gram\n",
    "        else:\n",
    "            bow =  CountVectorizer(ngram_range=(n,n))\n",
    "            tfidf=  TfidfVectorizer(ngram_range=(n,n))\n",
    "            i = (n,n)\n",
    "            \n",
    "        tfidf_matrix = tfidf.fit_transform(df)\n",
    "        bow_matrix = bow.fit_transform(df)\n",
    "        tfidf_cv = cross_val_score(svc, tfidf_matrix, y_train, cv=kfold, scoring='f1_macro').mean()\n",
    "        bow_cv = cross_val_score(svc, bow_matrix, y_train, cv=kfold, scoring='f1_macro').mean()\n",
    "        print('n-gram :{}, Bag of Words F1 Score: {},TF-iDF F1 Score: {} '.format(i,bow_cv,tfidf_cv))\n",
    "        ngram.append({'n': n, 'score': tfidf_cv, 'type': 'TF-iDF'})\n",
    "        ngram.append({'n': n, 'score': bow_cv, 'type': 'Bag of Words'})\n",
    "    return pd.DataFrame(ngram)"
   ]
  },
  {
   "cell_type": "code",
   "execution_count": 49,
   "metadata": {},
   "outputs": [
    {
     "name": "stdout",
     "output_type": "stream",
     "text": [
      "n-gram :(1, 1), Bag of Words F1 Score: 0.8686003789159564,TF-iDF F1 Score: 0.8636055392294093 \n",
      "n-gram :(1, 2), Bag of Words F1 Score: 0.8691464793491217,TF-iDF F1 Score: 0.8699559838755644 \n",
      "n-gram :(1, 3), Bag of Words F1 Score: 0.8686656275119005,TF-iDF F1 Score: 0.867564150404857 \n",
      "n-gram :(1, 4), Bag of Words F1 Score: 0.8670711965332126,TF-iDF F1 Score: 0.8656821446548871 \n",
      "n-gram :(1, 5), Bag of Words F1 Score: 0.8597541027329203,TF-iDF F1 Score: 0.8632766255080947 \n"
     ]
    }
   ],
   "source": [
    "#check f1 score of mixing n-grams\n",
    "n_gram_1 = count_vect(X_train_des,1)"
   ]
  },
  {
   "cell_type": "code",
   "execution_count": 50,
   "metadata": {},
   "outputs": [
    {
     "name": "stdout",
     "output_type": "stream",
     "text": [
      "n-gram :(1, 1), Bag of Words F1 Score: 0.8686003789159564,TF-iDF F1 Score: 0.8636055392294093 \n",
      "n-gram :(2, 2), Bag of Words F1 Score: 0.8372357223693385,TF-iDF F1 Score: 0.8404366792662475 \n",
      "n-gram :(3, 3), Bag of Words F1 Score: 0.6955604374115207,TF-iDF F1 Score: 0.6961536605949896 \n",
      "n-gram :(4, 4), Bag of Words F1 Score: 0.5138674452026188,TF-iDF F1 Score: 0.5185291419478665 \n",
      "n-gram :(5, 5), Bag of Words F1 Score: 0.4497132904439507,TF-iDF F1 Score: 0.4506423133641094 \n"
     ]
    }
   ],
   "source": [
    "#check f1 score of single n-grams\n",
    "n_gram_2 = count_vect(X_train_des,0)"
   ]
  },
  {
   "cell_type": "code",
   "execution_count": 51,
   "metadata": {},
   "outputs": [],
   "source": [
    "#plot the graph of n-grams and its f1 score\n",
    "def plot_count(df):\n",
    "    plt.figure(figsize=(10,4))\n",
    "    a= df[df['type']=='Bag of Words']\n",
    "    b= df[df['type']=='TF-iDF']\n",
    "\n",
    "    #Plot line graphs\n",
    "    plt.plot(a['n'], a['score'], label= \"Bag of Words\",color='steelblue',linewidth=3)\n",
    "    plt.plot(b['n'], b['score'], label=\"TF-IDF\",color='skyblue',linewidth=3)\n",
    "\n",
    "    #Format plot\n",
    "    plt.xlabel('n-grams')\n",
    "    plt.ylabel('F1 Score')\n",
    "    plt.title(\"BoW and TF-iDF Performance by n-gram values\")\n",
    "    plt.legend()\n",
    "    plt.show()"
   ]
  },
  {
   "cell_type": "code",
   "execution_count": 52,
   "metadata": {},
   "outputs": [
    {
     "data": {
      "image/png": "[encoded data removed]",
      "text/plain": [
       "<Figure size 720x288 with 1 Axes>"
      ]
     },
     "metadata": {
      "needs_background": "light"
     },
     "output_type": "display_data"
    }
   ],
   "source": [
    "#mixed n-grams plot\n",
    "plot_count(n_gram_1)"
   ]
  },
  {
   "cell_type": "code",
   "execution_count": 53,
   "metadata": {},
   "outputs": [],
   "source": [
    "svc = SVC(random_state=200)\n",
    "kfold = StratifiedKFold(n_splits=5, shuffle=True, random_state=200)\n",
    "\n",
    "#check the maximum feature number for optimal model and its n-gram\n",
    "def max_feat(index,model,model_name):\n",
    "    vec =  model(ngram_range=index)\n",
    "    vec_matrix = vec.fit_transform(X_train_des)\n",
    "    #get the total number of features in the model without any deductions\n",
    "    a = vec_matrix.shape\n",
    "    \n",
    "    #generate f1 scors with different maxmium number of features \n",
    "    vec_result = list()\n",
    "    for n in range(500, a[1], 1000):\n",
    "        vec = model(ngram_range=index,max_features=n)\n",
    "        vec_matrix = vec.fit_transform(X_train_des)\n",
    "        score_countVec = cross_val_score(svc, vec_matrix, y_train, cv=kfold, scoring='f1_macro').mean()\n",
    "\n",
    "        vec_result.append({'max_feature': n,  'score': score_countVec})\n",
    "    print('finished')\n",
    "    \n",
    "    #plot the graph of different f1 score with different max features\n",
    "    vec_result_df = pd.DataFrame(vec_result)\n",
    "    plt.figure(figsize=(10,4))\n",
    "    #Plot line graphs\n",
    "    plt.plot(vec_result_df['max_feature'], vec_result_df['score'],color='steelblue',linewidth=3)\n",
    "    #Format plot\n",
    "    plt.xlabel('Number of features')\n",
    "    plt.ylabel('F1 Score')\n",
    "    plt.title(\"Maximum Number of Features in {}\".format(model_name))\n",
    "    plt.show()\n",
    "    \n",
    "    max_score = vec_result_df['score'].max()\n",
    "    a = vec_result_df[vec_result_df['score'] == max_score]\n",
    "    a = a.iloc[0]['max_feature']\n",
    "    print('maximum feature is {}'.format(a))"
   ]
  },
  {
   "cell_type": "code",
   "execution_count": 54,
   "metadata": {},
   "outputs": [
    {
     "name": "stdout",
     "output_type": "stream",
     "text": [
      "finished\n"
     ]
    },
    {
     "data": {
      "image/png": "[encoded data removed]",
      "text/plain": [
       "<Figure size 720x288 with 1 Axes>"
      ]
     },
     "metadata": {
      "needs_background": "light"
     },
     "output_type": "display_data"
    },
    {
     "name": "stdout",
     "output_type": "stream",
     "text": [
      "maximum feature is 9500.0\n"
     ]
    }
   ],
   "source": [
    "#plot the graph with the optimal model and n-gram\n",
    "max_feat((1,2),TfidfVectorizer,'TF-iDF')"
   ]
  },
  {
   "cell_type": "code",
   "execution_count": 57,
   "metadata": {},
   "outputs": [],
   "source": [
    "#Form the final model for frequency-based models\n",
    "tf = TfidfVectorizer(ngram_range=(1,2),max_features=9500)\n",
    "tf_matrix = tf.fit_transform(X_train_des)"
   ]
  },
  {
   "cell_type": "markdown",
   "metadata": {},
   "source": [
    "### 3.2 Model-based Methods"
   ]
  },
  {
   "cell_type": "markdown",
   "metadata": {},
   "source": [
    "**3.2.1 Word2vec: Self-trained**"
   ]
  },
  {
   "cell_type": "code",
   "execution_count": 37,
   "metadata": {},
   "outputs": [],
   "source": [
    "#Turn description to list for modelling\n",
    "X_train_list = X_train['description'].tolist()"
   ]
  },
  {
   "cell_type": "code",
   "execution_count": 38,
   "metadata": {},
   "outputs": [],
   "source": [
    "#load and save the model\n",
    "word2vec_self_model = Word2Vec(X_train_list, size=300, window=5, min_count=2, iter=100)\n",
    "\n",
    "word2vec_self_model.save(r'word2vec_self.w2v')\n",
    "word2vec_self_model.wv.save_word2vec_format(r'word2vec_self.bin',binary=False)\n",
    "\n",
    "#reload the model\n",
    "word2vec_self = word2vec_self_model.wv.load_word2vec_format(r'word2vec_self.bin',binary=False)"
   ]
  },
  {
   "cell_type": "code",
   "execution_count": 39,
   "metadata": {},
   "outputs": [
    {
     "name": "stderr",
     "output_type": "stream",
     "text": [
      "/opt/anaconda/envs/Python3/lib/python3.6/site-packages/ipykernel/__main__.py:10: RuntimeWarning: invalid value encountered in true_divide\n"
     ]
    },
    {
     "name": "stdout",
     "output_type": "stream",
     "text": [
      "3.50s used for generating word embeddings for top 3000 transaction description\n",
      "14.12s used for generating word embeddings for top 6000 transaction description\n",
      "32.72s used for generating word embeddings for top 9000 transaction description\n",
      "Total time used:45.46s\n"
     ]
    }
   ],
   "source": [
    "#vectorise training descriptions using self-trained tokens \n",
    "def w2v_vectorise(texts, word2vec_model):\n",
    "        i = 0\n",
    "        index2word_set = set(word2vec_model.index2word)\n",
    "        description_vector = np.zeros((word2vec_model.vector_size))\n",
    "        for text in texts:\n",
    "                if text in index2word_set:\n",
    "                        description_vector = np.add(description_vector, word2vec_model[text])\n",
    "                        i += 1\n",
    "        text_vector = np.divide(description_vector, i)\n",
    "        return text_vector\n",
    "\n",
    "startTime = time.time()\n",
    "vector_list = []\n",
    "i = 0\n",
    "for texts in X_train_list:\n",
    "        i += 1\n",
    "        if i % 3000 == 0: \n",
    "                print('%.2fs used for generating word embeddings for top %d transaction description' %(time.time()-startTime,i))\n",
    "        vector_list.append(w2v_vectorise(texts, word2vec_self) )\n",
    "        word2vec_self_matrix= np.array(vector_list)\n",
    "        \n",
    "print('Total time used:%.2fs' % (time.time() - startTime) )"
   ]
  },
  {
   "cell_type": "code",
   "execution_count": 40,
   "metadata": {
    "scrolled": true
   },
   "outputs": [],
   "source": [
    "#Form the matrix of training descriptions for comparison\n",
    "word2vec_self_matrix[np.isnan(word2vec_self_matrix)] = 0\n",
    "word2vec_self_matrix = pd.DataFrame(word2vec_self_matrix)"
   ]
  },
  {
   "cell_type": "markdown",
   "metadata": {},
   "source": [
    " "
   ]
  },
  {
   "cell_type": "markdown",
   "metadata": {},
   "source": [
    "**3.2.2 Word2Vec: Google news pre-trained**"
   ]
  },
  {
   "cell_type": "code",
   "execution_count": 44,
   "metadata": {},
   "outputs": [
    {
     "data": {
      "text/plain": [
       "300"
      ]
     },
     "execution_count": 44,
     "metadata": {},
     "output_type": "execute_result"
    }
   ],
   "source": [
    "#load the pre-trained model\n",
    "word2vec_pre_model = gensim.models.KeyedVectors.load_word2vec_format(r'GoogleNews-vectors-negative300.bin.gz', binary=True)  \n",
    "word2vec_pre_model.vector_size"
   ]
  },
  {
   "cell_type": "code",
   "execution_count": 45,
   "metadata": {
    "scrolled": true
   },
   "outputs": [
    {
     "name": "stdout",
     "output_type": "stream",
     "text": [
      "Percentage of distinct out of vocabulary words: 25.35%\n",
      "Total percentage of out of vocabulary words in the word set: 10.28%\n",
      "{'iantr', 'aquaa', 'oofm', 'expresss', 'bespoken', 'systemsaving', 'estfanos', 'dinv', 'tsgncard', 'mallcard', 'packagi', 'balacenko', 'paymax', 'douy', 'arrgmt', 'sacat', 'aigll', 'uverjyb', 'mercard', 'aevx', 'cchelp', 'rochd', 'colec', 'metroweld', 'fmditltd', 'qbsz', 'pfdd', 'wadds', 'irfp', 'gladki', 'triptease', 'peterbor', 'mmcltd', 'westereemsw', 'whillis', 'gadbrook', 'londonr', 'vhypw', 'vyu', 'rbluespirelim', 'vudsri', 'mksmiles', 'birminghqueensway', 'mzfp', 'xtfcky', 'bdxehi', 'dhutcheson', 'ykpqb', 'hassengate', 'kr+a', 'fgchs', 'rtyfp', 'pzem', 'coachwo', 'wrightsure', 'hfpqcdz', 'ekw', 'chingcard', 'advancinglcard', 'okolidoh', 'noake', 'taxret', 'place\\\\piccadilly', 'yhjidxa', 'ritherdon', 'meilic', 'ifmq', 'helppay', 'rebkanpr', 'allw', 'rzq', 'qpkx', 'wcard', 'scoloan', 'xqixae', 'tiflex', 'myw', 'kareplusmk', 'ocall', 'mfbpa', 'hxy', 'ybcbb', 'lcikzs', 'limitedcard', 'creativecard', 'xferusd', 'dloan', 'kjvp', 'partnershipinv', 'bfwm', 'sqtc', 'swinv', 'camsterdam', 'editi', 'cardcardiff', 'amwarkuplimited', 'countecard', 'dagia', 'proapollo', 'acfcwcard', 'whymant', 'taxagility', 'brooksbrothersuk', 'aqpv', 'aeat', 'hdhebjr', 'ltcpa', 'samhungu', 'nonref', 'exps', 'rjzfri', 'yapu', 'invcard', 'wwwopennshutcouk', 'ralphix', 'zxg', 'trouvay', 'facebk', 'storafp', 'hayllar', 'distribuz', 'lionweld', 'ethosenergy', 'ddfp', 'milfords', 'e+', 'dividen', 'crruk', 'firmcard', 'fedexrefund', 'hardbase', 'jbfqc', 'keizergracht', 'gsyourefurn', 'zepmw', 'boxfusion', 'lmeridian', 'breakfastcard', 'esnax', 'zhfd', 'dzua', 'monsens', 'bancila', 'semjntke', 'netmonkeys', 'nxrm', 'elberry', 'dysomettrick', 'homebrands', 'cognosis', 'tipree', 'cotax', 'landscapi', 'gowsaleya', 'okhz', 'johnraymond', 'oynt', 'gqovbfp', 'geosakconsultltd', 'hotelmanchester', 'loanfp', 'nethe', 'rrej', 'acqfwcard', 'buildingsteadfa', 'xxuahi', 'benefbib', 'freshminds', 'osborncard', 'xmtbew', 'ctzx', 'hanzt', 'ltdcard', 'stratilexcontent', 'chocleys', 'kqk', 'directcard', 'ponents', 'hassockseye', 'sobencc', 'refridgerat', 'coversure', 'gamemine', 'ukstripe', 'wixxxxxxxxxxxx', 'digitrol', 'gscasacare', 'rfre', 'prxevuawq', 'elmmarketing', 'mundeep', 'togetherh', 'gswilliammor', 'shipco', 'candesic', 'kobusch', 'hydrobolt', 'powertools', 'travisperkin', 'uhgd', 'allinoil', 'nxfu', 'stainlessuk', 'ecasub', 'carequbicle', 'renaiss', 'fibrecrm', 'griffithseps', 'navcar', 'eileens', 'plcard', 'lplsq', 'nikit', 'ehgl', 'ultramag', 'ubecard', 'uquz', 'vhyskfp', 'hertfo', 'freshm', 'adko', 'francotyp', 'licard', 'lhzqvpkyc', 'caterking', 'repaym', 'scrapmetal', 'ij+g', 'quvhnmqv', 'wvdcrlh', 'exactal', 'ledwood', 'zyvabzvr', 'owfa', 'gocardless', 'onlcard', 'chettleb', 'refurbis', 'tytytour', 'tqp', 'fitzmaurictca', 'headfo', 'bngbzbv', 'mackinno', 'ytf', 'mhrdcggsr', 'ohpp', 'ebacard', 'bcard', 'mcewan', 'ffezc', 'brcbb', 'gaskells', 'kcilv', 'oatein', 'highnet', 'qonqests', 'nrbs', 'engineerin', 'zbtin', 'vesscoengine', 'servicesee', 'keepi', 'payecard', 'kdgyg', 'interparke', 'eazyprint', 'msbill', 'ebankgo', 'oskw', 'oysh', 'mccausland', 'airportcard', 'conncard', 'akqfvphc', 'certsure', 'faold', 'hbptxd', 'aphp', 'ycbnhioj', 'paperstone', 'kxxc', 'americane', 'salescard', 'lpno', 'izoepw', 'centili', 'streecard', 'cardnet', 'hwuq', 'jido', 'uczaipwct', 'qorh', 'chichest', 'ci\\\\sw', 'amznmktplacecard', 'wellbei', 'clearleft', 'besgrowthst', 'vsvb', 'videcon', 'sarunds', 'bmzqrpl', 'ucard', 'exanhakxt', 'bbgsfjh', 'edyn', 'ybbpi', 'bsobenco', 'cardiffcardiff', 'whitstablebay', 'ppoint', 'adoh', 'countyha', 'orbtalk', 'ytx', 'saffp', 'sarahdineenopticia', 'chrge', 'ppdl', 'bycard', 'daybe', 'alcumus', 'lexadon', 'jmgame', 'hrfjcoate', 'rechange', 'mhcard', 'assessman', 'stngrangemouth', 'odriscoll', 'consultanwhe', 'utiliti', 'dleane', 'rvices', 'apqwmn', 'bnphzqq', 'trendwatchin', 'puricare', 'yuzt', 'vcqj', 'talentjj', 'aoqcobnk', 'hubim', 'r+d', 'oxkt', 'fewnsvl', 'brynwell', 'liternlt', 'pymtbfp', 'semjo', 'servr', 'vrate', 'soben', 'carltonleisure', 'aenhmjfgkc', 'freshmind', 'gniot', 'hrflcapay', 'kiec', 'wpam', 'limitefrom', 'hbsaeu', 'sabj', 'roadw', 'optometr', 'ougb', 'hdcpxxb', 'pliance', 'baldwinandco', 'ctxxxxxxxxxxxx', 'cbbpi', 'gagneja', 'npebble', 'xxze', 'hemispher', 'finishinfp', 'opbt', 'bbjkptj', 'heyfriendfp', 'rheeney', 'blackcircles', 'ctccon', 'zurt', 'tradegecko', 'chesford', 'dkau', 'hamail', 'everyda', 'kochanowicz', 'nheritage', 'actavo', 'stryczkos', 'miltonkeynes', 'trnsfer', 'cavenay', 'coffeecard', 'canva', 'stauntonaccount', 'prodek', 'nmarina', 'furnitur', 'forgn', 'managementinv', 'orrfnb', 'gsgenerallee', 'oponeo', 'rbiox', 'motonovo', 'bbhxvrc', 'onlinecard', 'sumup', 'rbq', 'totrain', 'grrenage', 'dacrylate', 'r+c', 'uzk', 'crrpvb', 'suhttpswww', 'bysel', 'xyo', 'bqch', 'ta+dj', 'izettle', 'taxag', 'nnatural', 'jlxxjva', 'wvgn', 'lmcp', 'ttees', 'street\\\\hounslow\\\\tw', 'zmplx', 'chewter', 'kflfj', 'tarbed', 'oshaughnessy', 'symmond', 'brethertonexpenses', 'bierkowska', 'jmfms', 'zatu', 'vijzelstraat', 'eyub', 'zwv', 'llink', 'bbgrnlq', 'labasco', 'mgcard', 'westelmrtc', 'netmonkey', 'httpswww', 'nlazy', 'sainsby', 'anthonyhoff', 'ltdinv', 'evuna', 'aprlkbkb', 'seyla', 'storescard', 'scotlifeemrd', 'walthamforestcard', 'fdlmnmjx', 'rupendran', 'ncle', 'niwg', 'liminv', 'asattei', '\\\\hounslow\\\\tw', 'maxxiafin', 'nnorthwood', 'oibrhhc', 'delro', 'avpnnkwy', 'arrowbuild', 'hahanzsx', 'chawanzwa', 'readstone', 'wework', 'eyega', 'xaph', 'wgawoh', 'ducroq', 'cabvision', 'kingslodge', 'gspermanexs', 'fairfx', 'dwgs', 'fonderico', 'wbbckt', 'mailcard', 'evanwood', 'ionos', 'jumptec', 'lad+turn', 'birminghambirmingham', 'fsprg', 'viwhitewood', 'servfp', 'standardcard', 'renr', 'bcnnxkd', 'qccg', 'rtsnutrition', 'excitech', 'rshtio', 'zxuehm', 'nqjmd', 'notemac', 'tailsco', 'mainv', 'lasuitew', 'earlsgate', 'mocard', 'consultan', 'ppzch', 'contdenholm', 'kjyxdb', 'consultinginvoice', 'lifabco', 'networkmyclu', 'parkingcard', 'gallerloan', 'flcard', 'rilqbi', 'wdq', 'hotelshighl', 'dbdtpda', 'growthsgrowth', 'restaurantsilv', 'partnershi', 'vessco', 'yne', 'rvipond', 'angliacard', 'hcqfvoao', 'swzgd', 'abfl', 'plumbin', 'townofbloom', 'harmail', 'rosdon', 'oqyhjnk', 'britfibre', 'shreena', 'sxlag', 'pnhyjnttwfp', 'arwbppxc', 'casvisa', 'klosowska', 'northlinkcard', 'retromanagementltdaxisrdb', 'windscreecard', 'nethercot', 'cktgk', 'bloochip', 'payme', 'wuw', 'acceptacard', 'floorcraft', 'ajvhrn', 'versatilein', 'rengozzi', 'strasmore', 'propertiesinv', 'ukcard', 'merciacard', 'togetherhealth', 'ã\\x83â£ã\\x82â¢ã\\x83â¢ã\\x82â\\x82ã\\x83â¢ã\\x82â¬', 'transfr', 'anfold', 'bolanl', 'adtem', 'juosr', 'cashbacs', 'gbain', 'aalf', 'refun', 'vhysk', 'zml', 'komkoro', 'nvxy', 'soundgas', 'ledg', 'devestowford', 'virundhu', 'holmaze', 'amznmktplace', 'mravel', 'marketg', 'imsm', 'ppwdl', 'bjgvwkq', 'saty', 'ohksnqx', 'publishig', 'htls', 'erlag', 'higha', 'rochdarochdale', 'moufb', 'carcinus', 'bcrsjns', 'bodenvill', 'zipcarcard', 'bbhytht', 'kbtq', 'phonify', 'sobbek', 'qmykvnnw', 'npitt', 'petruccelisalary', 'twotrees', 'raccard', 'kydmval', 'nationalcircus', 'dgq', 'acfki', 'slova', 'ohkg', 'teelg', 'omarie', 'origindat', 'myricard', 'nmoore', 'installmnt', 'moneymatch', 'mcevilly', 'calendly', 'motorspor', 'lfirst', 'wwnq', 'hdpddps', 'ngrafton', 'glamal', 'qpqblgcard', 'ftko', 'offsho', 'britcab', 'pitchbook', 'ppwd', 'gscapital', 'statnuneaton', 'hfpwobgg', 'coxxxxxxxxxxxx', 'paycare', 'lbrut', 'londonsitesolution', 'ravne', 'natwe', 'sontronics', 'mxj', 'adks', 'boship', 'ntrue', 'owdyscla', 'karep', 'pumpcard', 'limitedsukl', 'arix', 'onlinternet', 'ltvipond', 'leisur', 'constructi', 'zwzrprlbzlt', 'bbgkxxg', 'rullion', 'propertycleane', 'dribuild', 'qyhlog', 'anwg', 'nuvven', 'billymullen', 'aredit', 'arbuc', 'gloan', 'pfscard', 'simplymailsolucard', 'kareplusmi', 'financrbs', 'andrw', 'charitini', 'bbjzvfg', 'oblba', 'planetorganic', 'bbdmxcj', 'loug', 'oxyjy', 'radwmc', 'alast', 'nsquadron', 'limfc', 'crutchfie', 'wnlmat', 'defduty', 'welwy', 'notemachine', 'semjodjrvi', 'ldennis', 'hmshost', 'accounttca', 'tawnywood', 'blachowiakbonus', 'mepfy', 'gsuite', 'liveplan', 'supermercato', 'vbzb', 'xwg', 'ã\\x83â£ã\\x82â\\x82ã\\x83â¢ã\\x82â£', 'bmcard', 'vandrill', 'songyi', 'gscwave', 'nkareplusmi', 'wealdcard', 'nworthe', 'hmbbc', 'amazocard', 'twmr', 'acelectr', 'adyou', 'munication', 'jcshj', 'reshnx', 'amplitudecli', 'easyinvoicefinance', 'payetravel', 'gsaxisrdb', 'cuserstraat', 'bankline', 'vpq', 'gpuk', 'waypointpart', 'servoptimum', 'lwillow', 'kjpnseuu', 'heckfield', 'bbcard', 'ltdw', 'gnbg', 'yysbiqv', 'boldhurst', 'gssuvhealth', 'imcp', 'officedrop', 'bargainmax', 'deliveroocard', 'yzj', 'amp;west', 'eato', 'fidde', 'rugq', 'quarzi', 'duckwortcard', 'dpcproductsdir', 'pvjo', 'rbby', 'ovivo', 'mastercar', 'npeedxt', 'pgq', 'reacpjw', 'closebrosmotfin', 'earlymorningmedia', 'waterleak', 'singleto', 'swancoun', 'outv', 'kopycat', 'faxonengineere', 'abbyna', 'universalweb', 'yswcard', 'ltmisse', 'atkar', 'fiinv', 'twick', 'kgx', 'hxynas', 'jvktm', 'grammarly', 'supermalower', 'jgollogly', 'dayju', 'deminos', 'kqnmqo', 'precisiion', 'aviem', 'amxa', 'chelseacard', 'pavelin', 'lsso', 'bblznpc', 'powerlifts', 'tadyslee', 'chartco', 'hubx', 'livingspace', 'nrytpuq', 'rtfp', 'hbtcue', 'scukl', 'akjzr', 'lrjlk', 'yzgn', 'datrixpurple', 'rvhly', 'countelymington', 'qgw', 'schaefermar', 'mailchimp', 'ugnmvfhgkg', 'ibcnesijwfp', 'paymentcard', 'shenfie', 'fevxv', 'lshb', 'olnv', 'bbbsjhh', 'cmwa', 'ringgocard', 'buizer', 'wayp', 'mcdonaldscard', 'nztq', 'materialsman', 'classcar', 'caterke', 'kjq', 'onecard', 'mccloy', 'lmka', 'ndzq', 'postaliat', 'payat', 'scoro', 'allcures', 'checkreturn', 'apny', 'abraemar', 'rpq', 'internetcard', 'cjmdc', 'togetherhealthltd', 'cadspec', 'cvehqlc', 'gsxtka', 'inndurham', 'ixpsea', 'datamint', 'lfgynmnpf', 'estimatpada', 'qmnpxdaycm', 'levjwaq', 'quydr', 'pbym', 'xpq', 'ehoe', 'newsuk', 'nsenzer', 'superstorecard', 'tallone', 'prtnr', 'iwoca', 'ltipok', 'burnlasag', 'recrcma', 'nferre', 'gsbluespire', 'pawh', 'oerw', 'pymts', 'jamroxs', 'sheph', 'sxdf', 'kilver', 'londontaxid', 'paulinefranciskareplus', 'bluespirelim', 'levengoo', 'lgstj', 'lncg', 'vhu', 'kensa', 'qewaw', 'forktruck', 'clvr', 'lqel', 'danckaert', 'lightingcard', 'retropeepers', 'northwdfp', 'ltmarina', 'motorcyc', 'modit', 'bbgl', 'aeur', 'bplan', 'productacc', 'stroomfabriek', 'ltdc', 'telligence', 'vyl', 'axisrdb', 'gethe', 'paymt', 'ocjc', 'highla', 'atradiu', 'carolinegornltd', 'groupinv', 'ringgo', 'zqvxb', 'batiself', 'mwaves', 'saflifte', 'chfp', 'hutchinso', 'qjp', 'mangercard', 'billcard', 'revele', 'parcelheroc', 'countebolton', 'visaxrcard', 'servicbre', 'allwarehouse', 'vatcard', 'oxij', 'pnqgasxt', 'pczz', 'tradlondon', 'gdmuteyn', 'bbhzxfn', 'nsouthgate', 'lecroft', 'khannon', 'mobilelab', 'melbek', 'lacemarket', 'yourefin', 'limitedinvoice', 'constructcc', 'rlno', 'zencastr', 'freemavens', 'mktplce', 'catrionamoultrie', 'zdrez', \"unauth'd\", 'qih', 'storarainbow', 'ragasaan', 'hobbledown', 'exprescard', 'umq', 'vacuu', 'anql', 'belastingdienst', 'ynqbi', 'freshworks', 'recept', 'gtaccess', 'nvhne', 'wrxs', 'headforwards', 'rjim', 'ayankogbe', 'fnbk', 'soniben', 'oilgas', 'certas', 'wjgdnfvy', 'homedepot', 'congestn', 'radconsul', 'cwave', 'accoa', 'funmilola', 'mainten', 'ovdrft', 'zeppetelli', 'eatcard', 'ohvs', 'vrzdagocardless', 'oomb', 'bbgymtr', 'timbercard', 'drivenow', 'ruskim', 'purpl', 'ohpm', 'cbils', 'wkng', 'opticia', 'tradenet', 'todaes', 'ardeola', 'balbisi', 'deayr', 'dytn', 'verif', 'firefish', 'limioc', 'intrestsept', 'tvbvv', 'golparvar', 'forw', 'supptaxagil', 'authcard', 'phqhjoifp', 'bat+kit', 'halljenning', 'amzon', 'wilkinsonnetmonkeys', 'multime', 'youan', 'fklzx', 'owiuxyhn', 'qwfm', 'bathia', 'optom', 'quickprint', 'ipok', 'evad', 'tytyty', 'zvsjh', 'jzi', 'vrqfp', 'kcard', 'qnz', 'wetransfer', 'financfp', 'xvrgwn', 'gmbn', 'fionamayocard', 'ldaisy', 'mgmtcon', 'ivankiv', 'prinses', 'aexsbrgv', 'dmcard', 'sokolowsk', 'gbrgbr', 'pymtb', 'semjnupflv', 'mwavescreditcard', 'bbjfjf', 'pinv', 'webbl', 'partrid', 'ringcentral', 'jmuofp', 'pqy', 'payroo', 'homebrand', 'nfabco', 'amazo', 'speedshiftl', 'winpebble', 'vpymla', 'filestack', 'customersure', 'stakeholde', 'virginwinecard', 'essocard', 'vqc', 'ptcard', 'discou', 'seevic', 'octbvxy', 'isoqar', 'szn', 'migom', 'oaep', 'mlmp', 'dpdgroup', 'gsfreshmind', 'netlab', 'sheppertonat', 'obtc', 'ghdozrbkw', 'handshak', 'qubicle', 'offiturner', 'fsfseiwd', 'ozdh', 'bullsmoorcard', 'gsnetmonkey', 'adamantio', 'nkex', 'harnbury', 'typeform', 'accrec', 'bkq', 'levelit', 'villagegreen', 'thermulan', 'azj', 'bsfp', 'tel+', 'whichcard', 'soluti', 'wxo', 'aukbdlondon', 'gsfluidinnov', 'ukcw', 'irenemc', 'churchillvan', 'adqj', 'benandpan', 'uiku', 'ussene', 'ridgecard', 'papaiacovou', 'osab', 'hotelcard', 'ccconstruct', 'offo', 'stwff', 'prowood', 'kingswalk', 'fahiya', 'redsix', 'sofroniosal', 'centp', 'gpoate', 'xqfvr', \"d'worth\", 'nipok', 'tjerry', 'csuk', 'cmgjk', 'screeding', 'ztpmjwg', 'optici', 'ceutrecht', 'vpy', 'nyxxxxxxxxxxxx', 'grinterley', 'ebooker', 'nndr', 'sphererhsmlt', 'hrfowebb', 'brinknksloan', 'bulkpay', 'maldana', 'guarantir', 'noptimum', 'eref', 'autoservices', 'vanooijen', 'gtfoyefp', 'macseven', 'bbjzsxh', 'seacare', 'febechi', 'evolto', 'transferwise', 'hwrr', 'ikyqc', 'sriskantfp', 'oolx', 'clcard', 'nhussain', 'seagreens', 'operration', 'oknq', 'frmdep', 'rogueamoeb', 'trvhfd', 'mkpei', 'bittenclubcard', 'loveholidays', 'alphatrack', 'enhancico', 'qij', 'insurgeltd', 'warwicknet', 'oceanscan', 'aibms', 'oziw', 'aqsb', 'xwz', 'acwh', 'hmgz', 'bodykind', 'finalta', \"birmb'ham\", 'hkq', 'bbktxbd', 'weldserv', 'oigp', '-PRON-', 'middl', 'kanber', 'zapier', 'keshwala', 'btjtek', 'freshwork', 'transfe', 'ltdalphatrack', 'hagusp', \"d'ache\", 'deoxit', 'preauthorize', 'coretek', 'swutm', 'mobitrans', 'uyrxd', 'dentglobal', 'bqd', 'bandrsolutions', 'careoptics', 'rentouli', 'aquam', 'abtvp', 'clicard', 'promor', 'aquaid', 'crmcard', 'accromet', 'chrisalis', 'tewart', 'carpent', 'fcyq', 'pdwn', 'talemwa', 'tulloc', 'ephrfb', 'socard', 'gsheatscreed', 'vigoureux', 'taillef', 'tadyspur', 'partne', 'bbtkchkmeridian', 'tayli', 'bijgaar', 'arroch', 'heatscre', 'photogphy', 'vtcard', 'prokhorenko', 'znocp', 'ukj', 'corporatiopromise', 'ocard', 'crutchf', 'partr', 'teamsob', 'arccard', 'sedover', 'ckpu', 'drawifp', 'lbgi', 'nonsterle', 'dioc', 'hamminkweg', 'whalebon', 'oall', 'eyeso', 'baytek', 'engie', 'lcard', 'ukfp', 'gvy', 'ppwyn', 'adscard', 'ccard', 'wellbrooke', 'yavsbb', 'ypz', 'steelstock', 'gambado', 'vahtsbun', 'doxs', 'uxkw', 'pferdgart', 'lendlease', 'marcianak', 'ebgcxfd', 'municat', 'sternlight', 'icker', 'heqh', 'franceschin', 'ooqc', 'lrag', 'londonde', 'alqx', 'kpmk', 'warkup', 'phrly', 'vehicl', 'winecard', 'tcvcard', 'rdc\\\\unit', 'qruvz', 'aaxl', 'conrats', 'dellbridge', 'oundl', 'axappp', 'clarenco', 'nuuy', 'esiya', 'kkyhc', 'uberbv', 'retad', 'ykbvojfp', 'musoft', 'blackheathcard', 'hfpqsd', 'ozdi', 'chargecard', 'reimb', 'galsgow', 'colln', 'duffgrinde', 'ltdno', 'rnat', 'bridgest', 'chlmsfrd', 'nmike', 'defp', 'elephan', 'bnhhvfw', 'ddarrr', 'barclayloan', 'baatfp', 'pavinee', 'sacard', 'bridgestreet', 'ceciliato', 'pfjd', 'stationcard', 'andywilliacard', 'oszh', 'j+h', 'rentarc', 'fpid', 'xoesyepx', 'roorooroofu', 'hbpv', 'busino', 'xjoida', 'darwencard', 'xrof', 'wilshpadarn', 'glasgowcaledonian', 'cxorwfp', 'putercentre', 'northwdvia', 'nwwwopennshutcouk', 'safetyindustricard', 'greensport', 'vtlumlq', 'distille', 'fnsfp', 'mcnicoll', 'stourgarden', 'cwind', 'steelfp', 'rklc', 'svcchg', 'ptasinska', 'nauld', 'gzq', 'hhdmh', 'hgvr', 'novitzki', 'bbcnqpj', 'senzer', 'limifirst', 'sanber', 'paymen', 'richlove', 'gstogetherhe', 'zslqc', 'kareplus', 'swizal', 'limitepaya', 'cjxm', 'prydis', 'hotel\\\\suffolk', 'mechani', 'dagenhamcard', 'flightscard', 'ntemple', 'ryanaircard', 'rcjmvz', 'permanex'}\n"
     ]
    }
   ],
   "source": [
    "#check oov words in pre-trained word2vec\n",
    "def oov(texts, model, check_function):\n",
    "    exist_total = 0\n",
    "    total = 0\n",
    "    total_word_set = set()\n",
    "    oov_set = set()\n",
    "    for line in texts:\n",
    "        for text in line :\n",
    "            total +=1\n",
    "            total_word_set.add(text)\n",
    "            if check_function(model, text):\n",
    "                exist_total +=1\n",
    "\n",
    "    for text in total_word_set:\n",
    "        if check_function(model, text):\n",
    "            pass\n",
    "        else:\n",
    "            oov_set.add(text)\n",
    "    \n",
    "    distinct_oov = round(len(oov_set)/len(total_word_set), 4)\n",
    "    total_oov = round(1 - exist_total/total, 4)\n",
    "    print('Percentage of distinct out of vocabulary words: {:.2f}%'.format(distinct_oov*100))\n",
    "    print('Total percentage of out of vocabulary words in the word set: {:.2f}%'.format(total_oov*100))\n",
    "    print(oov_set)\n",
    "    return distinct_oov, total_oov, oov_set\n",
    "\n",
    "#the process of checking every possible words in description to match with pre-trained word2vec\n",
    "def w2v_check(model, text):\n",
    "    return (text in model.vocab) or (text.upper() in model.vocab)or (text.capitalize() in model.vocab)\n",
    "\n",
    "distinct_oov, total_oov, oov_set = oov(X_train['description'], word2vec_pre_model, w2v_check)"
   ]
  },
  {
   "cell_type": "code",
   "execution_count": 46,
   "metadata": {
    "scrolled": true
   },
   "outputs": [],
   "source": [
    "#turn description to pre-trained word2vec generated matrix\n",
    "def w2v_embeddings(model, texts):\n",
    "        matrix =[]\n",
    "        for text in texts:\n",
    "            oov_matrix = []\n",
    "            if len(text) > 0 :\n",
    "                #checking every possibility: uppercased, all capitalised and uncased\n",
    "                for word in text:\n",
    "                    if  word in model.vocab:\n",
    "                        oov_matrix.append(model[word])\n",
    "                    elif word.upper() in model.vocab:\n",
    "                        oov_matrix.append(model[word.upper()])\n",
    "                    elif word.capitalize() in model.vocab:\n",
    "                        oov_matrix.append(model[word.capitalize()])\n",
    "\n",
    "            if len(oov_matrix) == 0:\n",
    "                oov_matrix.append(np.zeros(model.vector_size))\n",
    "            matrix.append(np.mean(oov_matrix, axis=0))\n",
    "        return matrix\n",
    "\n",
    "#Form the maxtrix, acquired via pre-trained word2vec\n",
    "w2v_pre_model = w2v_embeddings(word2vec_pre_model,np.array(X_train['description']))\n",
    "w2v_pre_model_df = pd.DataFrame(w2v_pre_model)"
   ]
  },
  {
   "cell_type": "markdown",
   "metadata": {},
   "source": [
    "**3.2.3 GloVe: pre-trained 300D model**"
   ]
  },
  {
   "cell_type": "code",
   "execution_count": 48,
   "metadata": {},
   "outputs": [],
   "source": [
    "#glove_input_file = r'C:\\Users\\sophie\\Desktop\\Dissertation Project\\glove.840B.300d.txt'\n",
    "\n",
    "#load the glove model\n",
    "word2vec_output_file = r'glove.840B.300d.word2vec.txt'\n",
    "#(count, dimensions) = glove2word2vec(glove_input_file, word2vec_output_file)\n",
    "#print(count, '\\n', dimensions)\n",
    "glove = gensim.models.KeyedVectors.load_word2vec_format(word2vec_output_file, binary=False)"
   ]
  },
  {
   "cell_type": "code",
   "execution_count": 49,
   "metadata": {
    "scrolled": true
   },
   "outputs": [
    {
     "name": "stdout",
     "output_type": "stream",
     "text": [
      "Percentage of distinct out of vocabulary words: 30.18%\n",
      "Total percentage of out of vocabulary words in the word set: 11.12%\n",
      "{'iantr', 'aquaa', 'oofm', 'billesley', 'jutla', 'autolease', 'vistage', 'systemsaving', 'estfanos', 'dinv', 'whittard', 'tsgncard', 'edmundson', 'mallcard', 'balacenko', 'paymax', 'douy', 'aktiengesellschaft', 'arrgmt', 'sacat', 'aigll', 'uverjyb', 'mercard', 'aevx', 'energas', 'ebury', 'brothwell', 'adaptis', 'cchelp', 'rochd', 'colec', 'metroweld', 'parfitt', 'fmditltd', 'qbsz', 'pfdd', 'wadds', 'irfp', 'gladki', 'triptease', 'peterbor', 'mmcltd', 'westereemsw', 'whillis', 'gadbrook', 'londonr', 'vhypw', 'vyu', 'rbluespirelim', 'vudsri', 'mksmiles', 'birminghqueensway', 'mzfp', 'wildgoose', 'xtfcky', 'bdxehi', 'dhutcheson', 'ykpqb', 'hassengate', 'kr+a', 'fgchs', 'rtyfp', 'pzem', 'croner', 'coachwo', 'wrightsure', 'hfpqcdz', 'lymburn', 'chingcard', 'advancinglcard', 'okolidoh', 'noake', 'taxret', 'place\\\\piccadilly', 'kilsby', 'yhjidxa', 'ritherdon', 'meilic', 'ifmq', 'helppay', 'rebkanpr', 'swavesey', 'northey', 'colver', 'rzq', 'imtc', 'qpkx', 'fmec', 'hywel', 'wcard', 'vesco', 'scoloan', 'xqixae', 'tiflex', 'kareplusmk', 'greengate', 'ocall', 'mfbpa', 'hxy', 'ybcbb', 'lcikzs', 'limitedcard', 'creativecard', 'reyer', 'xferusd', 'kjvp', 'dloan', 'partnershipinv', 'bfwm', 'sqtc', 'bapp', 'swinv', 'camsterdam', 'cardcardiff', 'kastrati', 'amwarkuplimited', 'weyman', 'countecard', 'dagia', 'proapollo', 'acfcwcard', 'whymant', 'taxagility', 'brooksbrothersuk', 'aqpv', 'kalisha', 'aeat', 'hdhebjr', 'ltcpa', 'samhungu', 'nonref', 'rjzfri', 'yapu', 'invcard', 'attrill', 'wwwopennshutcouk', 'pattenden', 'ralphix', 'zxg', 'bodycote', 'trouvay', 'guttilla', 'crich', 'facebk', 'storafp', 'hayllar', 'distribuz', 'lionweld', 'ethosenergy', 'ddfp', 'milfords', 'assura', 'e+', 'crruk', 'firmcard', 'fedexrefund', 'hardbase', 'jbfqc', 'colena', 'keizergracht', 'gsyourefurn', 'padarn', 'zepmw', 'abbeyfield', 'boxfusion', 'lmeridian', 'breakfastcard', 'esnax', 'zhfd', 'dzua', 'monsens', 'nicklin', 'bancila', 'semjntke', 'netmonkeys', 'nxrm', 'elberry', 'dysomettrick', 'homebrands', 'cognosis', 'tipree', 'bolam', 'cotax', 'inic', 'landscapi', 'julieann', 'gowsaleya', 'okhz', 'johnraymond', 'oynt', 'gqovbfp', 'adyen', 'geosakconsultltd', 'hotelmanchester', 'loanfp', 'nethe', 'rrej', 'acqfwcard', 'buildingsteadfa', 'xxuahi', 'flett', 'benefbib', 'freshminds', 'osborncard', 'xmtbew', 'ctzx', 'hanzt', 'ltdcard', 'stratilexcontent', 'gourock', 'chocleys', 'kqk', 'directcard', 'hassockseye', 'sobencc', 'lyreco', 'refridgerat', 'coversure', 'gamemine', 'ukstripe', 'packington', 'wvf', 'culverhouse', 'wixxxxxxxxxxxx', 'digitrol', 'gscasacare', 'rfre', 'prxevuawq', 'elmmarketing', 'mundeep', 'amarjit', 'togetherh', 'lloy', 'gswilliammor', 'shipco', 'candesic', 'kobusch', 'hydrobolt', 'hartt', 'travisperkin', 'uhgd', 'allinoil', 'nxfu', 'stainlessuk', 'ecasub', 'carequbicle', 'renaiss', 'whitakers', 'fibrecrm', 'griffithseps', 'navcar', 'plcard', 'lplsq', 'nikit', 'ehgl', 'ultramag', 'nepic', 'ubecard', 'uquz', 'vhyskfp', 'hertfo', 'broadbelt', 'freshm', 'adko', 'francotyp', 'licard', 'lhzqvpkyc', 'caterking', 'repaym', 'shaily', 'scrapmetal', 'ij+g', 'quvhnmqv', 'konecranes', 'wvdcrlh', 'exactal', 'ljh', 'ledwood', 'zyvabzvr', 'owfa', 'gocardless', 'onlcard', 'chettleb', 'refurbis', 'tytytour', 'tqp', 'fitzmaurictca', 'headfo', 'bngbzbv', 'mackinno', 'mhrdcggsr', 'ohpp', 'ebacard', 'bcard', 'ffezc', 'brcbb', 'gaskells', 'dilwyn', 'kcilv', 'oatein', 'lpv', 'highnet', 'qonqests', 'nrbs', 'adbl', 'zbtin', 'vesscoengine', 'jelf', 'ruffino', 'gorely', 'servicesee', 'storecard', 'payecard', 'kdgyg', 'hhf', 'interparke', 'jefford', 'eazyprint', 'msbill', 'ebankgo', 'oskw', 'oysh', 'mccausland', 'airportcard', 'conncard', 'akqfvphc', 'rhh', 'certsure', 'faold', 'hbptxd', 'aphp', 'aatif', 'ycbnhioj', 'paperstone', 'kxxc', 'emilien', 'shoesmith', 'salescard', 'lpno', 'izoepw', 'centili', 'streecard', 'cardnet', 'hwuq', 'jido', 'uczaipwct', 'qorh', 'arghya', 'chichest', 'swalec', 'hifx', 'ci\\\\sw', 'cardington', 'amznmktplacecard', 'wellbei', 'southernhay', 'clearleft', 'ifsl', 'besgrowthst', 'vsvb', 'videcon', 'sarunds', 'bmzqrpl', 'ucard', 'rostance', 'exanhakxt', 'bbgsfjh', 'edyn', 'ybbpi', 'bsobenco', 'cardiffcardiff', 'blenkinsop', 'margoob', 'whitstablebay', 'monsen', 'laslett', 'adoh', 'countyha', 'cellfish', 'orbtalk', 'ytx', 'saffp', 'sarahdineenopticia', 'ppdl', 'bycard', 'harton', 'daybe', 'radstock', 'alcumus', 'hiscox', 'lexadon', 'jmgame', 'sharpham', 'hrfjcoate', 'mhcard', 'assessman', 'stngrangemouth', 'odriscoll', 'consultanwhe', 'damstra', 'iveson', 'utiliti', 'iannelli', 'dleane', 'apqwmn', 'scyl', 'bnphzqq', 'trendwatchin', 'puricare', 'fndp', 'yuzt', 'vcqj', 'vipond', 'talentjj', 'broga', 'aoqcobnk', 'hubim', 'r+d', 'matmos', 'oxkt', 'wcy', 'fewnsvl', 'brynwell', 'liternlt', 'pymtbfp', 'semjo', 'servr', 'vrate', 'soben', 'segro', 'carltonleisure', 'aenhmjfgkc', 'galliford', 'freshmind', 'gniot', 'hrflcapay', 'kiec', 'nyambuya', 'inniss', 'wpam', 'limitefrom', 'hbsaeu', 'szczepanik', 'sabj', 'roadw', 'rcfp', 'parkmobile', 'optometr', 'ougb', 'hdcpxxb', 'baldwinandco', 'ctxxxxxxxxxxxx', 'cbbpi', 'gagneja', 'npebble', 'xxze', 'hemispher', 'finishinfp', 'opbt', 'ruparelia', 'bbjkptj', 'heyfriendfp', 'challoner', 'rheeney', 'blackcircles', 'ctccon', 'zurt', 'tradegecko', 'chesford', 'biosite', 'sopher', 'dkau', 'hamail', 'kochanowicz', 'nheritage', 'hillen', 'wmh', 'actavo', 'stryczkos', 'miltonkeynes', 'trnsfer', 'cavenay', 'flain', 'coffeecard', 'ecfs', 'stauntonaccount', 'symmonds', 'prodek', 'nmarina', 'bousfield', 'forgn', 'managementinv', 'orrfnb', 'gsgenerallee', 'oponeo', 'rbiox', 'motonovo', 'bbhxvrc', 'onlinecard', 'sumup', 'rbq', 'totrain', 'grrenage', 'dacrylate', 'r+c', 'uzk', 'crrpvb', 'suhttpswww', 'bysel', 'bqch', 'kyei', 'ta+dj', 'izettle', 'taxag', 'jlxxjva', 'wvgn', 'lmcp', 'kilb', 'ttees', 'street\\\\hounslow\\\\tw', 'zmplx', 'chewter', 'kflfj', 'tarbed', 'oshaughnessy', 'symmond', 'brethertonexpenses', 'bierkowska', 'jmfms', 'vijzelstraat', 'eyub', 'zwv', 'phwa', 'bbgrnlq', 'labasco', 'mgcard', 'westelmrtc', 'netmonkey', 'httpswww', 'nlazy', 'ymt', 'sainsby', 'anthonyhoff', 'ltdinv', 'evuna', 'buildbase', 'aprlkbkb', 'seyla', 'storescard', 'scotlifeemrd', 'walthamforestcard', 'synergi', 'fdlmnmjx', 'rupendran', 'niwg', 'liminv', 'asattei', '\\\\hounslow\\\\tw', 'maxxiafin', 'nnorthwood', 'oibrhhc', 'delro', 'rosslee', 'avpnnkwy', 'samera', 'arrowbuild', 'hahanzsx', 'uttlesford', 'chawanzwa', 'readstone', 'wework', 'seylan', 'ledwidge', 'eyega', 'xaph', 'wgawoh', 'ducroq', 'cabvision', 'kingslodge', 'gspermanexs', 'fairfx', 'fonderico', 'wbbckt', 'mailcard', 'evanwood', 'ionos', 'jumptec', 'blencowe', 'aimm', 'lad+turn', 'birminghambirmingham', 'fsprg', 'blairgowrie', 'viwhitewood', 'servfp', 'standardcard', 'renr', 'bcnnxkd', 'qccg', 'rtsnutrition', 'tecc', 'excitech', 'rshtio', 'zxuehm', 'askey', 'nqjmd', 'notemac', 'tailsco', 'mainv', 'lasuitew', 'earlsgate', 'mocard', 'ppzch', 'contdenholm', 'kjyxdb', 'ramside', 'consultinginvoice', 'lurssen', 'lifabco', 'networkmyclu', 'lathams', 'habermehl', 'parkingcard', 'gallerloan', 'tumbridge', 'flcard', 'rilqbi', 'wdq', 'hotelshighl', 'dbdtpda', 'growthsgrowth', 'restaurantsilv', 'vessco', 'chipo', 'rvipond', 'angliacard', 'hcqfvoao', 'swzgd', 'selco', 'abfl', 'tregear', 'townofbloom', 'datamatics', 'glenigan', 'shinfield', 'harmail', 'rosdon', 'oqyhjnk', 'britfibre', 'shreena', 'sxlag', 'auma', 'pnhyjnttwfp', 'arwbppxc', 'casvisa', 'klosowska', 'northlinkcard', 'retromanagementltdaxisrdb', 'windscreecard', 'nethercot', 'cktgk', 'bloochip', 'littletown', 'wuw', 'acceptacard', 'ajvhrn', 'versatilein', 'rengozzi', 'strasmore', 'oocl', 'propertiesinv', 'ukcard', 'merciacard', 'togetherhealth', 'ã\\x83â£ã\\x82â¢ã\\x83â¢ã\\x82â\\x82ã\\x83â¢ã\\x82â¬', 'transfr', 'anfold', 'moonpig', 'bolanl', 'adtem', 'juosr', 'cashbacs', 'gbain', 'aalf', 'vhysk', 'zml', 'ainv', 'komkoro', 'nvxy', 'soundgas', 'milosz', 'ledg', 'courcy', 'devestowford', 'virundhu', 'holmaze', 'fairall', 'amznmktplace', 'mravel', 'porthouse', 'marketg', 'imsm', 'ppwdl', 'vitec', 'bjgvwkq', 'flexitallic', 'ohksnqx', 'publishig', 'htls', 'erlag', 'higha', 'rochdarochdale', 'moufb', 'carcinus', 'bcrsjns', 'bodenvill', 'zipcarcard', 'bbhytht', 'richmon', 'epv', 'xdi', 'lewry', 'kbtq', 'splan', 'phonify', 'crumbley', 'powis', 'sobbek', 'harbord', 'qmykvnnw', 'npitt', 'nimer', 'pexa', 'petruccelisalary', 'twotrees', 'raccard', 'kydmval', 'nationalcircus', 'conister', 'dgq', 'acfki', 'vwfs', 'ohkg', 'teelg', 'omarie', 'origindat', 'myricard', 'nmoore', 'installmnt', 'bvk', 'moneymatch', 'mcevilly', 'calendly', 'culley', 'motorspor', 'lfirst', 'wwnq', 'hdpddps', 'ngrafton', 'glamal', 'qpqblgcard', 'sosu', 'ftko', 'offsho', 'britcab', 'byrs', 'pitchbook', 'ppwd', 'gscapital', 'statnuneaton', 'hfpwobgg', 'coxxxxxxxxxxxx', 'paycare', 'lbrut', 'londonsitesolution', 'ravne', 'natwe', 'sontronics', 'mxj', 'wwtc', 'adks', 'boship', 'ntrue', 'encon', 'owdyscla', 'karep', 'pumpcard', 'usamah', 'limitedsukl', 'arix', 'onlinternet', 'ltvipond', 'fragomen', 'zwzrprlbzlt', 'tuppen', 'bbgkxxg', 'rullion', 'propertycleane', 'dribuild', 'golab', 'qyhlog', 'anwg', 'nuvven', 'billymullen', 'aredit', 'arbuc', 'jyn', 'gloan', 'harlands', 'pfscard', 'simplymailsolucard', 'kareplusmi', 'financrbs', 'zre', 'andrw', 'charitini', 'hellesdon', 'bbjzvfg', 'oblba', 'planetorganic', 'bbdmxcj', 'oxyjy', 'radwmc', 'amandeep', 'fceb', 'nsquadron', 'limfc', 'crutchfie', 'wnlmat', 'defduty', 'welwy', 'notemachine', 'semjodjrvi', 'ldennis', 'alphera', 'sddt', 'scottishpower', 'bassetlaw', 'hmshost', 'accounttca', 'umubano', 'tawnywood', 'vqd', 'blachowiakbonus', 'mepfy', 'gsuite', 'zti', 'liveplan', 'vbzb', 'xwg', 'kronenberg', 'ã\\x83â£ã\\x82â\\x82ã\\x83â¢ã\\x82â£', 'bmcard', 'vandrill', 'songyi', 'gscwave', 'nkareplusmi', 'dzp', 'wealdcard', 'nworthe', 'hmbbc', 'amazocard', 'twmr', 'acelectr', 'adyou', 'jcshj', 'reshnx', 'amplitudecli', 'easyinvoicefinance', 'payetravel', 'ifema', 'gsaxisrdb', 'cuserstraat', 'trada', 'bankline', 'vpq', 'investec', 'gpuk', 'waypointpart', 'servoptimum', 'lwillow', 'dineen', 'mhw', 'kjpnseuu', 'heckfield', 'bbcard', 'ltdw', 'gnbg', 'nitco', 'yysbiqv', 'boldhurst', 'gssuvhealth', 'axh', 'imcp', 'mvrc', 'quba', 'officedrop', 'bargainmax', 'deliveroocard', 'yzj', 'lockhurst', 'amp;west', 'eato', 'fidde', 'ayling', 'rugq', 'quarzi', 'duckwortcard', 'lzb', 'dpcproductsdir', 'pvjo', 'rbby', 'attie', 'ovivo', 'mastercar', 'npeedxt', 'nzf', 'pgq', 'reacpjw', 'closebrosmotfin', 'earlymorningmedia', 'waterleak', 'pinkus', 'singleto', 'eyk', 'swancoun', 'ogleby', 'outv', 'kopycat', 'faxonengineere', 'abbyna', 'universalweb', 'yswcard', 'ltmisse', 'ormesher', 'atkar', 'alq', 'fiinv', 'kgx', 'hxynas', 'jvktm', 'grammarly', 'candlelite', 'supermalower', 'vwu', 'jgollogly', 'dayju', 'deminos', 'gurdip', 'kqnmqo', 'precisiion', 'aviem', 'amxa', 'chelseacard', 'pavelin', 'lsso', 'cristea', 'elvey', 'bblznpc', 'tadyslee', 'chartco', 'hubx', 'livingspace', 'nrytpuq', 'rtfp', 'hbtcue', 'scukl', 'tatenda', 'akjzr', 'lrjlk', 'yzgn', 'datrixpurple', 'rvhly', 'countelymington', 'qgw', 'schaefermar', 'ugnmvfhgkg', 'ibcnesijwfp', 'paymentcard', 'shenfie', 'fevxv', 'kloeckner', 'lshb', 'olnv', 'bbbsjhh', 'cmwa', 'ringgocard', 'jonat', 'shenfield', 'mitie', 'buizer', 'wayp', 'mcdonaldscard', 'nztq', 'sherrington', 'materialsman', 'classcar', 'aqr', 'sarbjeet', 'caterke', 'kjq', 'pendlebury', 'onecard', 'mccloy', 'lmka', 'ndzq', 'postaliat', 'scoro', 'allcures', 'checkreturn', 'apny', 'abraemar', 'rpq', 'foulsham', 'internetcard', 'cjmdc', 'togetherhealthltd', 'cadspec', 'cvehqlc', 'gsxtka', 'inndurham', 'bjn', 'ixpsea', 'datamint', 'lfgynmnpf', 'estimatpada', 'binson', 'qmnpxdaycm', 'levjwaq', 'barraclough', 'quydr', 'pbym', 'xpq', 'ehoe', 'brocklesby', 'newsuk', 'nsenzer', 'superstorecard', 'tallone', 'denholm', 'yvs', 'prtnr', 'lunet', 'lemmens', 'iwoca', 'kve', 'ltipok', 'burnlasag', 'recrcma', 'nferre', 'gsbluespire', 'lalji', 'pawh', 'oerw', 'jamroxs', 'sheph', 'sxdf', 'kilver', 'londontaxid', 'paulinefranciskareplus', 'bluespirelim', 'levengoo', 'lgstj', 'lncg', 'vhu', 'kensa', 'qewaw', 'clvr', 'hodnett', 'lqel', 'danckaert', 'bcrs', 'lightingcard', 'retropeepers', 'northwdfp', 'toymaster', 'ltmarina', 'modit', 'bbgl', 'blackshaw', 'aeur', 'bplan', 'chalkley', 'laggan', 'productacc', 'stroomfabriek', 'ltdc', 'vyl', 'axisrdb', 'safetec', 'gethe', 'paymt', 'ocjc', 'weightman', 'highla', 'atradiu', 'ekachai', 'carolinegornltd', 'sekura', 'groupinv', 'vinv', 'ringgo', 'fgn', 'zqvxb', 'ebor', 'batiself', 'mwaves', 'saflifte', 'chfp', 'hutchinso', 'qjp', 'mangercard', 'billcard', 'revele', 'parcelheroc', 'countebolton', 'visaxrcard', 'allwarehouse', 'servicbre', 'vatcard', 'oxij', 'pnqgasxt', 'pczz', 'tradlondon', 'gdmuteyn', 'bbhzxfn', 'nsouthgate', 'lecroft', 'khannon', 'mobilelab', 'melbek', 'lacemarket', 'yourefin', 'limitedinvoice', 'constructcc', 'rlno', 'zencastr', 'gordano', 'freemavens', 'mktplce', 'catrionamoultrie', 'glanbia', 'zdrez', 'calmac', \"unauth'd\", 'qih', 'storarainbow', 'ragasaan', 'hobbledown', 'exprescard', 'pji', 'umq', 'jewson', 'vacuu', 'ryszard', 'wjg', 'anql', 'belastingdienst', 'ynqbi', 'bessell', 'freshworks', 'stowford', 'gtaccess', 'nvhne', 'wrxs', 'kidspace', 'headforwards', 'rjim', 'ayankogbe', 'fnbk', 'soniben', 'oilgas', 'helliwell', 'wjgdnfvy', 'congestn', 'treharne', 'radconsul', 'cwave', 'accoa', 'funmilola', 'ovdrft', 'zeppetelli', 'eatcard', 'ohvs', 'vrzdagocardless', 'oomb', 'hepple', 'karian', 'kilgallon', 'bbgymtr', 'miln', 'timbercard', 'drivenow', 'adnw', 'avix', 'ruskim', 'petru', 'ohpm', 'vanquis', 'pettifer', 'shurgard', 'cbils', 'wkng', 'opticia', 'tradenet', 'todaes', 'ardeola', 'raceworld', 'balbisi', 'deayr', 'dytn', 'cauvin', 'limioc', 'intrestsept', 'corpn', 'tvbvv', 'gurkirat', 'golparvar', 'supptaxagil', 'authcard', 'phqhjoifp', 'munton', 'bat+kit', 'halljenning', 'wilkinsonnetmonkeys', 'fklzx', 'owiuxyhn', 'qwfm', 'houlgate', 'towergate', 'bathia', 'optom', 'quickprint', 'ipok', 'tytyty', 'zvsjh', 'jzi', 'vrqfp', 'kcard', 'qnz', 'wetransfer', 'financfp', 'xvrgwn', 'arval', 'jasmyn', 'gmbn', 'breedon', 'fionamayocard', 'ldaisy', 'jtw', 'mgmtcon', 'ivankiv', 'aexsbrgv', 'sulc', 'dmcard', 'sokolowsk', 'gbrgbr', 'rykneld', 'pymtb', 'semjnupflv', 'mwavescreditcard', 'bbjfjf', 'pinv', 'webbl', 'partrid', 'heeney', 'cbre', 'jmuofp', 'pqy', 'pfdc', 'payroo', 'nfabco', 'speedshiftl', 'winpebble', 'vpymla', 'filestack', 'gollogly', 'stolzenburg', 'pqq', 'customersure', 'stakeholde', 'virginwinecard', 'massimi', 'essocard', 'taillefer', 'vqc', 'ptcard', 'seevic', 'octbvxy', 'isoqar', 'szn', 'hcea', 'migom', 'oaep', 'mlmp', 'dpdgroup', 'gsfreshmind', 'netlab', 'sheppertonat', 'obtc', 'ghdozrbkw', 'handshak', 'hhw', 'qubicle', 'offiturner', 'fsfseiwd', 'bowley', 'ozdh', 'bullsmoorcard', 'gsnetmonkey', 'adamantio', 'nkex', 'harnbury', 'typeform', 'accrec', 'bkq', 'levelit', 'villagegreen', 'thermulan', 'bcas', 'azj', 'bsfp', 'tel+', 'whichcard', 'thaker', 'wxo', 'aukbdlondon', 'gsfluidinnov', 'ukcw', 'irenemc', 'churchillvan', 'adqj', 'benandpan', 'uiku', 'ocpl', 'ussene', 'fotheringham', 'ridgecard', 'papaiacovou', 'ndds', 'osab', 'hotelcard', 'jebb', 'swy', 'ccconstruct', 'nacton', 'offo', 'stwff', 'prowood', 'kingswalk', 'fahiya', 'redsix', 'sofroniosal', 'centp', 'aalco', 'throssell', 'gpoate', 'xqfvr', \"d'worth\", 'nipok', 'tjerry', 'csuk', 'cmgjk', 'ztpmjwg', 'optici', 'carewatch', 'ceutrecht', 'vpy', 'leaseplan', 'nyxxxxxxxxxxxx', 'grinterley', 'ebooker', 'nndr', 'sphererhsmlt', 'hrfowebb', 'brinknksloan', 'bulkpay', 'maldana', 'guarantir', 'noptimum', 'noakes', 'eref', 'autoservices', 'vanooijen', 'gtfoyefp', 'macseven', 'bbjzsxh', 'seacare', 'febechi', 'rotec', 'evolto', 'transferwise', 'hwrr', 'ikyqc', 'sriskantfp', 'oolx', 'elementis', 'clcard', 'nhussain', 'seagreens', 'operration', 'oknq', 'frmdep', 'trvhfd', 'rogueamoeb', 'mkpei', 'pocklington', 'bittenclubcard', 'loveholidays', 'alphatrack', 'enhancico', 'qij', 'castlemead', 'insurgeltd', 'warwicknet', 'oceanscan', 'rhq', 'aibms', 'oziw', 'aqsb', 'xwz', 'acwh', 'hhy', 'hmgz', 'finalta', \"birmb'ham\", 'hkq', 'bbktxbd', 'weldserv', 'oigp', 'dyfed', 'grenkeleasing', 'vanstone', '-PRON-', 'fancisco', 'karabulut', 'kanber', 'zapier', 'keshwala', 'btjtek', 'freshwork', 'ltdalphatrack', 'hagusp', 'whyteleafe', 'deoxit', \"d'ache\", 'coretek', 'swutm', 'threepipe', 'mobitrans', 'uyrxd', 'dentglobal', 'softcat', 'bqd', 'bandrsolutions', 'droese', 'careoptics', 'sanko', 'rentouli', 'abtvp', 'clicard', 'promor', 'aquaid', 'crmcard', 'hawksmoor', 'accromet', 'chrisalis', 'bonsell', 'tewart', 'bouverie', 'carpent', 'fcyq', 'pdwn', 'talemwa', 'tulloc', 'ephrfb', 'socard', 'gsheatscreed', 'vigoureux', 'taillef', 'tadyspur', 'bbtkchkmeridian', 'tayli', 'bijgaar', 'arroch', 'heatscre', 'photogphy', 'vtcard', 'prokhorenko', 'znocp', 'ukj', 'corporatiopromise', 'ocard', 'crutchf', 'partr', 'teamsob', 'arccard', 'crosland', 'sedover', 'ckpu', 'drawifp', 'lbgi', 'nonsterle', 'dioc', 'hamminkweg', 'whalebon', 'asare', 'eyeso', 'baytek', 'lcard', 'ukfp', 'gvy', 'ppwyn', 'adscard', 'wellbrooke', 'yavsbb', 'ypz', 'steelstock', 'gambado', 'vahtsbun', 'doxs', 'yrp', 'uxkw', 'pferdgart', 'lendlease', 'marcianak', 'ebgcxfd', \"rec'd\", 'municat', 'sternlight', 'icker', 'heqh', 'franceschin', 'ooqc', 'lrag', 'londonde', 'alqx', 'kpmk', 'warkup', 'phrly', 'winecard', 'llk', 'tcvcard', 'rdc\\\\unit', 'qruvz', 'aaxl', 'conrats', 'dellbridge', 'oundl', 'axappp', 'clarenco', 'nuuy', 'esiya', 'kkyhc', 'topiwala', 'uberbv', 'retad', 'ykbvojfp', 'musoft', 'blackheathcard', 'abosede', 'hfpqsd', 'ozdi', 'reimb', 'galsgow', 'omv', 'duffgrinde', 'twynholm', 'grewcock', 'ltdno', 'ccwa', 'rnat', 'bridgest', 'chlmsfrd', 'nmike', 'defp', 'elephan', 'heavitree', 'rebbecca', 'stubbington', 'bnhhvfw', 'ddarrr', 'barclayloan', 'baatfp', 'seabridge', 'darryn', 'pavinee', 'sacard', 'ieo', 'fabco', 'bridgestreet', 'ceciliato', 'bpn', 'pfjd', 'daybell', 'stationcard', 'andywilliacard', 'oszh', 'j+h', 'rentarc', 'fpid', 'xoesyepx', 'roorooroofu', 'hbpv', 'busino', 'xjoida', 'darwencard', 'xrof', 'wilshpadarn', 'glasgowcaledonian', 'klasing', 'cxorwfp', 'putercentre', 'northwdvia', 'nwwwopennshutcouk', 'safetyindustricard', 'greensport', 'vtlumlq', 'distille', 'fnsfp', 'mcnicoll', 'stourgarden', 'cwind', 'steelfp', 'datamatic', 'kfp', 'rklc', 'svcchg', 'ptasinska', 'prenty', 'nauld', 'masteel', 'gzq', 'carnhill', 'hhdmh', 'hgvr', 'novitzki', 'bbcnqpj', 'senzer', 'limifirst', 'sanber', 'leightons', 'criddle', 'richlove', 'gstogetherhe', 'zslqc', 'kareplus', 'swizal', 'limitepaya', 'cjxm', 'prydis', 'hotel\\\\suffolk', 'cfmg', 'dagenhamcard', 'flightscard', 'ntemple', 'carluccio', 'ryanaircard', 'rcjmvz', 'permanex'}\n"
     ]
    }
   ],
   "source": [
    "#check the OOV in glove, but without those cased or uncased check: glove is not case sensitive\n",
    "def glov_check(model, text):\n",
    "    return text in model\n",
    "\n",
    "distinct_oov, total_oov, oob_words = oov(X_train['description'], glove, glov_check)"
   ]
  },
  {
   "cell_type": "code",
   "execution_count": 50,
   "metadata": {},
   "outputs": [],
   "source": [
    "#Get embeddings from pre-trained Glove\n",
    "def glov_embeddings(model, texts):\n",
    "        matrix =[]\n",
    "        for text in texts:\n",
    "            oov_matrix = []\n",
    "            if len(text) > 0 :\n",
    "                for word in text:\n",
    "                    if  word in model.vocab:\n",
    "                        oov_matrix.append(model[word])\n",
    "\n",
    "            if len(oov_matrix) == 0:\n",
    "                oov_matrix.append(np.zeros(model.vector_size))\n",
    "            matrix.append(np.mean(oov_matrix, axis=0))\n",
    "        return matrix\n",
    "\n",
    "glove_pre_model_ = glov_embeddings(glove,np.array(X_train['description']))\n",
    "glove_pre_df = pd.DataFrame(glove_pre_model_)"
   ]
  },
  {
   "cell_type": "markdown",
   "metadata": {},
   "source": [
    "**3.2.4 BERT**"
   ]
  },
  {
   "cell_type": "code",
   "execution_count": 2,
   "metadata": {},
   "outputs": [],
   "source": [
    "#Load BERT model from bert-as-service \n",
    "from bert_serving.client import BertClient\n",
    "bc = BertClient()"
   ]
  },
  {
   "cell_type": "code",
   "execution_count": 19,
   "metadata": {},
   "outputs": [],
   "source": [
    "#form the representations in a matrix acquired via BERT\n",
    "bert_embed = bc.encode(X_train_des)"
   ]
  },
  {
   "cell_type": "markdown",
   "metadata": {},
   "source": [
    "### 3.3 Word Representation Selection"
   ]
  },
  {
   "cell_type": "code",
   "execution_count": 59,
   "metadata": {},
   "outputs": [
    {
     "name": "stdout",
     "output_type": "stream",
     "text": [
      "0.8725047170381759\n",
      "0.7117925419752564\n",
      "0.7875676740208981\n",
      "0.7647957213081649\n",
      "0.6378913345912998\n"
     ]
    }
   ],
   "source": [
    "kfold = StratifiedKFold(n_splits=5, shuffle=True, random_state=200)\n",
    "\n",
    "#check the f1 score of every word representations: optimal frequency-based model vs predictive models\n",
    "score_w2v_self = cross_val_score(svc, word2vec_self_matrix, y_train, cv=kfold, scoring='f1_macro')\n",
    "score_w2v_pre_train = cross_val_score(svc, w2v_pre_model_df, y_train, cv=kfold, scoring='f1_macro')\n",
    "score_tf = cross_val_score(svc, tf_matrix, y_train,cv=kfold, scoring='f1_macro')\n",
    "score_glov = cross_val_score(svc, glove_pre_df, y_train, cv=kfold, scoring='f1_macro')\n",
    "score_bert = cross_val_score(svc, bert_embed, y_train, cv=kfold, scoring='f1_macro')\n",
    "print(score_tf.mean())\n",
    "print(score_w2v_self.mean())\n",
    "print(score_w2v_pre_train.mean())\n",
    "print(score_glov.mean())\n",
    "print(score_bert.mean())"
   ]
  },
  {
   "cell_type": "code",
   "execution_count": 60,
   "metadata": {},
   "outputs": [
    {
     "data": {
      "image/png": "[encoded data removed]",
      "text/plain": [
       "<Figure size 720x288 with 1 Axes>"
      ]
     },
     "metadata": {
      "needs_background": "light"
     },
     "output_type": "display_data"
    }
   ],
   "source": [
    "plt.figure(figsize=(10,4))\n",
    "\n",
    "# Plot the score of each model\n",
    "plt.barh(range(5), [score_tf.mean()*100,score_w2v_self.mean()*100,score_w2v_pre_train.mean()*100,score_glov.mean()*100,score_bert.mean()*100], height=0.7, color='steelblue', alpha=0.8)\n",
    "plt.yticks(range(5), ['TF-iDF','W2V self-trained', 'W2V pre-trained','GloVe','BERT'])\n",
    "plt.xlim(0,100)\n",
    "plt.title(\"The Average 5-Fold CV Score of Word Representation Model\")\n",
    "plt.savefig(r'CV Score of Word Representation Model\"(after semi).png',bbox_inches='tight')"
   ]
  },
  {
   "cell_type": "markdown",
   "metadata": {},
   "source": [
    " "
   ]
  },
  {
   "cell_type": "markdown",
   "metadata": {},
   "source": [
    "## 4. Generate Text Feature for the Final DataFrame in Hybrid"
   ]
  },
  {
   "cell_type": "code",
   "execution_count": 61,
   "metadata": {},
   "outputs": [],
   "source": [
    "#The best model selected\n",
    "tf = TfidfVectorizer(ngram_range=(1,2),max_features=9500)\n",
    "tf_matrix = tf.fit_transform(X_train_des)\n",
    "\n",
    "#Generate descriptions in training and testing to matrices\n",
    "def tf_vectoriser(df,indices):\n",
    "    des = [' '.join(x) for x in df['description']]\n",
    "    tf_trans = tf.transform(des)\n",
    "    tf_df = tf_trans.toarray()\n",
    "    tf_df = pd.DataFrame(tf_df)\n",
    "    tf_df.index = indices\n",
    "    return tf_df\n",
    "\n",
    "X_train_des = tf_vectoriser(X_train,train_indices)\n",
    "X_test_des = tf_vectoriser(X_test,test_indices)"
   ]
  },
  {
   "cell_type": "code",
   "execution_count": 63,
   "metadata": {
    "scrolled": false
   },
   "outputs": [
    {
     "name": "stderr",
     "output_type": "stream",
     "text": [
      "/opt/anaconda/envs/Python3/lib/python3.6/site-packages/ipykernel/__main__.py:5: SettingWithCopyWarning: \n",
      "A value is trying to be set on a copy of a slice from a DataFrame.\n",
      "Try using .loc[row_indexer,col_indexer] = value instead\n",
      "\n",
      "See the caveats in the documentation: https://pandas.pydata.org/pandas-docs/stable/user_guide/indexing.html#returning-a-view-versus-a-copy\n",
      "/opt/anaconda/envs/Python3/lib/python3.6/site-packages/ipykernel/__main__.py:6: SettingWithCopyWarning: \n",
      "A value is trying to be set on a copy of a slice from a DataFrame.\n",
      "Try using .loc[row_indexer,col_indexer] = value instead\n",
      "\n",
      "See the caveats in the documentation: https://pandas.pydata.org/pandas-docs/stable/user_guide/indexing.html#returning-a-view-versus-a-copy\n",
      "/opt/anaconda/envs/Python3/lib/python3.6/site-packages/ipykernel/__main__.py:5: SettingWithCopyWarning: \n",
      "A value is trying to be set on a copy of a slice from a DataFrame.\n",
      "Try using .loc[row_indexer,col_indexer] = value instead\n",
      "\n",
      "See the caveats in the documentation: https://pandas.pydata.org/pandas-docs/stable/user_guide/indexing.html#returning-a-view-versus-a-copy\n",
      "/opt/anaconda/envs/Python3/lib/python3.6/site-packages/ipykernel/__main__.py:6: SettingWithCopyWarning: \n",
      "A value is trying to be set on a copy of a slice from a DataFrame.\n",
      "Try using .loc[row_indexer,col_indexer] = value instead\n",
      "\n",
      "See the caveats in the documentation: https://pandas.pydata.org/pandas-docs/stable/user_guide/indexing.html#returning-a-view-versus-a-copy\n"
     ]
    }
   ],
   "source": [
    "#Combine with the numberical features to form the final dataset\n",
    "from sklearn import preprocessing\n",
    "scaler = preprocessing.StandardScaler()\n",
    "\n",
    "def form_final_df(des_df,num_df,label):\n",
    "    #normalise amount and balance to values between 0 and 1\n",
    "    num_df['amount_std'] = scaler.fit_transform(num_df['amount'].values.reshape(-1,1))\n",
    "    num_df['balance_std'] = scaler.fit_transform(num_df['balance'].values.reshape(-1,1))\n",
    "    #combine numerical and text features\n",
    "    X = pd.concat([des_df,num_df[['amount_std','balance_std','debit_binary', 'foreign_binary','financing_binary','account_binary','hmrc_vat','hmrc_corp','hmrc_paye','week_of_month_2','week_of_month_3','week_of_month_4','token_length']]], axis=1)\n",
    "    X_withlabels = pd.concat([X,label], axis=1)\n",
    "    return X_withlabels\n",
    "\n",
    "#Form training and testing datasets\n",
    "Train = form_final_df(X_train_des,X_train,y_train)\n",
    "Test = form_final_df(X_test_des,X_test,y_test)"
   ]
  },
  {
   "cell_type": "code",
   "execution_count": 66,
   "metadata": {},
   "outputs": [],
   "source": [
    "Train.to_csv(r'Train_hybrid_updated.csv')\n",
    "Test.to_csv(r'Test_hybrid_updated.csv')"
   ]
  },
  {
   "cell_type": "code",
   "execution_count": 56,
   "metadata": {},
   "outputs": [],
   "source": [
    "df_4.to_csv(r'df_hybrid_undersampled.csv',index = False)"
   ]
  },
  {
   "cell_type": "code",
   "execution_count": null,
   "metadata": {},
   "outputs": [],
   "source": []
  }
 ],
 "metadata": {
  "kernelspec": {
   "display_name": "Python [default]",
   "language": "python",
   "name": "python3"
  },
  "language_info": {
   "codemirror_mode": {
    "name": "ipython",
    "version": 3
   },
   "file_extension": ".py",
   "mimetype": "text/x-python",
   "name": "python",
   "nbconvert_exporter": "python",
   "pygments_lexer": "ipython3",
   "version": "3.6.10"
  }
 },
 "nbformat": 4,
 "nbformat_minor": 2
}
