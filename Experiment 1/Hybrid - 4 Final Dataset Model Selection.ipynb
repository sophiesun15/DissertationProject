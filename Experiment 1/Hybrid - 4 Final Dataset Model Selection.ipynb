{
 "cells": [
  {
   "cell_type": "markdown",
   "metadata": {},
   "source": [
    "# Hybrid - Part 4: Final Dataset Model Selection"
   ]
  },
  {
   "cell_type": "markdown",
   "metadata": {},
   "source": [
    "**Environment Setup**"
   ]
  },
  {
   "cell_type": "code",
   "execution_count": 5,
   "metadata": {
    "scrolled": true
   },
   "outputs": [
    {
     "name": "stdout",
     "output_type": "stream",
     "text": [
      "\u001b[1m\n",
      "         .:::.     .::.       \n",
      "        ....yy:    .yy.       \n",
      "        :.  .yy.    y.        \n",
      "             :y:   .:         \n",
      "             .yy  .:          \n",
      "              yy..:           \n",
      "              :y:.            \n",
      "              .y.             \n",
      "             .:.              \n",
      "        ....:.                \n",
      "        :::.                  \n",
      "\u001b[0;33m\n",
      "• Project files and data should be stored in /project. This is shared among everyone\n",
      "  in the project.\n",
      "• Personal files and configuration should be stored in /home/faculty.\n",
      "• Files outside /project and /home/faculty will be lost when this server is terminated.\n",
      "• Create custom environments to setup your servers reproducibly.\n",
      "\u001b[0m\n",
      "Requirement already satisfied: xgboost in /opt/anaconda/envs/Python3/lib/python3.6/site-packages (1.2.0)\n",
      "Requirement already satisfied: scipy in /opt/anaconda/envs/Python3/lib/python3.6/site-packages (from xgboost) (1.5.0)\n",
      "Requirement already satisfied: numpy in /opt/anaconda/envs/Python3/lib/python3.6/site-packages (from xgboost) (1.18.5)\n",
      "\u001b[1m\n",
      "         .:::.     .::.       \n",
      "        ....yy:    .yy.       \n",
      "        :.  .yy.    y.        \n",
      "             :y:   .:         \n",
      "             .yy  .:          \n",
      "              yy..:           \n",
      "              :y:.            \n",
      "              .y.             \n",
      "             .:.              \n",
      "        ....:.                \n",
      "        :::.                  \n",
      "\u001b[0;33m\n",
      "• Project files and data should be stored in /project. This is shared among everyone\n",
      "  in the project.\n",
      "• Personal files and configuration should be stored in /home/faculty.\n",
      "• Files outside /project and /home/faculty will be lost when this server is terminated.\n",
      "• Create custom environments to setup your servers reproducibly.\n",
      "\u001b[0m\n",
      "Collecting spacy\n",
      "  Using cached spacy-2.3.2-cp36-cp36m-manylinux1_x86_64.whl (9.9 MB)\n",
      "Collecting cymem<2.1.0,>=2.0.2\n",
      "  Using cached cymem-2.0.3-cp36-cp36m-manylinux1_x86_64.whl (32 kB)\n",
      "Collecting thinc==7.4.1\n",
      "  Using cached thinc-7.4.1-cp36-cp36m-manylinux1_x86_64.whl (2.1 MB)\n",
      "Collecting blis<0.5.0,>=0.4.0\n",
      "  Using cached blis-0.4.1-cp36-cp36m-manylinux1_x86_64.whl (3.7 MB)\n",
      "Requirement already satisfied: tqdm<5.0.0,>=4.38.0 in /opt/anaconda/envs/Python3/lib/python3.6/site-packages (from spacy) (4.47.0)\n",
      "Collecting wasabi<1.1.0,>=0.4.0\n",
      "  Downloading wasabi-0.8.0-py3-none-any.whl (23 kB)\n",
      "Requirement already satisfied: setuptools in /opt/anaconda/envs/Python3/lib/python3.6/site-packages (from spacy) (49.2.0.post20200714)\n",
      "Requirement already satisfied: requests<3.0.0,>=2.13.0 in /opt/anaconda/envs/Python3/lib/python3.6/site-packages (from spacy) (2.24.0)\n",
      "Collecting preshed<3.1.0,>=3.0.2\n",
      "  Using cached preshed-3.0.2-cp36-cp36m-manylinux1_x86_64.whl (119 kB)\n",
      "Collecting murmurhash<1.1.0,>=0.28.0\n",
      "  Using cached murmurhash-1.0.2-cp36-cp36m-manylinux1_x86_64.whl (19 kB)\n",
      "Collecting plac<1.2.0,>=0.9.6\n",
      "  Using cached plac-1.1.3-py2.py3-none-any.whl (20 kB)\n",
      "Collecting catalogue<1.1.0,>=0.0.7\n",
      "  Using cached catalogue-1.0.0-py2.py3-none-any.whl (7.7 kB)\n",
      "Collecting srsly<1.1.0,>=1.0.2\n",
      "  Using cached srsly-1.0.2-cp36-cp36m-manylinux1_x86_64.whl (185 kB)\n",
      "Requirement already satisfied: numpy>=1.15.0 in /opt/anaconda/envs/Python3/lib/python3.6/site-packages (from spacy) (1.18.5)\n",
      "Requirement already satisfied: certifi>=2017.4.17 in /opt/anaconda/envs/Python3/lib/python3.6/site-packages (from requests<3.0.0,>=2.13.0->spacy) (2020.6.20)\n",
      "Requirement already satisfied: urllib3!=1.25.0,!=1.25.1,<1.26,>=1.21.1 in /opt/anaconda/envs/Python3/lib/python3.6/site-packages (from requests<3.0.0,>=2.13.0->spacy) (1.25.9)\n",
      "Requirement already satisfied: chardet<4,>=3.0.2 in /opt/anaconda/envs/Python3/lib/python3.6/site-packages (from requests<3.0.0,>=2.13.0->spacy) (3.0.4)\n",
      "Requirement already satisfied: idna<3,>=2.5 in /opt/anaconda/envs/Python3/lib/python3.6/site-packages (from requests<3.0.0,>=2.13.0->spacy) (2.10)\n",
      "Requirement already satisfied: importlib-metadata>=0.20; python_version < \"3.8\" in /opt/anaconda/envs/Python3/lib/python3.6/site-packages (from catalogue<1.1.0,>=0.0.7->spacy) (1.7.0)\n",
      "Requirement already satisfied: zipp>=0.5 in /opt/anaconda/envs/Python3/lib/python3.6/site-packages (from importlib-metadata>=0.20; python_version < \"3.8\"->catalogue<1.1.0,>=0.0.7->spacy) (3.1.0)\n",
      "Installing collected packages: cymem, blis, wasabi, murmurhash, plac, srsly, catalogue, preshed, thinc, spacy\n",
      "Successfully installed blis-0.4.1 catalogue-1.0.0 cymem-2.0.3 murmurhash-1.0.2 plac-1.1.3 preshed-3.0.2 spacy-2.3.2 srsly-1.0.2 thinc-7.4.1 wasabi-0.8.0\n",
      "Model not found. Downloading.\n",
      "\u001b[38;5;2m✔ Download and installation successful\u001b[0m\n",
      "You can now load the model via spacy.load('en_core_web_md')\n"
     ]
    }
   ],
   "source": [
    "#Loading key libraries for later analysis\n",
    "import pandas as pd\n",
    "import numpy as np\n",
    "import matplotlib.pyplot as plt\n",
    "import seaborn as sns\n",
    "import re\n",
    "import time\n",
    "pd.set_option('max_colwidth', 1000)\n",
    "from collections import Counter\n",
    "from sklearn.svm import SVC\n",
    "from sklearn.model_selection import cross_val_score, cross_validate,GridSearchCV,StratifiedKFold\n",
    "from sklearn.linear_model import LogisticRegression\n",
    "from sklearn.metrics import confusion_matrix, classification_report,accuracy_score\n",
    "!pip install xgboost\n",
    "!pip install spacy\n",
    "import sklearn   \n",
    "import scipy.io as scio\n",
    "from sklearn.utils import shuffle\n",
    "import os\n",
    "from sklearn.neighbors import KNeighborsClassifier\n",
    "from sklearn.naive_bayes import GaussianNB\n",
    "from sklearn.ensemble import RandomForestClassifier, ExtraTreesClassifier\n",
    "from xgboost import XGBClassifier\n",
    "from sklearn.neural_network import MLPClassifier\n",
    "import functions"
   ]
  },
  {
   "cell_type": "code",
   "execution_count": 6,
   "metadata": {},
   "outputs": [],
   "source": [
    "#Read in training and testing sets\n",
    "Train = pd.read_csv(r'Train_hybrid_updated.csv',low_memory=False,encoding='latin1')\n",
    "Test = pd.read_csv(r'Test_hybrid_updated.csv',low_memory=False,encoding='latin1')"
   ]
  },
  {
   "cell_type": "code",
   "execution_count": 7,
   "metadata": {},
   "outputs": [],
   "source": [
    "#Prepare Final DataFrame\n",
    "Train.index = Train['Unnamed: 0'].values\n",
    "Train = functions.drop_column(Train,'Unnamed: 0')\n",
    "Test.index = Test['Unnamed: 0'].values\n",
    "Test = functions.drop_column(Test,'Unnamed: 0')\n",
    "X_train = Train.iloc[:,:-1]\n",
    "X_test = Test.iloc[:,:-1]\n",
    "y_train = Train.iloc[:,-1]\n",
    "y_test = Test.iloc[:,-1]"
   ]
  },
  {
   "cell_type": "markdown",
   "metadata": {},
   "source": [
    "## 1. Model Selection"
   ]
  },
  {
   "cell_type": "markdown",
   "metadata": {},
   "source": [
    "### 1.1 Benchmark models "
   ]
  },
  {
   "cell_type": "code",
   "execution_count": 20,
   "metadata": {},
   "outputs": [
    {
     "name": "stdout",
     "output_type": "stream",
     "text": [
      "RandomForestClassifier    CV-5: Accuracy: 0.9682,Precision: 0.95194,Recall: 0.90205,F1 Score: 0.921\n",
      "LogisticRegression        CV-5: Accuracy: 0.93964,Precision: 0.88966,Recall: 0.77974,F1 Score: 0.82264\n",
      "ExtraTreesClassifier      CV-5: Accuracy: 0.96742,Precision: 0.94966,Recall: 0.9031,F1 Score: 0.92069\n",
      "XGBClassifier             CV-5: Accuracy: 0.96408,Precision: 0.9276,Recall: 0.88976,F1 Score: 0.90138\n",
      "GaussianNB                CV-5: Accuracy: 0.81549,Precision: 0.65718,Recall: 0.86271,F1 Score: 0.70669\n",
      "SVC                       CV-5: Accuracy: 0.85936,Precision: 0.75461,Recall: 0.55309,F1 Score: 0.61262\n",
      "KNeighborsClassifier      CV-5: Accuracy: 0.88164,Precision: 0.85459,Recall: 0.79106,F1 Score: 0.81046\n",
      "MLPClassifier             CV-5: Accuracy: 0.96025,Precision: 0.94355,Recall: 0.9088,F1 Score: 0.92186\n"
     ]
    }
   ],
   "source": [
    "#Cross validation and the scores used for evaluation and comparison\n",
    "kfold = StratifiedKFold(n_splits=5,random_state=200,shuffle=True)\n",
    "scoring = ('accuracy','precision_macro','recall_macro','f1_macro')\n",
    "\n",
    "#Benchmark models with default settings\n",
    "classifiers = [\n",
    "    RandomForestClassifier(),\n",
    "    LogisticRegression(max_iter = 250000),\n",
    "    ExtraTreesClassifier(),\n",
    "    XGBClassifier(),\n",
    "    GaussianNB(),\n",
    "    SVC(),\n",
    "    KNeighborsClassifier(),\n",
    "    MLPClassifier()\n",
    "]\n",
    "results = list()\n",
    "\n",
    "#fit and train the training set with 5 fold cross validation to get its scores\n",
    "for model in classifiers:\n",
    "    model.seed = 20\n",
    "    \n",
    "    scores = cross_validate(model, X_train, y_train, cv=kfold, scoring= scoring, n_jobs =-1)\n",
    "    sorted(scores.keys())\n",
    "    accuracy = scores['test_accuracy'].mean()\n",
    "    precision_macro = scores['test_precision_macro'].mean()\n",
    "    recall_macro = scores['test_recall_macro'].mean()\n",
    "    f1_macro = scores['test_f1_macro'].mean()\n",
    "    score_description = 'Accuracy: {},Precision: {},Recall: {},F1 Score: {}'.format(round(accuracy,5),round(precision_macro,5),\n",
    "                                                                                    round(recall_macro,5),round(f1_macro,5))\n",
    "    results.append({'accuracy':accuracy ,'precision':precision_macro, 'recall':recall_macro ,'f1_score':f1_macro})\n",
    "    print('{model:25} CV-5: {score}'.format(\n",
    "    model=model.__class__.__name__,\n",
    "    score=score_description\n",
    " ))"
   ]
  },
  {
   "cell_type": "code",
   "execution_count": 22,
   "metadata": {},
   "outputs": [
    {
     "data": {
      "image/png": "[encoded data removed]",
      "text/plain": [
       "<Figure size 720x288 with 1 Axes>"
      ]
     },
     "metadata": {
      "needs_background": "light"
     },
     "output_type": "display_data"
    }
   ],
   "source": [
    "a = pd.DataFrame(results)\n",
    "model = ['RandomForestClassifier','LogisticRegression','ExtraTreesClassifier','XGBClassifier','GaussianNB','SVC',\n",
    "         'KNeighborsClassifier','MLPClassifier']\n",
    "plt.figure(figsize=(10,4))\n",
    "\n",
    "# Plot the score of each model\n",
    "plt.barh(range(8), (a['f1_score'].values)*100, height=0.7, color='steelblue', alpha=0.8)\n",
    "plt.yticks(range(8), model)\n",
    "plt.xlim(0,100)\n",
    "plt.title(\"The Average 5-Fold CV F1 Score of Base Classification Models in Hybrid Approach\")\n",
    "plt.savefig(r'CV Score of class Model(after semi).png',bbox_inches='tight')"
   ]
  },
  {
   "cell_type": "code",
   "execution_count": 28,
   "metadata": {},
   "outputs": [
    {
     "data": {
      "image/png": "[encoded data removed]",
      "text/plain": [
       "<Figure size 864x576 with 1 Axes>"
      ]
     },
     "metadata": {
      "needs_background": "light"
     },
     "output_type": "display_data"
    }
   ],
   "source": [
    "a = pd.DataFrame(results)\n",
    "model = ['RandomForestClassifier','LogisticRegression','ExtraTreesClassifier','XGBClassifier','GaussianNB','SVC'\n",
    "         ,'KNeighborsClassifier','MLPClassifier']\n",
    "\n",
    "fig, ax = plt.subplots(figsize=(12,8))\n",
    "width = 0.1\n",
    "\n",
    "# Plot the score of each model\n",
    "X = np.arange(4)\n",
    "plt.bar(X + 0.00, a.loc[0], color = 'lightblue', width = width,label=model[0])\n",
    "plt.bar(X + width, a.loc[1], color = 'steelblue', width = width,label=model[1])\n",
    "plt.bar(X + width*2, a.loc[2], color = 'cornflowerblue', width = width,label=model[2])\n",
    "plt.bar(X + width*3, a.loc[3], color = 'royalblue', width = width,label=model[3])\n",
    "plt.bar(X + width*4, a.loc[4], color = 'midnightblue', width = width,label=model[4])\n",
    "plt.bar(X + width*5, a.loc[5], color = 'skyblue', width =width,label=model[5])\n",
    "plt.bar(X + width*6, a.loc[6], color = 'deepskyblue', width = width,label=model[6])\n",
    "plt.bar(X + width*7, a.loc[7], color = 'dodgerblue', width = width,label=model[7])\n",
    "\n",
    "ax.set_xticks([0.3,1.3,2.3,3.3])\n",
    "ax.set_xticklabels(a.columns)\n",
    "plt.xlabel('Evaluation Variables')\n",
    "plt.ylabel('Score')\n",
    "plt.title(\"Performance of Basic Classifiers\")\n",
    "plt.legend(loc='lower right')\n",
    "\n",
    "plt.savefig(r'Performance of Basic Classifiers_Hybrid.png',bbox_inches='tight')"
   ]
  },
  {
   "cell_type": "markdown",
   "metadata": {},
   "source": [
    "### 1.2 Fine Tuning Top 3 Selected Models"
   ]
  },
  {
   "cell_type": "code",
   "execution_count": 10,
   "metadata": {},
   "outputs": [],
   "source": [
    "def gridsearch(model,param):\n",
    "    kfold = StratifiedKFold(n_splits=5,random_state=200,shuffle=True)\n",
    "    np.random.seed(0)\n",
    "    clf=GridSearchCV(model,param, cv=kfold, n_jobs=-1,scoring='f1_macro')\n",
    "    clf.fit(X_train, y_train)\n",
    "    return clf.best_params_"
   ]
  },
  {
   "cell_type": "markdown",
   "metadata": {},
   "source": [
    "#### 1.2.1 Random Forest Classifier"
   ]
  },
  {
   "cell_type": "code",
   "execution_count": 12,
   "metadata": {},
   "outputs": [
    {
     "data": {
      "text/plain": [
       "{'max_depth': None,\n",
       " 'max_features': 'auto',\n",
       " 'min_samples_leaf': 1,\n",
       " 'min_samples_split': 5,\n",
       " 'n_estimators': 100}"
      ]
     },
     "execution_count": 12,
     "metadata": {},
     "output_type": "execute_result"
    }
   ],
   "source": [
    "rf = RandomForestClassifier()\n",
    "\n",
    "grid_param={\"n_estimators\": [10,50,100], \n",
    "           \"max_features\": [\"auto\",\"sqrt\",\"log2\"],\n",
    "           \"max_depth\": [None,10,30], \n",
    "           \"min_samples_split\": [2,5,10],\n",
    "           \"min_samples_leaf\": [1,5,10]}\n",
    "\n",
    "gridsearch(rf,grid_param)"
   ]
  },
  {
   "cell_type": "markdown",
   "metadata": {},
   "source": [
    "#### 1.2.2 Extra Trees Classifier"
   ]
  },
  {
   "cell_type": "code",
   "execution_count": 13,
   "metadata": {
    "scrolled": true
   },
   "outputs": [
    {
     "data": {
      "text/plain": [
       "{'max_depth': None,\n",
       " 'max_features': 'log2',\n",
       " 'min_samples_leaf': 1,\n",
       " 'min_samples_split': 5,\n",
       " 'n_estimators': 150}"
      ]
     },
     "execution_count": 13,
     "metadata": {},
     "output_type": "execute_result"
    }
   ],
   "source": [
    "et = ExtraTreesClassifier()\n",
    "\n",
    "grid_param={\"n_estimators\": [50,100,150], \n",
    "           \"max_features\": [\"auto\",\"sqrt\",\"log2\"],\n",
    "           \"max_depth\": [None,10], \n",
    "           \"min_samples_split\": [2,5,10],\n",
    "           \"min_samples_leaf\": [1,2,5]}\n",
    "\n",
    "gridsearch(et,grid_param)"
   ]
  },
  {
   "cell_type": "markdown",
   "metadata": {},
   "source": [
    "#### 1.2.3 MLP Classifier"
   ]
  },
  {
   "cell_type": "code",
   "execution_count": 14,
   "metadata": {},
   "outputs": [
    {
     "data": {
      "text/plain": [
       "{'activation': 'relu', 'alpha': 0.0001, 'hidden_layer_sizes': (100,)}"
      ]
     },
     "execution_count": 14,
     "metadata": {},
     "output_type": "execute_result"
    }
   ],
   "source": [
    "mlp = MLPClassifier()\n",
    "\n",
    "grid_param = {\n",
    "    'hidden_layer_sizes': [(100,),(100,100),(100,100,100)],\n",
    "    'activation': ['tanh', 'relu'],\n",
    "    'alpha': [0.0001,0.05,0.10],\n",
    "}\n",
    "gridsearch(mlp,grid_param)"
   ]
  },
  {
   "cell_type": "markdown",
   "metadata": {},
   "source": [
    "### 1.3 Results of Top Performanced Classifiers"
   ]
  },
  {
   "cell_type": "code",
   "execution_count": 29,
   "metadata": {},
   "outputs": [
    {
     "name": "stdout",
     "output_type": "stream",
     "text": [
      "RandomForestClassifier CV-5: Accuracy: 0.96761,Precision: 0.95897,Recall: 0.90128,F1 Score: 0.92348\n",
      "ExtraTreesClassifier CV-5: Accuracy: 0.96359,Precision: 0.95369,Recall: 0.91053,F1 Score: 0.92803\n",
      "MLPClassifier CV-5: Accuracy: 0.95927,Precision: 0.94213,Recall: 0.90707,F1 Score: 0.92053\n"
     ]
    }
   ],
   "source": [
    "kfold = StratifiedKFold(n_splits=5,random_state=200,shuffle=True)\n",
    "scoring = ('accuracy','precision_macro','recall_macro','f1_macro')\n",
    "\n",
    "classifiers = [\n",
    "    RandomForestClassifier(max_depth= None,max_features='auto',min_samples_leaf= 1,min_samples_split= 5,n_estimators= 100),\n",
    "    ExtraTreesClassifier(max_depth= None,max_features='log2',min_samples_leaf= 1,min_samples_split= 5,n_estimators= 150),\n",
    "    MLPClassifier(activation= 'relu',alpha= 0.0001,hidden_layer_sizes= (100,))\n",
    "]\n",
    "\n",
    "results_post_tune = list()\n",
    "\n",
    "for model in classifiers:\n",
    "    scores = cross_validate(model, X_train, y_train, cv=kfold, scoring= scoring, n_jobs = -1)\n",
    "    sorted(scores.keys())\n",
    "    accuracy = scores['test_accuracy'].mean()\n",
    "    precision_macro = scores['test_precision_macro'].mean()\n",
    "    recall_macro = scores['test_recall_macro'].mean()\n",
    "    f1_macro = scores['test_f1_macro'].mean()\n",
    "    score_description = 'Accuracy: {},Precision: {},Recall: {},F1 Score: {}'.format(round(accuracy,5),round(precision_macro,5),\n",
    "                                                                                    round(recall_macro,5),round(f1_macro,5))\n",
    "    results_post_tune.append({'accuracy':accuracy ,'precision':precision_macro, 'recall':recall_macro ,'f1_score':f1_macro})\n",
    "    print('{} CV-5: {}'.format(model.__class__.__name__,score_description))"
   ]
  },
  {
   "cell_type": "code",
   "execution_count": 30,
   "metadata": {},
   "outputs": [
    {
     "data": {
      "image/png": "[encoded data removed]",
      "text/plain": [
       "<Figure size 720x432 with 1 Axes>"
      ]
     },
     "metadata": {
      "needs_background": "light"
     },
     "output_type": "display_data"
    }
   ],
   "source": [
    "a = pd.DataFrame(results_post_tune)\n",
    "model = ['RandomForestClassifier','LogisticRegression','ExtraTreesClassifier','MLPClassifier']\n",
    "\n",
    "fig, ax = plt.subplots(figsize=(10,6))\n",
    "width = 0.2\n",
    "\n",
    "# Plot the score of each model\n",
    "X = np.arange(4)\n",
    "plt.bar(X + 0.00, a.loc[0]*100, color = 'lightblue', width = width,label=model[0])\n",
    "plt.bar(X + width, a.loc[1]*100, color = 'cornflowerblue', width = width,label=model[1])\n",
    "plt.bar(X + width*2, a.loc[2]*100, color = 'midnightblue', width = width,label=model[2])\n",
    "\n",
    "ax.set_xticks([0.2,1.2,2.2,3.2])\n",
    "ax.set_xticklabels(a.columns)\n",
    "plt.xlabel('Evaluation Variables')\n",
    "plt.ylabel('Score')\n",
    "plt.title(\"Performance of Top 3 Models in Hybrid Approach after Fine Tuning\")\n",
    "plt.legend(loc='lower right')\n",
    "\n",
    "plt.savefig(r'Performance of Top 3 Models in Hybrid Approach after Fine Tuning_Hybrid.png',bbox_inches='tight')"
   ]
  },
  {
   "cell_type": "markdown",
   "metadata": {},
   "source": [
    " "
   ]
  },
  {
   "cell_type": "markdown",
   "metadata": {},
   "source": [
    " "
   ]
  }
 ],
 "metadata": {
  "kernelspec": {
   "display_name": "Python [conda env:Python3]",
   "language": "python",
   "name": "conda-env-Python3-py"
  },
  "language_info": {
   "codemirror_mode": {
    "name": "ipython",
    "version": 3
   },
   "file_extension": ".py",
   "mimetype": "text/x-python",
   "name": "python",
   "nbconvert_exporter": "python",
   "pygments_lexer": "ipython3",
   "version": "3.6.10"
  }
 },
 "nbformat": 4,
 "nbformat_minor": 2
}
